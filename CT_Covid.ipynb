{
  "nbformat": 4,
  "nbformat_minor": 0,
  "metadata": {
    "accelerator": "GPU",
    "colab": {
      "name": "Copy of Covid.ipynb",
      "provenance": [],
      "collapsed_sections": [],
      "machine_shape": "hm"
    },
    "kernelspec": {
      "display_name": "Python 3",
      "name": "python3"
    }
  },
  "cells": [
    {
      "cell_type": "code",
      "metadata": {
        "id": "gcEjUamfuGAq",
        "colab": {
          "base_uri": "https://localhost:8080/"
        },
        "outputId": "d7245007-1a57-4d8c-87f8-b7e000c4a65d"
      },
      "source": [
        "# install torchio and shap dependecies\n",
        "!pip install --quiet --upgrade torchio\n",
        "!pip install shap"
      ],
      "execution_count": null,
      "outputs": [
        {
          "output_type": "stream",
          "text": [
            "Requirement already satisfied: shap in /usr/local/lib/python3.7/dist-packages (0.39.0)\n",
            "Requirement already satisfied: pandas in /usr/local/lib/python3.7/dist-packages (from shap) (1.1.5)\n",
            "Requirement already satisfied: scikit-learn in /usr/local/lib/python3.7/dist-packages (from shap) (0.22.2.post1)\n",
            "Requirement already satisfied: slicer==0.0.7 in /usr/local/lib/python3.7/dist-packages (from shap) (0.0.7)\n",
            "Requirement already satisfied: numba in /usr/local/lib/python3.7/dist-packages (from shap) (0.51.2)\n",
            "Requirement already satisfied: numpy in /usr/local/lib/python3.7/dist-packages (from shap) (1.19.5)\n",
            "Requirement already satisfied: cloudpickle in /usr/local/lib/python3.7/dist-packages (from shap) (1.3.0)\n",
            "Requirement already satisfied: scipy in /usr/local/lib/python3.7/dist-packages (from shap) (1.4.1)\n",
            "Requirement already satisfied: tqdm>4.25.0 in /usr/local/lib/python3.7/dist-packages (from shap) (4.41.1)\n",
            "Requirement already satisfied: pytz>=2017.2 in /usr/local/lib/python3.7/dist-packages (from pandas->shap) (2018.9)\n",
            "Requirement already satisfied: python-dateutil>=2.7.3 in /usr/local/lib/python3.7/dist-packages (from pandas->shap) (2.8.1)\n",
            "Requirement already satisfied: joblib>=0.11 in /usr/local/lib/python3.7/dist-packages (from scikit-learn->shap) (1.0.1)\n",
            "Requirement already satisfied: setuptools in /usr/local/lib/python3.7/dist-packages (from numba->shap) (57.0.0)\n",
            "Requirement already satisfied: llvmlite<0.35,>=0.34.0.dev0 in /usr/local/lib/python3.7/dist-packages (from numba->shap) (0.34.0)\n",
            "Requirement already satisfied: six>=1.5 in /usr/local/lib/python3.7/dist-packages (from python-dateutil>=2.7.3->pandas->shap) (1.15.0)\n"
          ],
          "name": "stdout"
        }
      ]
    },
    {
      "cell_type": "code",
      "metadata": {
        "id": "ma-A3s9wCyy2",
        "colab": {
          "base_uri": "https://localhost:8080/"
        },
        "outputId": "b196bd68-a905-4a6f-da3a-246c34df3857"
      },
      "source": [
        "import os\n",
        "try:\n",
        "  os.makedirs('CT_Onco')\n",
        "  os.chdir('CT_Onco')\n",
        "except Exception as e:\n",
        "  print(e)"
      ],
      "execution_count": null,
      "outputs": [
        {
          "output_type": "stream",
          "text": [
            "[Errno 17] File exists: 'CT_Onco'\n"
          ],
          "name": "stdout"
        }
      ]
    },
    {
      "cell_type": "code",
      "metadata": {
        "id": "wrAcVM-9Ic2k"
      },
      "source": [
        "!tar -xvzf XXX/CT_COVID/Medie.tar.gz"
      ],
      "execution_count": null,
      "outputs": []
    },
    {
      "cell_type": "markdown",
      "metadata": {
        "id": "eJU1sPNuZLJv"
      },
      "source": [
        "Importo tutte le librerie necessarie"
      ]
    },
    {
      "cell_type": "code",
      "metadata": {
        "id": "fwHVjHhrnZTu"
      },
      "source": [
        "#CUDA_LAUNCH_BLOCKING=1\n",
        "import h5py\n",
        "import tempfile\n",
        "import os\n",
        "import pandas as pd\n",
        "from pathlib import Path\n",
        "import numpy as np\n",
        "import matplotlib.pyplot as plt\n",
        "from tqdm import tqdm\n",
        "import nibabel as nib\n",
        "import cv2\n",
        "# librerie pytorch\n",
        "import torch\n",
        "import torch.nn as nn\n",
        "import torch.nn.functional as F\n",
        "import torch.optim\n",
        "from torch.optim import Adam\n",
        "from torch.utils import data\n",
        "import torch.utils.data as utils\n",
        "from torch.utils.data import Dataset\n",
        "\n",
        "from scipy import stats\n",
        "import time\n",
        "from google.colab import widgets\n",
        "import torch.nn.init as init\n",
        "import torchio\n",
        "from torchio import AFFINE, DATA, PATH, TYPE, STEM\n",
        "import SimpleITK as sitk\n",
        "import copy"
      ],
      "execution_count": null,
      "outputs": []
    },
    {
      "cell_type": "code",
      "metadata": {
        "id": "YGiauHOvA8CF",
        "colab": {
          "base_uri": "https://localhost:8080/"
        },
        "outputId": "736f9c26-cdfb-4b10-da80-724e92381fbf"
      },
      "source": [
        "os.chdir('/content')\n",
        "os.listdir('CT_Onco')"
      ],
      "execution_count": null,
      "outputs": [
        {
          "output_type": "execute_result",
          "data": {
            "text/plain": [
              "['Medie']"
            ]
          },
          "metadata": {
            "tags": []
          },
          "execution_count": 108
        }
      ]
    },
    {
      "cell_type": "code",
      "metadata": {
        "id": "c-nmLF_Iuf_l"
      },
      "source": [
        "# Function for visualization during training\n",
        "def show_nifti(image_path_or_image, colormap='gray'):\n",
        "    try:\n",
        "        from niwidgets import NiftiWidget\n",
        "        with warnings.catch_warnings():\n",
        "            warnings.filterwarnings(\"ignore\", category=FutureWarning)\n",
        "            widget = NiftiWidget(image_path_or_image)\n",
        "            widget.nifti_plotter(colormap=colormap)\n",
        "    except Exception:\n",
        "        if isinstance(image_path_or_image, nib.AnalyzeImage):\n",
        "            nii = image_path_or_image\n",
        "        else:\n",
        "            image_path = image_path_or_image\n",
        "            nii = nib.load(str(image_path))\n",
        "        k = int(nii.shape[-1] / 2)\n",
        "        plt.imshow(nii.dataobj[..., k], cmap=colormap)\n",
        "\n",
        "def show_sample(sample, image_name, label_name=None):\n",
        "    if label_name is not None:\n",
        "        sample = copy.deepcopy(sample)\n",
        "        image_tensor = sample[image_name][DATA][0]\n",
        "    with tempfile.NamedTemporaryFile(suffix='.nii') as f:\n",
        "        show_nifti(f.name)\n",
        "\n",
        "def plot_histogram(axis, tensor, num_positions=100, label=None, alpha=0.05, color=None):\n",
        "    values = tensor.numpy().ravel()\n",
        "    kernel = stats.gaussian_kde(values)\n",
        "    positions = np.linspace(values.min(), values.max(), num=num_positions)\n",
        "    histogram = kernel(positions)\n",
        "    kwargs = dict(linewidth=1, color='black' if color is None else color, alpha=alpha)\n",
        "    if label is not None:\n",
        "        kwargs['label'] = label\n",
        "    axis.plot(positions, histogram, **kwargs)"
      ],
      "execution_count": null,
      "outputs": []
    },
    {
      "cell_type": "code",
      "metadata": {
        "id": "j8bCMcKQKxej"
      },
      "source": [
        "images_dir = 'CT_Onco/Medie/'"
      ],
      "execution_count": null,
      "outputs": []
    },
    {
      "cell_type": "code",
      "metadata": {
        "id": "48G9LEloeRQj"
      },
      "source": [
        "# import dataset with tabular data and output\n",
        "df_completo = pd.read_csv('drive/My Drive/CT_FINE/pz_covid_MATTEO_non_norm_2.csv')\n",
        "df_completo = df_completo.replace({'ESITO': {'good': 0, 'bad': 1}})"
      ],
      "execution_count": null,
      "outputs": []
    },
    {
      "cell_type": "code",
      "metadata": {
        "id": "X9zZJtjA3AT4"
      },
      "source": [
        "df_LDH_CT = df_completo.dropna(subset=['LDH'])"
      ],
      "execution_count": null,
      "outputs": []
    },
    {
      "cell_type": "code",
      "metadata": {
        "id": "96aFUJqu5Rh2"
      },
      "source": [
        "df_test_finale = df_LDH_CT.sample(frac = 0.2, random_state=109364524) "
      ],
      "execution_count": null,
      "outputs": []
    },
    {
      "cell_type": "code",
      "metadata": {
        "id": "awKLJCFj3E2v"
      },
      "source": [
        "df_train = df_LDH.drop(df_test_finale.index)"
      ],
      "execution_count": null,
      "outputs": []
    },
    {
      "cell_type": "code",
      "metadata": {
        "colab": {
          "base_uri": "https://localhost:8080/"
        },
        "id": "xGKDCUIrDnpE",
        "outputId": "ae397522-0af4-413d-ee7f-384200420b53"
      },
      "source": [
        "df_train.shape"
      ],
      "execution_count": null,
      "outputs": [
        {
          "output_type": "execute_result",
          "data": {
            "text/plain": [
              "(774, 43)"
            ]
          },
          "metadata": {
            "tags": []
          },
          "execution_count": 118
        }
      ]
    },
    {
      "cell_type": "code",
      "metadata": {
        "id": "tADJTjdMXU98",
        "colab": {
          "base_uri": "https://localhost:8080/"
        },
        "outputId": "fe9253d6-8ef8-4f6c-fc8f-84bfa5a42579"
      },
      "source": [
        "df_test_finale.shape"
      ],
      "execution_count": null,
      "outputs": [
        {
          "output_type": "execute_result",
          "data": {
            "text/plain": [
              "(193, 43)"
            ]
          },
          "metadata": {
            "tags": []
          },
          "execution_count": 117
        }
      ]
    },
    {
      "cell_type": "code",
      "metadata": {
        "id": "fmhv4gHb58rC"
      },
      "source": [
        "df_train = pd.concat([df_test_finale, df_completo]).drop_duplicates(keep = False)"
      ],
      "execution_count": null,
      "outputs": []
    },
    {
      "cell_type": "code",
      "metadata": {
        "colab": {
          "base_uri": "https://localhost:8080/"
        },
        "id": "eIHPe-LeD0pu",
        "outputId": "9c68c5b5-33ee-415c-bf79-11bccc1ca588"
      },
      "source": [
        "df_train.shape"
      ],
      "execution_count": null,
      "outputs": [
        {
          "output_type": "execute_result",
          "data": {
            "text/plain": [
              "(774, 43)"
            ]
          },
          "metadata": {
            "tags": []
          },
          "execution_count": 120
        }
      ]
    },
    {
      "cell_type": "code",
      "metadata": {
        "id": "prcny1IX5-QW"
      },
      "source": [
        "df_validation = df_train.sample(frac = 0.1, random_state=203040) "
      ],
      "execution_count": null,
      "outputs": []
    },
    {
      "cell_type": "code",
      "metadata": {
        "id": "wM9E07xS6Aa8"
      },
      "source": [
        "# delete validation data from df_train\n",
        "df_train = pd.concat([df_train, df_validation]).drop_duplicates(keep = False)"
      ],
      "execution_count": null,
      "outputs": []
    },
    {
      "cell_type": "code",
      "metadata": {
        "id": "wrvBznbJ3TKF",
        "colab": {
          "base_uri": "https://localhost:8080/"
        },
        "outputId": "87b0b661-a0c5-45f6-dc74-4c82ea211598"
      },
      "source": [
        "df_train.shape"
      ],
      "execution_count": null,
      "outputs": [
        {
          "output_type": "execute_result",
          "data": {
            "text/plain": [
              "(774, 43)"
            ]
          },
          "metadata": {
            "tags": []
          },
          "execution_count": 127
        }
      ]
    },
    {
      "cell_type": "code",
      "metadata": {
        "id": "lQHit_uO9Xyr"
      },
      "source": [
        "df_test = df_test_finale"
      ],
      "execution_count": null,
      "outputs": []
    },
    {
      "cell_type": "code",
      "metadata": {
        "id": "-RrU3Cc5Z8QN",
        "colab": {
          "base_uri": "https://localhost:8080/",
          "height": 224
        },
        "outputId": "c650bbb9-147a-4298-ecbd-c0f790781898"
      },
      "source": [
        "df_train.head()"
      ],
      "execution_count": null,
      "outputs": [
        {
          "output_type": "execute_result",
          "data": {
            "text/html": [
              "<div>\n",
              "<style scoped>\n",
              "    .dataframe tbody tr th:only-of-type {\n",
              "        vertical-align: middle;\n",
              "    }\n",
              "\n",
              "    .dataframe tbody tr th {\n",
              "        vertical-align: top;\n",
              "    }\n",
              "\n",
              "    .dataframe thead th {\n",
              "        text-align: right;\n",
              "    }\n",
              "</style>\n",
              "<table border=\"1\" class=\"dataframe\">\n",
              "  <thead>\n",
              "    <tr style=\"text-align: right;\">\n",
              "      <th></th>\n",
              "      <th>id_paziente</th>\n",
              "      <th>ESITO</th>\n",
              "      <th>sesso</th>\n",
              "      <th>eta</th>\n",
              "      <th>bmi</th>\n",
              "      <th>Diabete</th>\n",
              "      <th>Ipertensione</th>\n",
              "      <th>Cardiopatia</th>\n",
              "      <th>Coronaropatia</th>\n",
              "      <th>Oncologico</th>\n",
              "      <th>RDW</th>\n",
              "      <th>HCT</th>\n",
              "      <th>Hb</th>\n",
              "      <th>RBC</th>\n",
              "      <th>GranulocitiBasofiliPerc</th>\n",
              "      <th>GranulocitiEosinofiliPerc</th>\n",
              "      <th>GranulocitiNeutrofiliPerc</th>\n",
              "      <th>WBC</th>\n",
              "      <th>LinfocitiPerc</th>\n",
              "      <th>MonocitiPerc</th>\n",
              "      <th>PLT</th>\n",
              "      <th>VES</th>\n",
              "      <th>Albumina</th>\n",
              "      <th>AST</th>\n",
              "      <th>ALT</th>\n",
              "      <th>BilirubinaTot</th>\n",
              "      <th>CK</th>\n",
              "      <th>Creatinina</th>\n",
              "      <th>LDH</th>\n",
              "      <th>PCR</th>\n",
              "      <th>Urea</th>\n",
              "      <th>Potassio</th>\n",
              "      <th>Sodio</th>\n",
              "      <th>HCO3</th>\n",
              "      <th>Lac</th>\n",
              "      <th>pCO2</th>\n",
              "      <th>pO2FiO2</th>\n",
              "      <th>sO2</th>\n",
              "      <th>FCing</th>\n",
              "      <th>PASing</th>\n",
              "      <th>PADing</th>\n",
              "      <th>TCing</th>\n",
              "      <th>PT_INR</th>\n",
              "    </tr>\n",
              "  </thead>\n",
              "  <tbody>\n",
              "    <tr>\n",
              "      <th>1</th>\n",
              "      <td>2000000808</td>\n",
              "      <td>1</td>\n",
              "      <td>0</td>\n",
              "      <td>76</td>\n",
              "      <td>NaN</td>\n",
              "      <td>1</td>\n",
              "      <td>1</td>\n",
              "      <td>0</td>\n",
              "      <td>0</td>\n",
              "      <td>0</td>\n",
              "      <td>13.8</td>\n",
              "      <td>38.9</td>\n",
              "      <td>12.5</td>\n",
              "      <td>3.71</td>\n",
              "      <td>0.45</td>\n",
              "      <td>0.08</td>\n",
              "      <td>67.5</td>\n",
              "      <td>4.21</td>\n",
              "      <td>26.00</td>\n",
              "      <td>5.96</td>\n",
              "      <td>250</td>\n",
              "      <td>55.0</td>\n",
              "      <td>3.2</td>\n",
              "      <td>80.0</td>\n",
              "      <td>60.0</td>\n",
              "      <td>0.3</td>\n",
              "      <td>416.0</td>\n",
              "      <td>0.87</td>\n",
              "      <td>619</td>\n",
              "      <td>94.9</td>\n",
              "      <td>33.0</td>\n",
              "      <td>4.2</td>\n",
              "      <td>142</td>\n",
              "      <td>29.0</td>\n",
              "      <td>0.9</td>\n",
              "      <td>44</td>\n",
              "      <td>170</td>\n",
              "      <td>70.1</td>\n",
              "      <td>78.0</td>\n",
              "      <td>112.0</td>\n",
              "      <td>62.0</td>\n",
              "      <td>36.5</td>\n",
              "      <td>1.05</td>\n",
              "    </tr>\n",
              "    <tr>\n",
              "      <th>2</th>\n",
              "      <td>2000000839</td>\n",
              "      <td>0</td>\n",
              "      <td>0</td>\n",
              "      <td>73</td>\n",
              "      <td>28.5</td>\n",
              "      <td>0</td>\n",
              "      <td>1</td>\n",
              "      <td>1</td>\n",
              "      <td>0</td>\n",
              "      <td>0</td>\n",
              "      <td>11.5</td>\n",
              "      <td>37.7</td>\n",
              "      <td>12.9</td>\n",
              "      <td>4.04</td>\n",
              "      <td>0.00</td>\n",
              "      <td>0.07</td>\n",
              "      <td>77.7</td>\n",
              "      <td>5.00</td>\n",
              "      <td>14.20</td>\n",
              "      <td>8.01</td>\n",
              "      <td>209</td>\n",
              "      <td>73.0</td>\n",
              "      <td>3.2</td>\n",
              "      <td>51.0</td>\n",
              "      <td>40.0</td>\n",
              "      <td>0.7</td>\n",
              "      <td>59.0</td>\n",
              "      <td>0.76</td>\n",
              "      <td>295</td>\n",
              "      <td>192.1</td>\n",
              "      <td>29.0</td>\n",
              "      <td>3.3</td>\n",
              "      <td>136</td>\n",
              "      <td>24.1</td>\n",
              "      <td>0.8</td>\n",
              "      <td>33</td>\n",
              "      <td>430</td>\n",
              "      <td>98.2</td>\n",
              "      <td>100.0</td>\n",
              "      <td>142.0</td>\n",
              "      <td>88.0</td>\n",
              "      <td>37.5</td>\n",
              "      <td>1.03</td>\n",
              "    </tr>\n",
              "    <tr>\n",
              "      <th>5</th>\n",
              "      <td>2000001823</td>\n",
              "      <td>1</td>\n",
              "      <td>0</td>\n",
              "      <td>84</td>\n",
              "      <td>23.4</td>\n",
              "      <td>0</td>\n",
              "      <td>1</td>\n",
              "      <td>1</td>\n",
              "      <td>0</td>\n",
              "      <td>0</td>\n",
              "      <td>13.3</td>\n",
              "      <td>42.7</td>\n",
              "      <td>13.8</td>\n",
              "      <td>4.53</td>\n",
              "      <td>0.00</td>\n",
              "      <td>0.14</td>\n",
              "      <td>92.2</td>\n",
              "      <td>7.96</td>\n",
              "      <td>5.94</td>\n",
              "      <td>1.73</td>\n",
              "      <td>181</td>\n",
              "      <td>44.0</td>\n",
              "      <td>2.5</td>\n",
              "      <td>37.0</td>\n",
              "      <td>7.0</td>\n",
              "      <td>0.6</td>\n",
              "      <td>28.0</td>\n",
              "      <td>1.57</td>\n",
              "      <td>496</td>\n",
              "      <td>197.9</td>\n",
              "      <td>107.0</td>\n",
              "      <td>4.2</td>\n",
              "      <td>138</td>\n",
              "      <td>24.4</td>\n",
              "      <td>2.2</td>\n",
              "      <td>37</td>\n",
              "      <td>67</td>\n",
              "      <td>91.9</td>\n",
              "      <td>90.0</td>\n",
              "      <td>133.0</td>\n",
              "      <td>81.0</td>\n",
              "      <td>36.5</td>\n",
              "      <td>1.34</td>\n",
              "    </tr>\n",
              "    <tr>\n",
              "      <th>7</th>\n",
              "      <td>2000006143</td>\n",
              "      <td>1</td>\n",
              "      <td>1</td>\n",
              "      <td>91</td>\n",
              "      <td>24.5</td>\n",
              "      <td>1</td>\n",
              "      <td>0</td>\n",
              "      <td>1</td>\n",
              "      <td>0</td>\n",
              "      <td>0</td>\n",
              "      <td>13.6</td>\n",
              "      <td>36.5</td>\n",
              "      <td>11.5</td>\n",
              "      <td>3.88</td>\n",
              "      <td>0.30</td>\n",
              "      <td>0.17</td>\n",
              "      <td>73.8</td>\n",
              "      <td>9.83</td>\n",
              "      <td>16.70</td>\n",
              "      <td>9.06</td>\n",
              "      <td>92</td>\n",
              "      <td>NaN</td>\n",
              "      <td>NaN</td>\n",
              "      <td>16.0</td>\n",
              "      <td>7.0</td>\n",
              "      <td>0.8</td>\n",
              "      <td>57.0</td>\n",
              "      <td>1.10</td>\n",
              "      <td>164</td>\n",
              "      <td>60.8</td>\n",
              "      <td>50.0</td>\n",
              "      <td>4.0</td>\n",
              "      <td>140</td>\n",
              "      <td>23.6</td>\n",
              "      <td>1.1</td>\n",
              "      <td>33</td>\n",
              "      <td>352</td>\n",
              "      <td>96.0</td>\n",
              "      <td>62.0</td>\n",
              "      <td>134.0</td>\n",
              "      <td>59.0</td>\n",
              "      <td>38.5</td>\n",
              "      <td>NaN</td>\n",
              "    </tr>\n",
              "    <tr>\n",
              "      <th>8</th>\n",
              "      <td>2000006283</td>\n",
              "      <td>0</td>\n",
              "      <td>1</td>\n",
              "      <td>78</td>\n",
              "      <td>24.2</td>\n",
              "      <td>0</td>\n",
              "      <td>0</td>\n",
              "      <td>0</td>\n",
              "      <td>0</td>\n",
              "      <td>0</td>\n",
              "      <td>11.9</td>\n",
              "      <td>37.3</td>\n",
              "      <td>12.3</td>\n",
              "      <td>4.29</td>\n",
              "      <td>0.33</td>\n",
              "      <td>0.02</td>\n",
              "      <td>88.3</td>\n",
              "      <td>9.88</td>\n",
              "      <td>8.11</td>\n",
              "      <td>3.20</td>\n",
              "      <td>193</td>\n",
              "      <td>65.0</td>\n",
              "      <td>3.0</td>\n",
              "      <td>66.0</td>\n",
              "      <td>35.0</td>\n",
              "      <td>0.7</td>\n",
              "      <td>144.0</td>\n",
              "      <td>0.89</td>\n",
              "      <td>309</td>\n",
              "      <td>207.7</td>\n",
              "      <td>67.0</td>\n",
              "      <td>4.2</td>\n",
              "      <td>139</td>\n",
              "      <td>25.5</td>\n",
              "      <td>1.0</td>\n",
              "      <td>36</td>\n",
              "      <td>302</td>\n",
              "      <td>96.8</td>\n",
              "      <td>73.0</td>\n",
              "      <td>117.0</td>\n",
              "      <td>63.0</td>\n",
              "      <td>37.4</td>\n",
              "      <td>1.14</td>\n",
              "    </tr>\n",
              "  </tbody>\n",
              "</table>\n",
              "</div>"
            ],
            "text/plain": [
              "   id_paziente  ESITO  sesso  eta   bmi  ...  FCing  PASing  PADing  TCing  PT_INR\n",
              "1   2000000808      1      0   76   NaN  ...   78.0   112.0    62.0   36.5    1.05\n",
              "2   2000000839      0      0   73  28.5  ...  100.0   142.0    88.0   37.5    1.03\n",
              "5   2000001823      1      0   84  23.4  ...   90.0   133.0    81.0   36.5    1.34\n",
              "7   2000006143      1      1   91  24.5  ...   62.0   134.0    59.0   38.5     NaN\n",
              "8   2000006283      0      1   78  24.2  ...   73.0   117.0    63.0   37.4    1.14\n",
              "\n",
              "[5 rows x 43 columns]"
            ]
          },
          "metadata": {
            "tags": []
          },
          "execution_count": 129
        }
      ]
    },
    {
      "cell_type": "code",
      "metadata": {
        "id": "FHa0lh4qKyTg"
      },
      "source": [
        "for id in df_train.id_paziente:\n",
        "  for id_v in df_validation.id_paziente:\n",
        "    if id == id_v:\n",
        "      print(id)"
      ],
      "execution_count": null,
      "outputs": []
    },
    {
      "cell_type": "code",
      "metadata": {
        "id": "99IuKBdGkpYa"
      },
      "source": [
        "data_totale = os.listdir(images_dir)\n",
        "data_totale_no_doppi = []\n",
        "dati_no_doppi = []\n",
        "for i, path in enumerate(os.listdir(images_dir)):\n",
        "  dati = path.split('_')[0].split('.')[0]\n",
        "  if dati not in dati_no_doppi:\n",
        "    dati_no_doppi.append(dati)\n",
        "    data_totale_no_doppi.append(data_totale[i])"
      ],
      "execution_count": null,
      "outputs": []
    },
    {
      "cell_type": "code",
      "metadata": {
        "id": "vufWURYyk2qA"
      },
      "source": [
        "label_train = df_train.loc[df_train['id_paziente'].isin(dati_no_doppi)]\n",
        "label_validation = df_validation.loc[df_validation['id_paziente'].isin(dati_no_doppi)]"
      ],
      "execution_count": null,
      "outputs": []
    },
    {
      "cell_type": "code",
      "metadata": {
        "id": "aP0mUQH4lIUr",
        "colab": {
          "base_uri": "https://localhost:8080/",
          "height": 100
        },
        "outputId": "96e209dd-2f4d-4f34-814f-9a77ff83624d"
      },
      "source": [
        "label_train = label_train.drop_duplicates(subset =\"id_paziente\") \n",
        "label_validation = label_validation.drop_duplicates(subset =\"id_paziente\") \n",
        "df_train.loc[df_train['id_paziente'] == int(2010036318)]"
      ],
      "execution_count": null,
      "outputs": [
        {
          "output_type": "execute_result",
          "data": {
            "text/html": [
              "<div>\n",
              "<style scoped>\n",
              "    .dataframe tbody tr th:only-of-type {\n",
              "        vertical-align: middle;\n",
              "    }\n",
              "\n",
              "    .dataframe tbody tr th {\n",
              "        vertical-align: top;\n",
              "    }\n",
              "\n",
              "    .dataframe thead th {\n",
              "        text-align: right;\n",
              "    }\n",
              "</style>\n",
              "<table border=\"1\" class=\"dataframe\">\n",
              "  <thead>\n",
              "    <tr style=\"text-align: right;\">\n",
              "      <th></th>\n",
              "      <th>id_paziente</th>\n",
              "      <th>ESITO</th>\n",
              "      <th>sesso</th>\n",
              "      <th>eta</th>\n",
              "      <th>bmi</th>\n",
              "      <th>Diabete</th>\n",
              "      <th>Ipertensione</th>\n",
              "      <th>Cardiopatia</th>\n",
              "      <th>Coronaropatia</th>\n",
              "      <th>Oncologico</th>\n",
              "      <th>RDW</th>\n",
              "      <th>HCT</th>\n",
              "      <th>Hb</th>\n",
              "      <th>RBC</th>\n",
              "      <th>GranulocitiBasofiliPerc</th>\n",
              "      <th>GranulocitiEosinofiliPerc</th>\n",
              "      <th>GranulocitiNeutrofiliPerc</th>\n",
              "      <th>WBC</th>\n",
              "      <th>LinfocitiPerc</th>\n",
              "      <th>MonocitiPerc</th>\n",
              "      <th>PLT</th>\n",
              "      <th>VES</th>\n",
              "      <th>Albumina</th>\n",
              "      <th>AST</th>\n",
              "      <th>ALT</th>\n",
              "      <th>BilirubinaTot</th>\n",
              "      <th>CK</th>\n",
              "      <th>Creatinina</th>\n",
              "      <th>LDH</th>\n",
              "      <th>PCR</th>\n",
              "      <th>Urea</th>\n",
              "      <th>Potassio</th>\n",
              "      <th>Sodio</th>\n",
              "      <th>HCO3</th>\n",
              "      <th>Lac</th>\n",
              "      <th>pCO2</th>\n",
              "      <th>pO2FiO2</th>\n",
              "      <th>sO2</th>\n",
              "      <th>FCing</th>\n",
              "      <th>PASing</th>\n",
              "      <th>PADing</th>\n",
              "      <th>TCing</th>\n",
              "      <th>PT_INR</th>\n",
              "    </tr>\n",
              "  </thead>\n",
              "  <tbody>\n",
              "    <tr>\n",
              "      <th>382</th>\n",
              "      <td>2010036318</td>\n",
              "      <td>1</td>\n",
              "      <td>1</td>\n",
              "      <td>84</td>\n",
              "      <td>26.0</td>\n",
              "      <td>0</td>\n",
              "      <td>1</td>\n",
              "      <td>1</td>\n",
              "      <td>0</td>\n",
              "      <td>0</td>\n",
              "      <td>13.6</td>\n",
              "      <td>39.5</td>\n",
              "      <td>12.9</td>\n",
              "      <td>4.35</td>\n",
              "      <td>0.0</td>\n",
              "      <td>0.02</td>\n",
              "      <td>89.5</td>\n",
              "      <td>8.05</td>\n",
              "      <td>5.98</td>\n",
              "      <td>4.52</td>\n",
              "      <td>176</td>\n",
              "      <td>81.0</td>\n",
              "      <td>2.9</td>\n",
              "      <td>62.0</td>\n",
              "      <td>62.0</td>\n",
              "      <td>0.4</td>\n",
              "      <td>98.0</td>\n",
              "      <td>0.84</td>\n",
              "      <td>528</td>\n",
              "      <td>242.4</td>\n",
              "      <td>62.0</td>\n",
              "      <td>4.7</td>\n",
              "      <td>142</td>\n",
              "      <td>22.8</td>\n",
              "      <td>1.9</td>\n",
              "      <td>28</td>\n",
              "      <td>193</td>\n",
              "      <td>82.2</td>\n",
              "      <td>87.0</td>\n",
              "      <td>137.0</td>\n",
              "      <td>75.0</td>\n",
              "      <td>37.2</td>\n",
              "      <td>1.2</td>\n",
              "    </tr>\n",
              "  </tbody>\n",
              "</table>\n",
              "</div>"
            ],
            "text/plain": [
              "     id_paziente  ESITO  sesso  eta   bmi  ...  FCing  PASing  PADing  TCing  PT_INR\n",
              "382   2010036318      1      1   84  26.0  ...   87.0   137.0    75.0   37.2     1.2\n",
              "\n",
              "[1 rows x 43 columns]"
            ]
          },
          "metadata": {
            "tags": []
          },
          "execution_count": 91
        }
      ]
    },
    {
      "cell_type": "code",
      "metadata": {
        "id": "WTCrEdvDUFcG"
      },
      "source": [
        "esiti_training = []\n",
        "esiti_validation = []"
      ],
      "execution_count": null,
      "outputs": []
    },
    {
      "cell_type": "code",
      "metadata": {
        "id": "K1X8tnP8lpQg"
      },
      "source": [
        "gravità_train = []\n",
        "id_tutti_train = []\n",
        "for dati in data_totale:\n",
        "  id_tutti_train.append(df_train.loc[df_train['id_paziente'] == int(dati.split('_')[0].split('.')[0])]['id_paziente'].values)\n",
        "  gravità_train.append(df_train.loc[df_train['id_paziente'] == int(dati.split('_')[0].split('.')[0])]['ESITO'].values)"
      ],
      "execution_count": null,
      "outputs": []
    },
    {
      "cell_type": "code",
      "metadata": {
        "id": "vsplQEur-wzI"
      },
      "source": [
        "gravità_validation = []\n",
        "id_tutti_validation = []\n",
        "for dati in data_totale:\n",
        "  id_tutti_validation.append(df_validation.loc[df_validation['id_paziente'] == int(dati.split('_')[0].split('.')[0])]['id_paziente'].values)\n",
        "  gravità_validation.append(df_validation.loc[df_validation['id_paziente'] == int(dati.split('_')[0].split('.')[0])]['ESITO'].values)"
      ],
      "execution_count": null,
      "outputs": []
    },
    {
      "cell_type": "code",
      "metadata": {
        "id": "W7YH76BD-9WF"
      },
      "source": [
        "grav_ok_train = []\n",
        "id_ok_train = []\n",
        "for idx, grav in enumerate(gravità_train):\n",
        "  try:\n",
        "    grav[0]\n",
        "    grav_ok_train.append(grav[0])\n",
        "    id_ok_train.append(id_tutti_train[idx][0])\n",
        "  except Exception as e:\n",
        "    print(e)"
      ],
      "execution_count": null,
      "outputs": []
    },
    {
      "cell_type": "code",
      "metadata": {
        "id": "0St4aqsCl6qS"
      },
      "source": [
        "grav_ok_validation = []\n",
        "id_ok_validation = []\n",
        "for idx, grav in enumerate(gravità_validation):\n",
        "  try:\n",
        "    grav[0]\n",
        "    grav_ok_validation.append(grav[0])\n",
        "    id_ok_validation.append(id_tutti_validation[idx][0])\n",
        "  except Exception as e:\n",
        "    print(e)"
      ],
      "execution_count": null,
      "outputs": []
    },
    {
      "cell_type": "code",
      "metadata": {
        "id": "2gWZBjdHYssl"
      },
      "source": [
        ""
      ],
      "execution_count": null,
      "outputs": []
    },
    {
      "cell_type": "code",
      "metadata": {
        "id": "3CzdoZZctpBk"
      },
      "source": [
        "MRI = 'Lung'\n",
        "LABEL = 'label'\n",
        "subjects_train = []\n",
        "for idx, image_path in enumerate(os.listdir(images_dir)):\n",
        "    try: \n",
        "        indexx = id_ok_train.index(int(image_path.split('.')[0]))\n",
        "        if (np.isnan(grav_ok_train[indexx])) == False:\n",
        "            subject_dict = {\n",
        "\n",
        "                MRI: torchio.Image(images_dir + image_path, torchio.INTENSITY),\n",
        "                'label': grav_ok_train[indexx],\n",
        "                'id': image_path.split('_')[0].split('.')[0]\n",
        "                \n",
        "            }\n",
        "            print(image_path)\n",
        "            print(grav_ok_train[indexx])\n",
        "            \n",
        "            subject = torchio.Subject(subject_dict)\n",
        "            subjects_train.append(subject)\n",
        "    except Exception as e:\n",
        "        print(e)\n",
        "dataset_training = torchio.SubjectsDataset(subjects_train)\n",
        "print('Dataset size:', len(dataset_training), 'subjects')"
      ],
      "execution_count": null,
      "outputs": []
    },
    {
      "cell_type": "code",
      "metadata": {
        "colab": {
          "base_uri": "https://localhost:8080/"
        },
        "id": "6_y-opuuCxkN",
        "outputId": "78f5ecbe-9000-471b-f29a-600d6a947542"
      },
      "source": [
        "print('Training ataset size:', len(dataset_training), 'subjects')"
      ],
      "execution_count": null,
      "outputs": [
        {
          "output_type": "stream",
          "text": [
            "Training ataset size: 415 subjects\n"
          ],
          "name": "stdout"
        }
      ]
    },
    {
      "cell_type": "code",
      "metadata": {
        "id": "cvSVNb8Cw9FI"
      },
      "source": [
        "MRI = 'Lung'\n",
        "LABEL = 'label'\n",
        "subjects_validation = []\n",
        "for idx, image_path in enumerate(os.listdir(images_dir)):\n",
        "    try: \n",
        "        indexx = id_ok_validation.index(int(image_path.split('.')[0].split('.')[0]))\n",
        "        if (np.isnan(grav_ok_validation[indexx])) == False:\n",
        "            subject_dict = {\n",
        "\n",
        "                MRI: torchio.Image(images_dir + image_path, torchio.INTENSITY),\n",
        "                'label': grav_ok_validation[indexx],\n",
        "                'id': image_path.split('_')[0].split('.')[0]\n",
        "                \n",
        "            }\n",
        "            print(image_path)\n",
        "            print(grav_ok_validation[indexx])\n",
        "            \n",
        "            subject = torchio.Subject(subject_dict)\n",
        "            subjects_validation.append(subject)\n",
        "    except Exception as e:\n",
        "        print(e)\n",
        "dataset_validation = torchio.SubjectsDataset(subjects_validation)\n"
      ],
      "execution_count": null,
      "outputs": []
    },
    {
      "cell_type": "code",
      "metadata": {
        "colab": {
          "base_uri": "https://localhost:8080/"
        },
        "id": "_4ffuHFMC1v3",
        "outputId": "b7e46bad-aba7-4a2d-80e6-344cf460ee6d"
      },
      "source": [
        "print('Validation dataset size:', len(dataset_validation), 'subjects')"
      ],
      "execution_count": null,
      "outputs": [
        {
          "output_type": "stream",
          "text": [
            "Validation dataset size: 38 subjects\n"
          ],
          "name": "stdout"
        }
      ]
    },
    {
      "cell_type": "code",
      "metadata": {
        "id": "ea_GfhawNltW",
        "colab": {
          "base_uri": "https://localhost:8080/"
        },
        "outputId": "46e61ad9-767c-4b9d-8670-05d605dc25b7"
      },
      "source": [
        "# Data augmentation using TorchIO\n",
        "from torchio.transforms import (\n",
        "    RandomFlip,\n",
        "    RandomAffine,\n",
        "    RandomElasticDeformation,\n",
        "    RandomNoise,\n",
        "    RandomMotion,\n",
        "    RandomBiasField,\n",
        "    RescaleIntensity,\n",
        "    Resample,\n",
        "    ToCanonical,\n",
        "    ZNormalization,\n",
        "    CropOrPad,\n",
        "    HistogramStandardization,\n",
        "    OneOf,\n",
        "    Compose,\n",
        ")\n",
        "training_transform = Compose([\n",
        "    RescaleIntensity((0, 1)),\n",
        "    #RandomNoise(),\n",
        "    #ToCanonical(),\n",
        "    OneOf({\n",
        "        RandomAffine(isotropic=True, scales=(0.9,0.9),degrees=10, default_pad_value='otsu', p=0.5),\n",
        "\n",
        "        RandomElasticDeformation(num_control_points=(7, 7, 7), max_displacement=10, p=0.5),\n",
        "    }),\n",
        "    \n",
        "    ZNormalization(masking_method=ZNormalization.mean),\n",
        "])\n",
        "\n",
        "validation_transform = Compose([\n",
        "    RescaleIntensity((0, 1)),\n",
        "    \n",
        "    ZNormalization(masking_method=ZNormalization.mean),\n",
        "])\n",
        "\n",
        "\n",
        "training_subjects = subjects_train\n",
        "validation_subjects = subjects_validation\n",
        "\n",
        "training_set = torchio.SubjectsDataset(\n",
        "    training_subjects, transform=training_transform)\n",
        "\n",
        "validation_set = torchio.SubjectsDataset(\n",
        "    validation_subjects, transform = validation_transform)\n",
        "\n",
        "print('Training set:', len(training_set), 'subjects')\n",
        "print('Validation set:', len(validation_set), 'subjects')"
      ],
      "execution_count": null,
      "outputs": [
        {
          "output_type": "stream",
          "text": [
            "Training set: 415 subjects\n",
            "Validation set: 38 subjects\n"
          ],
          "name": "stdout"
        }
      ]
    },
    {
      "cell_type": "code",
      "metadata": {
        "id": "rvHEe4n11G2h"
      },
      "source": [
        "# Counting element in class for weighted random sampler\n",
        "count_train = [0] * 2\n",
        "for idx, batch in enumerate(training_subjects):\n",
        "  print(batch['label'])\n",
        "  if (int(batch['label']) == 1):\n",
        "    item = 1\n",
        "  elif (int(batch['label']) == 0):\n",
        "    item = 0\n",
        "  count_train[item] += 1"
      ],
      "execution_count": null,
      "outputs": []
    },
    {
      "cell_type": "code",
      "metadata": {
        "id": "piNgE8yA1HjW"
      },
      "source": [
        "weight_per_class_train = [0.] * 2  \n",
        "N_train = float(sum(count_train))                                    "
      ],
      "execution_count": null,
      "outputs": []
    },
    {
      "cell_type": "code",
      "metadata": {
        "id": "UJKzWQrK1ZyU",
        "colab": {
          "base_uri": "https://localhost:8080/"
        },
        "outputId": "f608bf72-ef99-4016-c161-0038baac4cc7"
      },
      "source": [
        "count_train"
      ],
      "execution_count": null,
      "outputs": [
        {
          "output_type": "execute_result",
          "data": {
            "text/plain": [
              "[278, 137]"
            ]
          },
          "metadata": {
            "tags": []
          },
          "execution_count": 135
        }
      ]
    },
    {
      "cell_type": "code",
      "metadata": {
        "id": "_bTnPsee1JhQ",
        "colab": {
          "base_uri": "https://localhost:8080/"
        },
        "outputId": "fcc0abc8-4e9a-4551-e676-eed735c168b3"
      },
      "source": [
        "for i in range(2):                                                   \n",
        "        weight_per_class_train[i] = N_train/float(count_train[i]) \n",
        "print(int(N_train))\n",
        "weight_train = [0] * int(N_train)"
      ],
      "execution_count": null,
      "outputs": [
        {
          "output_type": "stream",
          "text": [
            "415\n"
          ],
          "name": "stdout"
        }
      ]
    },
    {
      "cell_type": "code",
      "metadata": {
        "id": "HOPdl5w91LD7"
      },
      "source": [
        "for idx, batch in enumerate(training_subjects):\n",
        "  if (batch['label'] == 1):\n",
        "    item = 1\n",
        "  elif (batch['label'] == 0):\n",
        "    item = 0\n",
        "  weight_train[idx] = weight_per_class_train[item]"
      ],
      "execution_count": null,
      "outputs": []
    },
    {
      "cell_type": "code",
      "metadata": {
        "id": "5YO_0f_91Mos",
        "colab": {
          "base_uri": "https://localhost:8080/"
        },
        "outputId": "cc4882cf-02a2-46e5-b8d7-98f8ecafa149"
      },
      "source": [
        "weight_per_class_train"
      ],
      "execution_count": null,
      "outputs": [
        {
          "output_type": "execute_result",
          "data": {
            "text/plain": [
              "[1.4928057553956835, 3.0291970802919708]"
            ]
          },
          "metadata": {
            "tags": []
          },
          "execution_count": 138
        }
      ]
    },
    {
      "cell_type": "code",
      "metadata": {
        "id": "N4sY5j2h1OPr"
      },
      "source": [
        "sampler_train = torch.utils.data.sampler.WeightedRandomSampler(weight_train, int(N_train)) "
      ],
      "execution_count": null,
      "outputs": []
    },
    {
      "cell_type": "code",
      "metadata": {
        "id": "ncbeOVXbwIuQ"
      },
      "source": [
        "# Define DataLoader\n",
        "train_loader = torch.utils.data.DataLoader(training_set, batch_size=4, sampler = sampler_train, drop_last=True)      \n",
        "validation_loader = torch.utils.data.DataLoader(validation_set, batch_size=4, drop_last=True, shuffle=True)  "
      ],
      "execution_count": null,
      "outputs": []
    },
    {
      "cell_type": "code",
      "metadata": {
        "id": "lrA6QaSbgLkY"
      },
      "source": [
        "# Model Architecture\n",
        "class Encoder(nn.Module):\n",
        "    def __init__(self):\n",
        "        super(Encoder, self).__init__()\n",
        "\n",
        "        self.gradients = None\n",
        "\n",
        "        self.conv1 = nn.Sequential(\n",
        "        \n",
        "          nn.Conv3d(1, 20, (3,3,3), bias=False),\n",
        "          nn.ReLU(),\n",
        "          nn.MaxPool3d((2, 2, 2)),\n",
        "          \n",
        "            )\n",
        "        \n",
        "        self.conv2 = nn.Sequential(\n",
        "        \n",
        "\n",
        "          nn.Conv3d(20, 40, (4,4,4), bias=False),\n",
        "          # pw-linear\n",
        "          nn.GroupNorm(5, 40),\n",
        "          nn.ReLU(),\n",
        "          nn.MaxPool3d((2, 2, 2)),\n",
        "          \n",
        "          \n",
        "            )\n",
        "        \n",
        "        self.conv3 = nn.Sequential(\n",
        "        \n",
        "          nn.Conv3d(40, 80, (3,3,3), bias=False),\n",
        "          nn.GroupNorm(10, 80),\n",
        "          nn.ReLU(),\n",
        "          nn.MaxPool3d((2, 2, 2)),\n",
        "          \n",
        "            )\n",
        "        \n",
        "        self.conv4 = nn.Sequential(\n",
        "        \n",
        "          nn.Conv3d(80, 160, (3,3,3), bias=False),\n",
        "          nn.GroupNorm(20, 160),\n",
        "          nn.ReLU(),\n",
        "          \n",
        "          \n",
        "          nn.MaxPool3d((2, 2, 2)),\n",
        "          \n",
        "          \n",
        "            )\n",
        "        self.conv5 = nn.Sequential(\n",
        "        \n",
        "          nn.Conv3d(160, 320,  (4,3,3), bias=False),\n",
        "          nn.GroupNorm(40, 320),\n",
        "          nn.ReLU(),\n",
        "          nn.MaxPool3d((2, 2, 2)),\n",
        "          \n",
        "          \n",
        "            )\n",
        "        \n",
        "    def activations_hook(self, grad):\n",
        "        self.gradients = grad\n",
        "\n",
        "    def forward(self, x):\n",
        "        x = self.conv1(x)\n",
        "        x = self.conv2(x)\n",
        "        \n",
        "        x = self.conv3(x)\n",
        "        h = x.register_hook(self.activations_hook)\n",
        "        \n",
        "        x = self.conv4(x)\n",
        "        \n",
        "        \n",
        "        x = self.conv5(x)\n",
        "\n",
        "        \n",
        "        return x\n",
        "\n",
        "    def get_activations_gradient(self):\n",
        "        return self.gradients\n",
        "    \n",
        "    # method for the activation exctraction\n",
        "    def get_activations(self, x):\n",
        "        x = self.conv1(x)\n",
        "        x = self.conv2(x)\n",
        "        x = self.conv3(x)\n",
        "        return x\n"
      ],
      "execution_count": null,
      "outputs": []
    },
    {
      "cell_type": "code",
      "metadata": {
        "id": "Ag1R1C7lO3uw"
      },
      "source": [
        "class Net(nn.Module):\n",
        "    def __init__(self):\n",
        "        super(Net, self).__init__()\n",
        "\n",
        "        self.encoder = Encoder()\n",
        "        self.dropout = nn.Dropout(p = 0.25)\n",
        "        self.convf = nn.Conv3d(320, 640, (2,2,2), bias=False, )\n",
        "        self.relu = nn.ReLU()  \n",
        "        self.fc1 = nn.Linear(640 * 4 * 2 * 2, 120)\n",
        "        self.fc2 = nn.Linear(120, 84)\n",
        "        self.fc3 = nn.Linear(84, 40)\n",
        "        self.fc4 = nn.Linear(40, 2)\n",
        "        self.bn1 = nn.BatchNorm1d(120)\n",
        "        self.bn2 = nn.BatchNorm1d(num_features=84)\n",
        "        self.bn3 = nn.BatchNorm1d(num_features=40)\n",
        "\n",
        "    def forward(self, x):\n",
        "        x = self.encoder(x)\n",
        "        x = self.relu((self.convf(x)))\n",
        "        x = x.view(-1, 640 * 4 * 2 * 2)\n",
        "        x = F.tanh(self.bn1((self.fc1(x))))\n",
        "        x = self.dropout(x)\n",
        "        x = F.tanh(self.bn2((self.fc2(x))))\n",
        "        x = self.dropout(x)\n",
        "        x = F.tanh(self.bn3((self.fc3(x))))\n",
        "        x = self.dropout(x)\n",
        "        x = self.fc4(x)\n",
        "        return F.softmax(x)\n"
      ],
      "execution_count": null,
      "outputs": []
    },
    {
      "cell_type": "code",
      "metadata": {
        "id": "RfIZn95sN5C9"
      },
      "source": [
        "from torchsummary import summary"
      ],
      "execution_count": null,
      "outputs": []
    },
    {
      "cell_type": "code",
      "metadata": {
        "id": "r5RAQAStN70v"
      },
      "source": [
        "model = Net()\n",
        "model = model\n",
        "\n",
        "#summary(model, (1, 240, 160, 160))"
      ],
      "execution_count": null,
      "outputs": []
    },
    {
      "cell_type": "code",
      "metadata": {
        "id": "1HiMbHfz8mkc"
      },
      "source": [
        "if torch.cuda.is_available():  \n",
        "  dev = \"cuda:0\" \n",
        "else:  \n",
        "  dev = \"cpu\"  "
      ],
      "execution_count": null,
      "outputs": []
    },
    {
      "cell_type": "code",
      "metadata": {
        "id": "uE_6tFi8gPuw"
      },
      "source": [
        "import torch.optim as optim\n",
        "\n",
        "\n",
        "#optimizer = optim.Adam(model.parameters(), lr=1e-5)\n",
        "\n",
        "# mean-squared error loss\n",
        "criterion = nn.CrossEntropyLoss()"
      ],
      "execution_count": null,
      "outputs": []
    },
    {
      "cell_type": "code",
      "metadata": {
        "id": "tohOvTG8khXb"
      },
      "source": [
        "from torch.autograd import Variable\n",
        "\n",
        "x = Variable(torch.ones(2, 256, 176, 160), requires_grad=True)"
      ],
      "execution_count": null,
      "outputs": []
    },
    {
      "cell_type": "code",
      "metadata": {
        "id": "kf3Olo8-qbD6"
      },
      "source": [
        ""
      ],
      "execution_count": null,
      "outputs": []
    },
    {
      "cell_type": "markdown",
      "metadata": {
        "id": "m1wVH6FCqbkR"
      },
      "source": [
        "**TOGLIERE IL COMMENTO AL LOAD DEL MODELLO SE LO DEVI CARICARE ALTRIMENTI SI SOVRASCRIVE**"
      ]
    },
    {
      "cell_type": "code",
      "metadata": {
        "id": "ZDxsWQB0gSFo"
      },
      "source": [
        "# train function. Store model pth file in GDrive\n",
        "def train():\n",
        "  acc_train = []\n",
        "  model = torch.load('/content/drive/My Drive/ADNI/model_medie_27_decima_presa.pth')\n",
        "  cfg = { 'n_epochs' : 10,\n",
        "          'lr'       : 3e-5,\n",
        "          'optimizer': optim.SGD}\n",
        "  optimizer = cfg['optimizer'](model.parameters(), lr=cfg['lr'])\n",
        "  \n",
        "  acc_tot = []\n",
        "  loss_tot = []\n",
        "\n",
        "  for i in range(27, 40):\n",
        "      #para_loader = pl.ParallelLoader(train_loader, [dev])\n",
        "\n",
        "      print(\"Training del modello\")\n",
        "      model.train()  # Set model to training mode\n",
        "      \n",
        "      loss_list, batch_list = [], []\n",
        "      total_acc = []\n",
        "      total_loss = 0\n",
        "      count = 0\n",
        "          \n",
        "      for batch_idx, batch in enumerate(tqdm(train_loader)):\n",
        "\n",
        "          if batch_idx < len(train_loader):\n",
        "              \n",
        "            total = 0\n",
        "            correct = 0\n",
        "                \n",
        "            inputs = batch['Lung'][DATA].to(dev)\n",
        "            label = batch['label'].to(dev, dtype=torch.long)\n",
        "\n",
        "            output = model(inputs)\n",
        "            loss = criterion(output, label)\n",
        "            _, predicted = torch.max(output.data, 1)\n",
        "            correct += (predicted == label).sum().item()\n",
        "            total_acc.append(correct/4*100)\n",
        "            print(output)\n",
        "            print(batch['id'])\n",
        "            print(label)\n",
        "\n",
        "            print('Train - Epoch %d, Batch: %d, Loss: %f, Accuracy: %f' % (i, batch_idx,  loss.detach().cpu().item(), correct/4*100))     \n",
        "            print('Total accuracy: {}'.format(np.mean(total_acc)))\n",
        "            loss_list.append(loss.detach().cpu().item())\n",
        "            optimizer.zero_grad()\n",
        "\n",
        "             \n",
        "\n",
        "\n",
        "            loss.backward()\n",
        "            optimizer.step()\n",
        "\n",
        "            if batch_idx%1==0:\n",
        "\n",
        "\n",
        "                gradients = model.encoder.get_activations_gradient()\n",
        "\n",
        "                # pool the gradients across the channels\n",
        "                pooled_gradients_0 = torch.mean(gradients, dim=[2, 3, 4])[0]\n",
        "                pooled_gradients_1 = torch.mean(gradients, dim=[2, 3, 4])[1]\n",
        "\n",
        "                # get the activations of the last convolutional layer\n",
        "                activations = model.encoder.get_activations(inputs).detach()\n",
        "                # weight the channels by corresponding gradients\n",
        "                for j in range(40):\n",
        "                    activations[0, j, :, :, :] *= pooled_gradients_0[j]\n",
        "                    activations[1, j, :, :, :] *= pooled_gradients_1[j]\n",
        "\n",
        "                # average the channels of the activations\n",
        "                heatmap = torch.mean(activations, dim=1).squeeze()\n",
        "\n",
        "                # relu on top of the heatmap\n",
        "                # expression (2) in https://arxiv.org/pdf/1610.02391.pdf\n",
        "                heatmap = np.maximum(heatmap.cpu(), 0)\n",
        "\n",
        "                # normalize the heatmap\n",
        "                heatmap_0 = heatmap[0] / torch.max(heatmap[0])\n",
        "                heatmap_1 = heatmap[1] / torch.max(heatmap[1])\n",
        "                heatmap_0 = cv2.resize(np.float32(heatmap_0[:, :, 5]), (160, 240))\n",
        "                heatmap_0 = np.uint8(255 * heatmap_0)\n",
        "                #heatmap_0 = cv2.applyColorMap(heatmap_0, cv2.COLORMAP_JET)\n",
        "                \n",
        "                \n",
        "                heatmap_1 = cv2.resize(np.float32(heatmap_1[:, :, 5]), (160, 240))\n",
        "                heatmap_1 = np.uint8(255 * heatmap_1)\n",
        "                #heatmap_1 = cv2.applyColorMap(heatmap_1, cv2.COLORMAP_JET)\n",
        "                \n",
        "                plt.subplot(121)\n",
        "                plt.imshow(heatmap_0, cmap='jet')\n",
        "                plt.subplot(122)\n",
        "                plt.imshow(heatmap_1, cmap='jet')\n",
        "\n",
        "                plt.show()\n",
        "\n",
        "\n",
        "\n",
        "\n",
        "                plt.subplot(121)\n",
        "                plt.imshow(batch['Lung'][DATA][0][0][:,:,60].detach().cpu(), cmap='gray')\n",
        "                plt.subplot(122)\n",
        "                plt.imshow(batch['Lung'][DATA][1][0][:,:,60].detach().cpu(), cmap='gray')\n",
        "\n",
        "\n",
        "                plt.show()\n",
        "\n",
        "                print(\"LOSS MEDIO {}\".format(np.mean(loss_list)))\n",
        "                #torch.save(model, '/content/drive/My Drive/ADNI/model_medie_{}_undicesima_presa.pth'.format(str(i)))\n",
        "              \n",
        "          #total_loss += loss.detach().cpu().item()\n",
        "\n",
        "            #torch.save(model, '/content/drive/My Drive/ADNI/model_new_medie_undicesima_presa.pth')\n",
        "\n",
        "      \n",
        "  return loss\n",
        "\n",
        "    "
      ],
      "execution_count": null,
      "outputs": []
    },
    {
      "cell_type": "code",
      "metadata": {
        "id": "fAnhIZjQUphW",
        "colab": {
          "base_uri": "https://localhost:8080/",
          "height": 35
        },
        "outputId": "b855ef27-8de5-42b8-97ba-12f4f71e07d1"
      },
      "source": [
        "torch.__version__"
      ],
      "execution_count": null,
      "outputs": [
        {
          "output_type": "execute_result",
          "data": {
            "application/vnd.google.colaboratory.intrinsic+json": {
              "type": "string"
            },
            "text/plain": [
              "'1.8.1+cu101'"
            ]
          },
          "metadata": {
            "tags": []
          },
          "execution_count": 149
        }
      ]
    },
    {
      "cell_type": "code",
      "metadata": {
        "id": "DpOw17VyM_Y0",
        "colab": {
          "base_uri": "https://localhost:8080/",
          "height": 1000
        },
        "outputId": "2fdc89c9-523c-48e4-9e87-6c251e319a9d"
      },
      "source": [
        "train()"
      ],
      "execution_count": null,
      "outputs": [
        {
          "output_type": "stream",
          "text": [
            "\r  0%|          | 0/103 [00:00<?, ?it/s]"
          ],
          "name": "stderr"
        },
        {
          "output_type": "stream",
          "text": [
            "Training del modello\n"
          ],
          "name": "stdout"
        },
        {
          "output_type": "stream",
          "text": [
            "/usr/local/lib/python3.7/dist-packages/torch/nn/functional.py:1698: UserWarning: nn.functional.tanh is deprecated. Use torch.tanh instead.\n",
            "  warnings.warn(\"nn.functional.tanh is deprecated. Use torch.tanh instead.\")\n",
            "/usr/local/lib/python3.7/dist-packages/ipykernel_launcher.py:28: UserWarning: Implicit dimension choice for softmax has been deprecated. Change the call to include dim=X as an argument.\n"
          ],
          "name": "stderr"
        },
        {
          "output_type": "stream",
          "text": [
            "tensor([[0.6388, 0.3612],\n",
            "        [0.0885, 0.9115],\n",
            "        [0.4140, 0.5860],\n",
            "        [0.8589, 0.1411]], device='cuda:0', grad_fn=<SoftmaxBackward>)\n",
            "['2000037793', '3013051159', '2004032816', '3008825560']\n",
            "tensor([1, 1, 1, 0], device='cuda:0')\n",
            "Train - Epoch 27, Batch: 0, Loss: 0.553435, Accuracy: 75.000000\n",
            "Total accuracy: 75.0\n"
          ],
          "name": "stdout"
        },
        {
          "output_type": "display_data",
          "data": {
            "image/png": "[encoded data removed]",
            "text/plain": [
              "<Figure size 432x288 with 2 Axes>"
            ]
          },
          "metadata": {
            "tags": [],
            "needs_background": "light"
          }
        },
        {
          "output_type": "display_data",
          "data": {
            "image/png": "[encoded data removed]",
            "text/plain": [
              "<Figure size 432x288 with 2 Axes>"
            ]
          },
          "metadata": {
            "tags": [],
            "needs_background": "light"
          }
        },
        {
          "output_type": "stream",
          "text": [
            "\r  1%|          | 1/103 [00:10<17:10, 10.10s/it]"
          ],
          "name": "stderr"
        },
        {
          "output_type": "stream",
          "text": [
            "LOSS MEDIO 0.5534346103668213\n"
          ],
          "name": "stdout"
        },
        {
          "output_type": "error",
          "ename": "SystemError",
          "evalue": "ignored",
          "traceback": [
            "\u001b[0;31m---------------------------------------------------------------------------\u001b[0m",
            "\u001b[0;31mKeyboardInterrupt\u001b[0m                         Traceback (most recent call last)",
            "\u001b[0;32m/usr/local/lib/python3.7/dist-packages/SimpleITK/SimpleITK.py\u001b[0m in \u001b[0;36m<lambda>\u001b[0;34m(self, name, value)\u001b[0m\n\u001b[1;32m   3708\u001b[0m     \u001b[0m__swig_setmethods__\u001b[0m \u001b[0;34m=\u001b[0m \u001b[0;34m{\u001b[0m\u001b[0;34m}\u001b[0m\u001b[0;34m\u001b[0m\u001b[0;34m\u001b[0m\u001b[0m\n\u001b[0;32m-> 3709\u001b[0;31m     \u001b[0m__setattr__\u001b[0m \u001b[0;34m=\u001b[0m \u001b[0;32mlambda\u001b[0m \u001b[0mself\u001b[0m\u001b[0;34m,\u001b[0m \u001b[0mname\u001b[0m\u001b[0;34m,\u001b[0m \u001b[0mvalue\u001b[0m\u001b[0;34m:\u001b[0m \u001b[0m_swig_setattr\u001b[0m\u001b[0;34m(\u001b[0m\u001b[0mself\u001b[0m\u001b[0;34m,\u001b[0m \u001b[0mImage\u001b[0m\u001b[0;34m,\u001b[0m \u001b[0mname\u001b[0m\u001b[0;34m,\u001b[0m \u001b[0mvalue\u001b[0m\u001b[0;34m)\u001b[0m\u001b[0;34m\u001b[0m\u001b[0;34m\u001b[0m\u001b[0m\n\u001b[0m\u001b[1;32m   3710\u001b[0m     \u001b[0m__swig_getmethods__\u001b[0m \u001b[0;34m=\u001b[0m \u001b[0;34m{\u001b[0m\u001b[0;34m}\u001b[0m\u001b[0;34m\u001b[0m\u001b[0;34m\u001b[0m\u001b[0m\n",
            "\u001b[0;31mKeyboardInterrupt\u001b[0m: ",
            "\nThe above exception was the direct cause of the following exception:\n",
            "\u001b[0;31mSystemError\u001b[0m                               Traceback (most recent call last)",
            "\u001b[0;32m<ipython-input-150-2da0ffaf5447>\u001b[0m in \u001b[0;36m<module>\u001b[0;34m()\u001b[0m\n\u001b[0;32m----> 1\u001b[0;31m \u001b[0mtrain\u001b[0m\u001b[0;34m(\u001b[0m\u001b[0;34m)\u001b[0m\u001b[0;34m\u001b[0m\u001b[0;34m\u001b[0m\u001b[0m\n\u001b[0m",
            "\u001b[0;32m<ipython-input-148-a06ae7270bf5>\u001b[0m in \u001b[0;36mtrain\u001b[0;34m()\u001b[0m\n\u001b[1;32m     22\u001b[0m       \u001b[0mcount\u001b[0m \u001b[0;34m=\u001b[0m \u001b[0;36m0\u001b[0m\u001b[0;34m\u001b[0m\u001b[0;34m\u001b[0m\u001b[0m\n\u001b[1;32m     23\u001b[0m \u001b[0;34m\u001b[0m\u001b[0m\n\u001b[0;32m---> 24\u001b[0;31m       \u001b[0;32mfor\u001b[0m \u001b[0mbatch_idx\u001b[0m\u001b[0;34m,\u001b[0m \u001b[0mbatch\u001b[0m \u001b[0;32min\u001b[0m \u001b[0menumerate\u001b[0m\u001b[0;34m(\u001b[0m\u001b[0mtqdm\u001b[0m\u001b[0;34m(\u001b[0m\u001b[0mtrain_loader\u001b[0m\u001b[0;34m)\u001b[0m\u001b[0;34m)\u001b[0m\u001b[0;34m:\u001b[0m\u001b[0;34m\u001b[0m\u001b[0;34m\u001b[0m\u001b[0m\n\u001b[0m\u001b[1;32m     25\u001b[0m \u001b[0;34m\u001b[0m\u001b[0m\n\u001b[1;32m     26\u001b[0m           \u001b[0;32mif\u001b[0m \u001b[0mbatch_idx\u001b[0m \u001b[0;34m<\u001b[0m \u001b[0mlen\u001b[0m\u001b[0;34m(\u001b[0m\u001b[0mtrain_loader\u001b[0m\u001b[0;34m)\u001b[0m\u001b[0;34m:\u001b[0m\u001b[0;34m\u001b[0m\u001b[0;34m\u001b[0m\u001b[0m\n",
            "\u001b[0;32m/usr/local/lib/python3.7/dist-packages/tqdm/std.py\u001b[0m in \u001b[0;36m__iter__\u001b[0;34m(self)\u001b[0m\n\u001b[1;32m   1102\u001b[0m                 fp_write=getattr(self.fp, 'write', sys.stderr.write))\n\u001b[1;32m   1103\u001b[0m \u001b[0;34m\u001b[0m\u001b[0m\n\u001b[0;32m-> 1104\u001b[0;31m         \u001b[0;32mfor\u001b[0m \u001b[0mobj\u001b[0m \u001b[0;32min\u001b[0m \u001b[0miterable\u001b[0m\u001b[0;34m:\u001b[0m\u001b[0;34m\u001b[0m\u001b[0;34m\u001b[0m\u001b[0m\n\u001b[0m\u001b[1;32m   1105\u001b[0m             \u001b[0;32myield\u001b[0m \u001b[0mobj\u001b[0m\u001b[0;34m\u001b[0m\u001b[0;34m\u001b[0m\u001b[0m\n\u001b[1;32m   1106\u001b[0m             \u001b[0;31m# Update and possibly print the progressbar.\u001b[0m\u001b[0;34m\u001b[0m\u001b[0;34m\u001b[0m\u001b[0;34m\u001b[0m\u001b[0m\n",
            "\u001b[0;32m/usr/local/lib/python3.7/dist-packages/torch/utils/data/dataloader.py\u001b[0m in \u001b[0;36m__next__\u001b[0;34m(self)\u001b[0m\n\u001b[1;32m    515\u001b[0m             \u001b[0;32mif\u001b[0m \u001b[0mself\u001b[0m\u001b[0;34m.\u001b[0m\u001b[0m_sampler_iter\u001b[0m \u001b[0;32mis\u001b[0m \u001b[0;32mNone\u001b[0m\u001b[0;34m:\u001b[0m\u001b[0;34m\u001b[0m\u001b[0;34m\u001b[0m\u001b[0m\n\u001b[1;32m    516\u001b[0m                 \u001b[0mself\u001b[0m\u001b[0;34m.\u001b[0m\u001b[0m_reset\u001b[0m\u001b[0;34m(\u001b[0m\u001b[0;34m)\u001b[0m\u001b[0;34m\u001b[0m\u001b[0;34m\u001b[0m\u001b[0m\n\u001b[0;32m--> 517\u001b[0;31m             \u001b[0mdata\u001b[0m \u001b[0;34m=\u001b[0m \u001b[0mself\u001b[0m\u001b[0;34m.\u001b[0m\u001b[0m_next_data\u001b[0m\u001b[0;34m(\u001b[0m\u001b[0;34m)\u001b[0m\u001b[0;34m\u001b[0m\u001b[0;34m\u001b[0m\u001b[0m\n\u001b[0m\u001b[1;32m    518\u001b[0m             \u001b[0mself\u001b[0m\u001b[0;34m.\u001b[0m\u001b[0m_num_yielded\u001b[0m \u001b[0;34m+=\u001b[0m \u001b[0;36m1\u001b[0m\u001b[0;34m\u001b[0m\u001b[0;34m\u001b[0m\u001b[0m\n\u001b[1;32m    519\u001b[0m             \u001b[0;32mif\u001b[0m \u001b[0mself\u001b[0m\u001b[0;34m.\u001b[0m\u001b[0m_dataset_kind\u001b[0m \u001b[0;34m==\u001b[0m \u001b[0m_DatasetKind\u001b[0m\u001b[0;34m.\u001b[0m\u001b[0mIterable\u001b[0m \u001b[0;32mand\u001b[0m\u001b[0;31m \u001b[0m\u001b[0;31m\\\u001b[0m\u001b[0;34m\u001b[0m\u001b[0;34m\u001b[0m\u001b[0m\n",
            "\u001b[0;32m/usr/local/lib/python3.7/dist-packages/torch/utils/data/dataloader.py\u001b[0m in \u001b[0;36m_next_data\u001b[0;34m(self)\u001b[0m\n\u001b[1;32m    555\u001b[0m     \u001b[0;32mdef\u001b[0m \u001b[0m_next_data\u001b[0m\u001b[0;34m(\u001b[0m\u001b[0mself\u001b[0m\u001b[0;34m)\u001b[0m\u001b[0;34m:\u001b[0m\u001b[0;34m\u001b[0m\u001b[0;34m\u001b[0m\u001b[0m\n\u001b[1;32m    556\u001b[0m         \u001b[0mindex\u001b[0m \u001b[0;34m=\u001b[0m \u001b[0mself\u001b[0m\u001b[0;34m.\u001b[0m\u001b[0m_next_index\u001b[0m\u001b[0;34m(\u001b[0m\u001b[0;34m)\u001b[0m  \u001b[0;31m# may raise StopIteration\u001b[0m\u001b[0;34m\u001b[0m\u001b[0;34m\u001b[0m\u001b[0m\n\u001b[0;32m--> 557\u001b[0;31m         \u001b[0mdata\u001b[0m \u001b[0;34m=\u001b[0m \u001b[0mself\u001b[0m\u001b[0;34m.\u001b[0m\u001b[0m_dataset_fetcher\u001b[0m\u001b[0;34m.\u001b[0m\u001b[0mfetch\u001b[0m\u001b[0;34m(\u001b[0m\u001b[0mindex\u001b[0m\u001b[0;34m)\u001b[0m  \u001b[0;31m# may raise StopIteration\u001b[0m\u001b[0;34m\u001b[0m\u001b[0;34m\u001b[0m\u001b[0m\n\u001b[0m\u001b[1;32m    558\u001b[0m         \u001b[0;32mif\u001b[0m \u001b[0mself\u001b[0m\u001b[0;34m.\u001b[0m\u001b[0m_pin_memory\u001b[0m\u001b[0;34m:\u001b[0m\u001b[0;34m\u001b[0m\u001b[0;34m\u001b[0m\u001b[0m\n\u001b[1;32m    559\u001b[0m             \u001b[0mdata\u001b[0m \u001b[0;34m=\u001b[0m \u001b[0m_utils\u001b[0m\u001b[0;34m.\u001b[0m\u001b[0mpin_memory\u001b[0m\u001b[0;34m.\u001b[0m\u001b[0mpin_memory\u001b[0m\u001b[0;34m(\u001b[0m\u001b[0mdata\u001b[0m\u001b[0;34m)\u001b[0m\u001b[0;34m\u001b[0m\u001b[0;34m\u001b[0m\u001b[0m\n",
            "\u001b[0;32m/usr/local/lib/python3.7/dist-packages/torch/utils/data/_utils/fetch.py\u001b[0m in \u001b[0;36mfetch\u001b[0;34m(self, possibly_batched_index)\u001b[0m\n\u001b[1;32m     42\u001b[0m     \u001b[0;32mdef\u001b[0m \u001b[0mfetch\u001b[0m\u001b[0;34m(\u001b[0m\u001b[0mself\u001b[0m\u001b[0;34m,\u001b[0m \u001b[0mpossibly_batched_index\u001b[0m\u001b[0;34m)\u001b[0m\u001b[0;34m:\u001b[0m\u001b[0;34m\u001b[0m\u001b[0;34m\u001b[0m\u001b[0m\n\u001b[1;32m     43\u001b[0m         \u001b[0;32mif\u001b[0m \u001b[0mself\u001b[0m\u001b[0;34m.\u001b[0m\u001b[0mauto_collation\u001b[0m\u001b[0;34m:\u001b[0m\u001b[0;34m\u001b[0m\u001b[0;34m\u001b[0m\u001b[0m\n\u001b[0;32m---> 44\u001b[0;31m             \u001b[0mdata\u001b[0m \u001b[0;34m=\u001b[0m \u001b[0;34m[\u001b[0m\u001b[0mself\u001b[0m\u001b[0;34m.\u001b[0m\u001b[0mdataset\u001b[0m\u001b[0;34m[\u001b[0m\u001b[0midx\u001b[0m\u001b[0;34m]\u001b[0m \u001b[0;32mfor\u001b[0m \u001b[0midx\u001b[0m \u001b[0;32min\u001b[0m \u001b[0mpossibly_batched_index\u001b[0m\u001b[0;34m]\u001b[0m\u001b[0;34m\u001b[0m\u001b[0;34m\u001b[0m\u001b[0m\n\u001b[0m\u001b[1;32m     45\u001b[0m         \u001b[0;32melse\u001b[0m\u001b[0;34m:\u001b[0m\u001b[0;34m\u001b[0m\u001b[0;34m\u001b[0m\u001b[0m\n\u001b[1;32m     46\u001b[0m             \u001b[0mdata\u001b[0m \u001b[0;34m=\u001b[0m \u001b[0mself\u001b[0m\u001b[0;34m.\u001b[0m\u001b[0mdataset\u001b[0m\u001b[0;34m[\u001b[0m\u001b[0mpossibly_batched_index\u001b[0m\u001b[0;34m]\u001b[0m\u001b[0;34m\u001b[0m\u001b[0;34m\u001b[0m\u001b[0m\n",
            "\u001b[0;32m/usr/local/lib/python3.7/dist-packages/torch/utils/data/_utils/fetch.py\u001b[0m in \u001b[0;36m<listcomp>\u001b[0;34m(.0)\u001b[0m\n\u001b[1;32m     42\u001b[0m     \u001b[0;32mdef\u001b[0m \u001b[0mfetch\u001b[0m\u001b[0;34m(\u001b[0m\u001b[0mself\u001b[0m\u001b[0;34m,\u001b[0m \u001b[0mpossibly_batched_index\u001b[0m\u001b[0;34m)\u001b[0m\u001b[0;34m:\u001b[0m\u001b[0;34m\u001b[0m\u001b[0;34m\u001b[0m\u001b[0m\n\u001b[1;32m     43\u001b[0m         \u001b[0;32mif\u001b[0m \u001b[0mself\u001b[0m\u001b[0;34m.\u001b[0m\u001b[0mauto_collation\u001b[0m\u001b[0;34m:\u001b[0m\u001b[0;34m\u001b[0m\u001b[0;34m\u001b[0m\u001b[0m\n\u001b[0;32m---> 44\u001b[0;31m             \u001b[0mdata\u001b[0m \u001b[0;34m=\u001b[0m \u001b[0;34m[\u001b[0m\u001b[0mself\u001b[0m\u001b[0;34m.\u001b[0m\u001b[0mdataset\u001b[0m\u001b[0;34m[\u001b[0m\u001b[0midx\u001b[0m\u001b[0;34m]\u001b[0m \u001b[0;32mfor\u001b[0m \u001b[0midx\u001b[0m \u001b[0;32min\u001b[0m \u001b[0mpossibly_batched_index\u001b[0m\u001b[0;34m]\u001b[0m\u001b[0;34m\u001b[0m\u001b[0;34m\u001b[0m\u001b[0m\n\u001b[0m\u001b[1;32m     45\u001b[0m         \u001b[0;32melse\u001b[0m\u001b[0;34m:\u001b[0m\u001b[0;34m\u001b[0m\u001b[0;34m\u001b[0m\u001b[0m\n\u001b[1;32m     46\u001b[0m             \u001b[0mdata\u001b[0m \u001b[0;34m=\u001b[0m \u001b[0mself\u001b[0m\u001b[0;34m.\u001b[0m\u001b[0mdataset\u001b[0m\u001b[0;34m[\u001b[0m\u001b[0mpossibly_batched_index\u001b[0m\u001b[0;34m]\u001b[0m\u001b[0;34m\u001b[0m\u001b[0;34m\u001b[0m\u001b[0m\n",
            "\u001b[0;32m/usr/local/lib/python3.7/dist-packages/torchio/data/dataset.py\u001b[0m in \u001b[0;36m__getitem__\u001b[0;34m(self, index)\u001b[0m\n\u001b[1;32m     83\u001b[0m         \u001b[0;31m# Apply transform (this is usually the bottleneck)\u001b[0m\u001b[0;34m\u001b[0m\u001b[0;34m\u001b[0m\u001b[0;34m\u001b[0m\u001b[0m\n\u001b[1;32m     84\u001b[0m         \u001b[0;32mif\u001b[0m \u001b[0mself\u001b[0m\u001b[0;34m.\u001b[0m\u001b[0m_transform\u001b[0m \u001b[0;32mis\u001b[0m \u001b[0;32mnot\u001b[0m \u001b[0;32mNone\u001b[0m\u001b[0;34m:\u001b[0m\u001b[0;34m\u001b[0m\u001b[0;34m\u001b[0m\u001b[0m\n\u001b[0;32m---> 85\u001b[0;31m             \u001b[0msubject\u001b[0m \u001b[0;34m=\u001b[0m \u001b[0mself\u001b[0m\u001b[0;34m.\u001b[0m\u001b[0m_transform\u001b[0m\u001b[0;34m(\u001b[0m\u001b[0msubject\u001b[0m\u001b[0;34m)\u001b[0m\u001b[0;34m\u001b[0m\u001b[0;34m\u001b[0m\u001b[0m\n\u001b[0m\u001b[1;32m     86\u001b[0m         \u001b[0;32mreturn\u001b[0m \u001b[0msubject\u001b[0m\u001b[0;34m\u001b[0m\u001b[0;34m\u001b[0m\u001b[0m\n\u001b[1;32m     87\u001b[0m \u001b[0;34m\u001b[0m\u001b[0m\n",
            "\u001b[0;32m/usr/local/lib/python3.7/dist-packages/torchio/transforms/transform.py\u001b[0m in \u001b[0;36m__call__\u001b[0;34m(self, data)\u001b[0m\n\u001b[1;32m    124\u001b[0m             \u001b[0msubject\u001b[0m \u001b[0;34m=\u001b[0m \u001b[0mcopy\u001b[0m\u001b[0;34m.\u001b[0m\u001b[0mcopy\u001b[0m\u001b[0;34m(\u001b[0m\u001b[0msubject\u001b[0m\u001b[0;34m)\u001b[0m\u001b[0;34m\u001b[0m\u001b[0;34m\u001b[0m\u001b[0m\n\u001b[1;32m    125\u001b[0m         \u001b[0;32mwith\u001b[0m \u001b[0mnp\u001b[0m\u001b[0;34m.\u001b[0m\u001b[0merrstate\u001b[0m\u001b[0;34m(\u001b[0m\u001b[0mall\u001b[0m\u001b[0;34m=\u001b[0m\u001b[0;34m'raise'\u001b[0m\u001b[0;34m,\u001b[0m \u001b[0munder\u001b[0m\u001b[0;34m=\u001b[0m\u001b[0;34m'ignore'\u001b[0m\u001b[0;34m)\u001b[0m\u001b[0;34m:\u001b[0m\u001b[0;34m\u001b[0m\u001b[0;34m\u001b[0m\u001b[0m\n\u001b[0;32m--> 126\u001b[0;31m             \u001b[0mtransformed\u001b[0m \u001b[0;34m=\u001b[0m \u001b[0mself\u001b[0m\u001b[0;34m.\u001b[0m\u001b[0mapply_transform\u001b[0m\u001b[0;34m(\u001b[0m\u001b[0msubject\u001b[0m\u001b[0;34m)\u001b[0m\u001b[0;34m\u001b[0m\u001b[0;34m\u001b[0m\u001b[0m\n\u001b[0m\u001b[1;32m    127\u001b[0m         \u001b[0;32mif\u001b[0m \u001b[0mself\u001b[0m\u001b[0;34m.\u001b[0m\u001b[0mkeep\u001b[0m \u001b[0;32mis\u001b[0m \u001b[0;32mnot\u001b[0m \u001b[0;32mNone\u001b[0m\u001b[0;34m:\u001b[0m\u001b[0;34m\u001b[0m\u001b[0;34m\u001b[0m\u001b[0m\n\u001b[1;32m    128\u001b[0m             \u001b[0;32mfor\u001b[0m \u001b[0mname\u001b[0m\u001b[0;34m,\u001b[0m \u001b[0mimage\u001b[0m \u001b[0;32min\u001b[0m \u001b[0mimages_to_keep\u001b[0m\u001b[0;34m.\u001b[0m\u001b[0mitems\u001b[0m\u001b[0;34m(\u001b[0m\u001b[0;34m)\u001b[0m\u001b[0;34m:\u001b[0m\u001b[0;34m\u001b[0m\u001b[0;34m\u001b[0m\u001b[0m\n",
            "\u001b[0;32m/usr/local/lib/python3.7/dist-packages/torchio/transforms/augmentation/composition.py\u001b[0m in \u001b[0;36mapply_transform\u001b[0;34m(self, subject)\u001b[0m\n\u001b[1;32m     45\u001b[0m     \u001b[0;32mdef\u001b[0m \u001b[0mapply_transform\u001b[0m\u001b[0;34m(\u001b[0m\u001b[0mself\u001b[0m\u001b[0;34m,\u001b[0m \u001b[0msubject\u001b[0m\u001b[0;34m:\u001b[0m \u001b[0mSubject\u001b[0m\u001b[0;34m)\u001b[0m \u001b[0;34m->\u001b[0m \u001b[0mSubject\u001b[0m\u001b[0;34m:\u001b[0m\u001b[0;34m\u001b[0m\u001b[0;34m\u001b[0m\u001b[0m\n\u001b[1;32m     46\u001b[0m         \u001b[0;32mfor\u001b[0m \u001b[0mtransform\u001b[0m \u001b[0;32min\u001b[0m \u001b[0mself\u001b[0m\u001b[0;34m.\u001b[0m\u001b[0mtransforms\u001b[0m\u001b[0;34m:\u001b[0m\u001b[0;34m\u001b[0m\u001b[0;34m\u001b[0m\u001b[0m\n\u001b[0;32m---> 47\u001b[0;31m             \u001b[0msubject\u001b[0m \u001b[0;34m=\u001b[0m \u001b[0mtransform\u001b[0m\u001b[0;34m(\u001b[0m\u001b[0msubject\u001b[0m\u001b[0;34m)\u001b[0m\u001b[0;34m\u001b[0m\u001b[0;34m\u001b[0m\u001b[0m\n\u001b[0m\u001b[1;32m     48\u001b[0m         \u001b[0;32mreturn\u001b[0m \u001b[0msubject\u001b[0m\u001b[0;34m\u001b[0m\u001b[0;34m\u001b[0m\u001b[0m\n\u001b[1;32m     49\u001b[0m \u001b[0;34m\u001b[0m\u001b[0m\n",
            "\u001b[0;32m/usr/local/lib/python3.7/dist-packages/torchio/transforms/transform.py\u001b[0m in \u001b[0;36m__call__\u001b[0;34m(self, data)\u001b[0m\n\u001b[1;32m    124\u001b[0m             \u001b[0msubject\u001b[0m \u001b[0;34m=\u001b[0m \u001b[0mcopy\u001b[0m\u001b[0;34m.\u001b[0m\u001b[0mcopy\u001b[0m\u001b[0;34m(\u001b[0m\u001b[0msubject\u001b[0m\u001b[0;34m)\u001b[0m\u001b[0;34m\u001b[0m\u001b[0;34m\u001b[0m\u001b[0m\n\u001b[1;32m    125\u001b[0m         \u001b[0;32mwith\u001b[0m \u001b[0mnp\u001b[0m\u001b[0;34m.\u001b[0m\u001b[0merrstate\u001b[0m\u001b[0;34m(\u001b[0m\u001b[0mall\u001b[0m\u001b[0;34m=\u001b[0m\u001b[0;34m'raise'\u001b[0m\u001b[0;34m,\u001b[0m \u001b[0munder\u001b[0m\u001b[0;34m=\u001b[0m\u001b[0;34m'ignore'\u001b[0m\u001b[0;34m)\u001b[0m\u001b[0;34m:\u001b[0m\u001b[0;34m\u001b[0m\u001b[0;34m\u001b[0m\u001b[0m\n\u001b[0;32m--> 126\u001b[0;31m             \u001b[0mtransformed\u001b[0m \u001b[0;34m=\u001b[0m \u001b[0mself\u001b[0m\u001b[0;34m.\u001b[0m\u001b[0mapply_transform\u001b[0m\u001b[0;34m(\u001b[0m\u001b[0msubject\u001b[0m\u001b[0;34m)\u001b[0m\u001b[0;34m\u001b[0m\u001b[0;34m\u001b[0m\u001b[0m\n\u001b[0m\u001b[1;32m    127\u001b[0m         \u001b[0;32mif\u001b[0m \u001b[0mself\u001b[0m\u001b[0;34m.\u001b[0m\u001b[0mkeep\u001b[0m \u001b[0;32mis\u001b[0m \u001b[0;32mnot\u001b[0m \u001b[0;32mNone\u001b[0m\u001b[0;34m:\u001b[0m\u001b[0;34m\u001b[0m\u001b[0;34m\u001b[0m\u001b[0m\n\u001b[1;32m    128\u001b[0m             \u001b[0;32mfor\u001b[0m \u001b[0mname\u001b[0m\u001b[0;34m,\u001b[0m \u001b[0mimage\u001b[0m \u001b[0;32min\u001b[0m \u001b[0mimages_to_keep\u001b[0m\u001b[0;34m.\u001b[0m\u001b[0mitems\u001b[0m\u001b[0;34m(\u001b[0m\u001b[0;34m)\u001b[0m\u001b[0;34m:\u001b[0m\u001b[0;34m\u001b[0m\u001b[0;34m\u001b[0m\u001b[0m\n",
            "\u001b[0;32m/usr/local/lib/python3.7/dist-packages/torchio/transforms/augmentation/composition.py\u001b[0m in \u001b[0;36mapply_transform\u001b[0;34m(self, subject)\u001b[0m\n\u001b[1;32m    107\u001b[0m         \u001b[0mtransforms\u001b[0m \u001b[0;34m=\u001b[0m \u001b[0mlist\u001b[0m\u001b[0;34m(\u001b[0m\u001b[0mself\u001b[0m\u001b[0;34m.\u001b[0m\u001b[0mtransforms_dict\u001b[0m\u001b[0;34m.\u001b[0m\u001b[0mkeys\u001b[0m\u001b[0;34m(\u001b[0m\u001b[0;34m)\u001b[0m\u001b[0;34m)\u001b[0m\u001b[0;34m\u001b[0m\u001b[0;34m\u001b[0m\u001b[0m\n\u001b[1;32m    108\u001b[0m         \u001b[0mtransform\u001b[0m \u001b[0;34m=\u001b[0m \u001b[0mtransforms\u001b[0m\u001b[0;34m[\u001b[0m\u001b[0mindex\u001b[0m\u001b[0;34m]\u001b[0m\u001b[0;34m\u001b[0m\u001b[0;34m\u001b[0m\u001b[0m\n\u001b[0;32m--> 109\u001b[0;31m         \u001b[0mtransformed\u001b[0m \u001b[0;34m=\u001b[0m \u001b[0mtransform\u001b[0m\u001b[0;34m(\u001b[0m\u001b[0msubject\u001b[0m\u001b[0;34m)\u001b[0m\u001b[0;34m\u001b[0m\u001b[0;34m\u001b[0m\u001b[0m\n\u001b[0m\u001b[1;32m    110\u001b[0m         \u001b[0;32mreturn\u001b[0m \u001b[0mtransformed\u001b[0m\u001b[0;34m\u001b[0m\u001b[0;34m\u001b[0m\u001b[0m\n\u001b[1;32m    111\u001b[0m \u001b[0;34m\u001b[0m\u001b[0m\n",
            "\u001b[0;32m/usr/local/lib/python3.7/dist-packages/torchio/transforms/transform.py\u001b[0m in \u001b[0;36m__call__\u001b[0;34m(self, data)\u001b[0m\n\u001b[1;32m    124\u001b[0m             \u001b[0msubject\u001b[0m \u001b[0;34m=\u001b[0m \u001b[0mcopy\u001b[0m\u001b[0;34m.\u001b[0m\u001b[0mcopy\u001b[0m\u001b[0;34m(\u001b[0m\u001b[0msubject\u001b[0m\u001b[0;34m)\u001b[0m\u001b[0;34m\u001b[0m\u001b[0;34m\u001b[0m\u001b[0m\n\u001b[1;32m    125\u001b[0m         \u001b[0;32mwith\u001b[0m \u001b[0mnp\u001b[0m\u001b[0;34m.\u001b[0m\u001b[0merrstate\u001b[0m\u001b[0;34m(\u001b[0m\u001b[0mall\u001b[0m\u001b[0;34m=\u001b[0m\u001b[0;34m'raise'\u001b[0m\u001b[0;34m,\u001b[0m \u001b[0munder\u001b[0m\u001b[0;34m=\u001b[0m\u001b[0;34m'ignore'\u001b[0m\u001b[0;34m)\u001b[0m\u001b[0;34m:\u001b[0m\u001b[0;34m\u001b[0m\u001b[0;34m\u001b[0m\u001b[0m\n\u001b[0;32m--> 126\u001b[0;31m             \u001b[0mtransformed\u001b[0m \u001b[0;34m=\u001b[0m \u001b[0mself\u001b[0m\u001b[0;34m.\u001b[0m\u001b[0mapply_transform\u001b[0m\u001b[0;34m(\u001b[0m\u001b[0msubject\u001b[0m\u001b[0;34m)\u001b[0m\u001b[0;34m\u001b[0m\u001b[0;34m\u001b[0m\u001b[0m\n\u001b[0m\u001b[1;32m    127\u001b[0m         \u001b[0;32mif\u001b[0m \u001b[0mself\u001b[0m\u001b[0;34m.\u001b[0m\u001b[0mkeep\u001b[0m \u001b[0;32mis\u001b[0m \u001b[0;32mnot\u001b[0m \u001b[0;32mNone\u001b[0m\u001b[0;34m:\u001b[0m\u001b[0;34m\u001b[0m\u001b[0;34m\u001b[0m\u001b[0m\n\u001b[1;32m    128\u001b[0m             \u001b[0;32mfor\u001b[0m \u001b[0mname\u001b[0m\u001b[0;34m,\u001b[0m \u001b[0mimage\u001b[0m \u001b[0;32min\u001b[0m \u001b[0mimages_to_keep\u001b[0m\u001b[0;34m.\u001b[0m\u001b[0mitems\u001b[0m\u001b[0;34m(\u001b[0m\u001b[0;34m)\u001b[0m\u001b[0;34m:\u001b[0m\u001b[0;34m\u001b[0m\u001b[0;34m\u001b[0m\u001b[0m\n",
            "\u001b[0;32m/usr/local/lib/python3.7/dist-packages/torchio/transforms/augmentation/spatial/random_elastic_deformation.py\u001b[0m in \u001b[0;36mapply_transform\u001b[0;34m(self, subject)\u001b[0m\n\u001b[1;32m    179\u001b[0m \u001b[0;34m\u001b[0m\u001b[0m\n\u001b[1;32m    180\u001b[0m         \u001b[0mtransform\u001b[0m \u001b[0;34m=\u001b[0m \u001b[0mElasticDeformation\u001b[0m\u001b[0;34m(\u001b[0m\u001b[0;34m**\u001b[0m\u001b[0mself\u001b[0m\u001b[0;34m.\u001b[0m\u001b[0madd_include_exclude\u001b[0m\u001b[0;34m(\u001b[0m\u001b[0marguments\u001b[0m\u001b[0;34m)\u001b[0m\u001b[0;34m)\u001b[0m\u001b[0;34m\u001b[0m\u001b[0;34m\u001b[0m\u001b[0m\n\u001b[0;32m--> 181\u001b[0;31m         \u001b[0mtransformed\u001b[0m \u001b[0;34m=\u001b[0m \u001b[0mtransform\u001b[0m\u001b[0;34m(\u001b[0m\u001b[0msubject\u001b[0m\u001b[0;34m)\u001b[0m\u001b[0;34m\u001b[0m\u001b[0;34m\u001b[0m\u001b[0m\n\u001b[0m\u001b[1;32m    182\u001b[0m         \u001b[0;32mreturn\u001b[0m \u001b[0mtransformed\u001b[0m\u001b[0;34m\u001b[0m\u001b[0;34m\u001b[0m\u001b[0m\n\u001b[1;32m    183\u001b[0m \u001b[0;34m\u001b[0m\u001b[0m\n",
            "\u001b[0;32m/usr/local/lib/python3.7/dist-packages/torchio/transforms/transform.py\u001b[0m in \u001b[0;36m__call__\u001b[0;34m(self, data)\u001b[0m\n\u001b[1;32m    124\u001b[0m             \u001b[0msubject\u001b[0m \u001b[0;34m=\u001b[0m \u001b[0mcopy\u001b[0m\u001b[0;34m.\u001b[0m\u001b[0mcopy\u001b[0m\u001b[0;34m(\u001b[0m\u001b[0msubject\u001b[0m\u001b[0;34m)\u001b[0m\u001b[0;34m\u001b[0m\u001b[0;34m\u001b[0m\u001b[0m\n\u001b[1;32m    125\u001b[0m         \u001b[0;32mwith\u001b[0m \u001b[0mnp\u001b[0m\u001b[0;34m.\u001b[0m\u001b[0merrstate\u001b[0m\u001b[0;34m(\u001b[0m\u001b[0mall\u001b[0m\u001b[0;34m=\u001b[0m\u001b[0;34m'raise'\u001b[0m\u001b[0;34m,\u001b[0m \u001b[0munder\u001b[0m\u001b[0;34m=\u001b[0m\u001b[0;34m'ignore'\u001b[0m\u001b[0;34m)\u001b[0m\u001b[0;34m:\u001b[0m\u001b[0;34m\u001b[0m\u001b[0;34m\u001b[0m\u001b[0m\n\u001b[0;32m--> 126\u001b[0;31m             \u001b[0mtransformed\u001b[0m \u001b[0;34m=\u001b[0m \u001b[0mself\u001b[0m\u001b[0;34m.\u001b[0m\u001b[0mapply_transform\u001b[0m\u001b[0;34m(\u001b[0m\u001b[0msubject\u001b[0m\u001b[0;34m)\u001b[0m\u001b[0;34m\u001b[0m\u001b[0;34m\u001b[0m\u001b[0m\n\u001b[0m\u001b[1;32m    127\u001b[0m         \u001b[0;32mif\u001b[0m \u001b[0mself\u001b[0m\u001b[0;34m.\u001b[0m\u001b[0mkeep\u001b[0m \u001b[0;32mis\u001b[0m \u001b[0;32mnot\u001b[0m \u001b[0;32mNone\u001b[0m\u001b[0;34m:\u001b[0m\u001b[0;34m\u001b[0m\u001b[0;34m\u001b[0m\u001b[0m\n\u001b[1;32m    128\u001b[0m             \u001b[0;32mfor\u001b[0m \u001b[0mname\u001b[0m\u001b[0;34m,\u001b[0m \u001b[0mimage\u001b[0m \u001b[0;32min\u001b[0m \u001b[0mimages_to_keep\u001b[0m\u001b[0;34m.\u001b[0m\u001b[0mitems\u001b[0m\u001b[0;34m(\u001b[0m\u001b[0;34m)\u001b[0m\u001b[0;34m:\u001b[0m\u001b[0;34m\u001b[0m\u001b[0;34m\u001b[0m\u001b[0m\n",
            "\u001b[0;32m/usr/local/lib/python3.7/dist-packages/torchio/transforms/augmentation/spatial/random_elastic_deformation.py\u001b[0m in \u001b[0;36mapply_transform\u001b[0;34m(self, subject)\u001b[0m\n\u001b[1;32m    263\u001b[0m                 \u001b[0mimage\u001b[0m\u001b[0;34m.\u001b[0m\u001b[0maffine\u001b[0m\u001b[0;34m,\u001b[0m\u001b[0;34m\u001b[0m\u001b[0;34m\u001b[0m\u001b[0m\n\u001b[1;32m    264\u001b[0m                 \u001b[0mcontrol_points\u001b[0m\u001b[0;34m,\u001b[0m\u001b[0;34m\u001b[0m\u001b[0;34m\u001b[0m\u001b[0m\n\u001b[0;32m--> 265\u001b[0;31m                 \u001b[0minterpolation\u001b[0m\u001b[0;34m,\u001b[0m\u001b[0;34m\u001b[0m\u001b[0;34m\u001b[0m\u001b[0m\n\u001b[0m\u001b[1;32m    266\u001b[0m             )\n\u001b[1;32m    267\u001b[0m             \u001b[0mimage\u001b[0m\u001b[0;34m.\u001b[0m\u001b[0mset_data\u001b[0m\u001b[0;34m(\u001b[0m\u001b[0mtransformed\u001b[0m\u001b[0;34m)\u001b[0m\u001b[0;34m\u001b[0m\u001b[0;34m\u001b[0m\u001b[0m\n",
            "\u001b[0;32m/usr/local/lib/python3.7/dist-packages/torchio/transforms/augmentation/spatial/random_elastic_deformation.py\u001b[0m in \u001b[0;36mapply_bspline_transform\u001b[0;34m(self, tensor, affine, control_points, interpolation)\u001b[0m\n\u001b[1;32m    295\u001b[0m             \u001b[0mresampler\u001b[0m\u001b[0;34m.\u001b[0m\u001b[0mSetDefaultPixelValue\u001b[0m\u001b[0;34m(\u001b[0m\u001b[0mcomponent\u001b[0m\u001b[0;34m.\u001b[0m\u001b[0mmin\u001b[0m\u001b[0;34m(\u001b[0m\u001b[0;34m)\u001b[0m\u001b[0;34m.\u001b[0m\u001b[0mitem\u001b[0m\u001b[0;34m(\u001b[0m\u001b[0;34m)\u001b[0m\u001b[0;34m)\u001b[0m\u001b[0;34m\u001b[0m\u001b[0;34m\u001b[0m\u001b[0m\n\u001b[1;32m    296\u001b[0m             \u001b[0mresampler\u001b[0m\u001b[0;34m.\u001b[0m\u001b[0mSetOutputPixelType\u001b[0m\u001b[0;34m(\u001b[0m\u001b[0msitk\u001b[0m\u001b[0;34m.\u001b[0m\u001b[0msitkFloat32\u001b[0m\u001b[0;34m)\u001b[0m\u001b[0;34m\u001b[0m\u001b[0;34m\u001b[0m\u001b[0m\n\u001b[0;32m--> 297\u001b[0;31m             \u001b[0mresampled\u001b[0m \u001b[0;34m=\u001b[0m \u001b[0mresampler\u001b[0m\u001b[0;34m.\u001b[0m\u001b[0mExecute\u001b[0m\u001b[0;34m(\u001b[0m\u001b[0mfloating\u001b[0m\u001b[0;34m)\u001b[0m\u001b[0;34m\u001b[0m\u001b[0;34m\u001b[0m\u001b[0m\n\u001b[0m\u001b[1;32m    298\u001b[0m             \u001b[0mresult\u001b[0m\u001b[0;34m,\u001b[0m \u001b[0m_\u001b[0m \u001b[0;34m=\u001b[0m \u001b[0mself\u001b[0m\u001b[0;34m.\u001b[0m\u001b[0msitk_to_nib\u001b[0m\u001b[0;34m(\u001b[0m\u001b[0mresampled\u001b[0m\u001b[0;34m)\u001b[0m\u001b[0;34m\u001b[0m\u001b[0;34m\u001b[0m\u001b[0m\n\u001b[1;32m    299\u001b[0m             \u001b[0mresults\u001b[0m\u001b[0;34m.\u001b[0m\u001b[0mappend\u001b[0m\u001b[0;34m(\u001b[0m\u001b[0mtorch\u001b[0m\u001b[0;34m.\u001b[0m\u001b[0mas_tensor\u001b[0m\u001b[0;34m(\u001b[0m\u001b[0mresult\u001b[0m\u001b[0;34m)\u001b[0m\u001b[0;34m)\u001b[0m\u001b[0;34m\u001b[0m\u001b[0;34m\u001b[0m\u001b[0m\n",
            "\u001b[0;32m/usr/local/lib/python3.7/dist-packages/SimpleITK/SimpleITK.py\u001b[0m in \u001b[0;36mExecute\u001b[0;34m(self, *args)\u001b[0m\n\u001b[1;32m  58898\u001b[0m \u001b[0;34m\u001b[0m\u001b[0m\n\u001b[1;32m  58899\u001b[0m         \"\"\"\n\u001b[0;32m> 58900\u001b[0;31m         \u001b[0;32mreturn\u001b[0m \u001b[0m_SimpleITK\u001b[0m\u001b[0;34m.\u001b[0m\u001b[0mResampleImageFilter_Execute\u001b[0m\u001b[0;34m(\u001b[0m\u001b[0mself\u001b[0m\u001b[0;34m,\u001b[0m \u001b[0;34m*\u001b[0m\u001b[0margs\u001b[0m\u001b[0;34m)\u001b[0m\u001b[0;34m\u001b[0m\u001b[0;34m\u001b[0m\u001b[0m\n\u001b[0m\u001b[1;32m  58901\u001b[0m \u001b[0;34m\u001b[0m\u001b[0m\n\u001b[1;32m  58902\u001b[0m \u001b[0;34m\u001b[0m\u001b[0m\n",
            "\u001b[0;31mSystemError\u001b[0m: <built-in function ResampleImageFilter_Execute> returned a result with an error set"
          ]
        }
      ]
    },
    {
      "cell_type": "code",
      "metadata": {
        "id": "3Z5Ay9QLUseZ"
      },
      "source": [
        "from sklearn import metrics"
      ],
      "execution_count": null,
      "outputs": []
    },
    {
      "cell_type": "code",
      "metadata": {
        "id": "0iBC6gJ9mNAR"
      },
      "source": [
        "# Evaluate metrics\n",
        "acc_tutta = []\n",
        "auc_tutta = []\n",
        "loss_media = []\n",
        "acc_tutta = []\n",
        "for i in range(30, 40):\n",
        "  model = torch.load( '/content/drive/My Drive/ADNI/model_medie_{}_decima_presa.pth'.format(str(i)))\n",
        "  cfg = { 'n_epochs' : 10,\n",
        "          'lr'       : 1e-4,\n",
        "          'optimizer': optim.SGD}\n",
        "  optimizer = cfg['optimizer'](model.parameters(), lr=cfg['lr'])\n",
        "  \n",
        "  acc_tot = []\n",
        "  loss_tot = []\n",
        "\n",
        "  for j in range(0, 1):\n",
        "      #para_loader = pl.ParallelLoader(train_loader, [dev])\n",
        "\n",
        "      print(\"Validation del modello\")\n",
        "      model.eval()  # Set 4odel to training mode\n",
        "      \n",
        "      loss_list, batch_list = [], []\n",
        "      total_acc = []\n",
        "      output_bc = []\n",
        "      label_bc = []\n",
        "      total_loss = 0\n",
        "      count = 0\n",
        "          \n",
        "      for batch_idx, batch in enumerate(tqdm(validation_loader)):\n",
        "\n",
        "          if batch_idx < len(validation_loader):\n",
        "              \n",
        "            total = 0\n",
        "            correct = 0\n",
        "                \n",
        "            inputs = batch['Lung'][DATA].to(dev)\n",
        "            label = batch['label'].to(dev, dtype=torch.long)\n",
        "\n",
        "            output = model(inputs)\n",
        "            loss = criterion(output, label)\n",
        "            _, predicted = torch.max(output.data, 1)\n",
        "            correct += (predicted == label).sum().item()\n",
        "\n",
        "            \n",
        "            output_bc.append(output.data.cpu().numpy()[:,1])\n",
        "            label_bc.append(label.cpu().numpy())\n",
        "            total_acc.append(correct/4*100)\n",
        "\n",
        "            print('Train - Epoch %d, Batch: %d, Loss: %f, Accuracy: %f' % (i, batch_idx,  loss.detach().cpu().item(), correct/4*100))     \n",
        "            print('Total accuracy: {}'.format(np.mean(total_acc)))\n",
        "            loss_list.append(loss.detach().cpu().item())\n",
        "            \n",
        "\n",
        "      \n",
        "      fpr, tpr, thresholds = metrics.roc_curve(np.concatenate(label_bc).ravel(), np.concatenate(output_bc).ravel())\n",
        "      print(metrics.auc(fpr, tpr))\n",
        "      acc_tutta.append(np.mean(total_acc))\n",
        "      loss_media.append(np.mean(loss_list))\n",
        "      auc_tutta.append(np.mean(auc))\n",
        "\n",
        "\n",
        "\n",
        "    "
      ],
      "execution_count": null,
      "outputs": []
    },
    {
      "cell_type": "code",
      "metadata": {
        "id": "QU4ZzA2Eaxt8"
      },
      "source": [
        "# Print some results"
      ],
      "execution_count": null,
      "outputs": []
    },
    {
      "cell_type": "code",
      "metadata": {
        "id": "ZHuIzRb_rtZ1"
      },
      "source": [
        "acc_train = [57.3232, 53.2828, 57.8282, 57.32, 63.3838, 62.3737, 63.1313, 65.1515, 69.44, 67.4242]\n",
        "loss_train = [0.68, 0.6613, 0.6232, 0.62638, 0.6800, 0.6089, 0.61062, 0.6253, 0.6026, 0.598]"
      ],
      "execution_count": null,
      "outputs": []
    },
    {
      "cell_type": "code",
      "metadata": {
        "id": "1hwei1iJaHbM",
        "colab": {
          "base_uri": "https://localhost:8080/",
          "height": 609
        },
        "outputId": "694848e4-72de-4626-fdee-405979650d72"
      },
      "source": [
        "\n",
        "plt.figure(figsize=(20,10))\n",
        "plt.grid()\n",
        "plt.plot(acc_tutta)"
      ],
      "execution_count": null,
      "outputs": [
        {
          "output_type": "execute_result",
          "data": {
            "text/plain": [
              "[<matplotlib.lines.Line2D at 0x7f96686a0048>]"
            ]
          },
          "metadata": {
            "tags": []
          },
          "execution_count": 145
        },
        {
          "output_type": "display_data",
          "data": {
            "image/png": "[encoded data removed]",
            "text/plain": [
              "<Figure size 1440x720 with 1 Axes>"
            ]
          },
          "metadata": {
            "tags": []
          }
        }
      ]
    },
    {
      "cell_type": "code",
      "metadata": {
        "id": "VvVgpaM3E6AM",
        "colab": {
          "base_uri": "https://localhost:8080/",
          "height": 609
        },
        "outputId": "8ad19b0f-9e50-43fe-907c-fb8f5fbeef35"
      },
      "source": [
        "plt.figure(figsize=(20,10))\n",
        "plt.grid()\n",
        "plt.plot(loss_media, label='test')\n",
        "plt.legend()"
      ],
      "execution_count": null,
      "outputs": [
        {
          "output_type": "execute_result",
          "data": {
            "text/plain": [
              "<matplotlib.legend.Legend at 0x7f2258705f28>"
            ]
          },
          "metadata": {
            "tags": []
          },
          "execution_count": 205
        },
        {
          "output_type": "display_data",
          "data": {
            "image/png": "[encoded data removed]",
            "text/plain": [
              "<Figure size 1440x720 with 1 Axes>"
            ]
          },
          "metadata": {
            "tags": []
          }
        }
      ]
    },
    {
      "cell_type": "code",
      "metadata": {
        "id": "9lelOslAnw3e"
      },
      "source": [
        ""
      ],
      "execution_count": null,
      "outputs": []
    }
  ]
}