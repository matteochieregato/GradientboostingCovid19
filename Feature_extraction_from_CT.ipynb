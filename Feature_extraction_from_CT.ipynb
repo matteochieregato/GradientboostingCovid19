{
  "nbformat": 4,
  "nbformat_minor": 0,
  "metadata": {
    "accelerator": "GPU",
    "colab": {
      "name": "Covid_RF.ipynb",
      "provenance": [],
      "collapsed_sections": [],
      "include_colab_link": true
    },
    "kernelspec": {
      "display_name": "Python 3",
      "language": "python",
      "name": "python3"
    },
    "language_info": {
      "codemirror_mode": {
        "name": "ipython",
        "version": 3
      },
      "file_extension": ".py",
      "mimetype": "text/x-python",
      "name": "python",
      "nbconvert_exporter": "python",
      "pygments_lexer": "ipython3",
      "version": "3.8.2"
    }
  },
  "cells": [
    {
      "cell_type": "markdown",
      "metadata": {
        "id": "view-in-github",
        "colab_type": "text"
      },
      "source": [
        "<a href=\"https://colab.research.google.com/github/matteochieregato/GradientboostingCovid19/blob/main/Feature_extraction_from_CT.ipynb\" target=\"_parent\"><img src=\"https://colab.research.google.com/assets/colab-badge.svg\" alt=\"Open In Colab\"/></a>"
      ]
    },
    {
      "cell_type": "code",
      "metadata": {
        "id": "Ghs8Ji7VA9La",
        "colab": {
          "base_uri": "https://localhost:8080/"
        },
        "outputId": "5e589073-2648-4d89-900d-c24cf0fdc967"
      },
      "source": [
        "# USA FREEZE MODEL FROM COVID_CT.IPYNB TO EXTRACT CT FEATURES (repeat for all the 10 validation datasets)\n",
        "!pip install torchio==0.17.53\n",
        "!pip install shap"
      ],
      "execution_count": 2,
      "outputs": [
        {
          "output_type": "stream",
          "text": [
            "Requirement already satisfied: torchio==0.17.53 in /usr/local/lib/python3.7/dist-packages (0.17.53)\n",
            "Requirement already satisfied: nibabel in /usr/local/lib/python3.7/dist-packages (from torchio==0.17.53) (3.0.2)\n",
            "Requirement already satisfied: Click in /usr/local/lib/python3.7/dist-packages (from torchio==0.17.53) (7.1.2)\n",
            "Requirement already satisfied: numpy in /usr/local/lib/python3.7/dist-packages (from torchio==0.17.53) (1.19.5)\n",
            "Requirement already satisfied: torch>=1.1 in /usr/local/lib/python3.7/dist-packages (from torchio==0.17.53) (1.8.1+cu101)\n",
            "Requirement already satisfied: Python-Deprecated in /usr/local/lib/python3.7/dist-packages (from torchio==0.17.53) (1.1.0)\n",
            "Requirement already satisfied: humanize in /usr/local/lib/python3.7/dist-packages (from torchio==0.17.53) (0.5.1)\n",
            "Requirement already satisfied: tqdm in /usr/local/lib/python3.7/dist-packages (from torchio==0.17.53) (4.41.1)\n",
            "Requirement already satisfied: torchvision in /usr/local/lib/python3.7/dist-packages (from torchio==0.17.53) (0.9.1+cu101)\n",
            "Requirement already satisfied: SimpleITK<2 in /usr/local/lib/python3.7/dist-packages (from torchio==0.17.53) (1.2.4)\n",
            "Requirement already satisfied: scipy in /usr/local/lib/python3.7/dist-packages (from torchio==0.17.53) (1.4.1)\n",
            "Requirement already satisfied: typing-extensions in /usr/local/lib/python3.7/dist-packages (from torch>=1.1->torchio==0.17.53) (3.7.4.3)\n",
            "Requirement already satisfied: pillow>=4.1.1 in /usr/local/lib/python3.7/dist-packages (from torchvision->torchio==0.17.53) (7.1.2)\n",
            "Requirement already satisfied: shap in /usr/local/lib/python3.7/dist-packages (0.39.0)\n",
            "Requirement already satisfied: scikit-learn in /usr/local/lib/python3.7/dist-packages (from shap) (0.22.2.post1)\n",
            "Requirement already satisfied: tqdm>4.25.0 in /usr/local/lib/python3.7/dist-packages (from shap) (4.41.1)\n",
            "Requirement already satisfied: pandas in /usr/local/lib/python3.7/dist-packages (from shap) (1.1.5)\n",
            "Requirement already satisfied: scipy in /usr/local/lib/python3.7/dist-packages (from shap) (1.4.1)\n",
            "Requirement already satisfied: numpy in /usr/local/lib/python3.7/dist-packages (from shap) (1.19.5)\n",
            "Requirement already satisfied: numba in /usr/local/lib/python3.7/dist-packages (from shap) (0.51.2)\n",
            "Requirement already satisfied: cloudpickle in /usr/local/lib/python3.7/dist-packages (from shap) (1.3.0)\n",
            "Requirement already satisfied: slicer==0.0.7 in /usr/local/lib/python3.7/dist-packages (from shap) (0.0.7)\n",
            "Requirement already satisfied: joblib>=0.11 in /usr/local/lib/python3.7/dist-packages (from scikit-learn->shap) (1.0.1)\n",
            "Requirement already satisfied: pytz>=2017.2 in /usr/local/lib/python3.7/dist-packages (from pandas->shap) (2018.9)\n",
            "Requirement already satisfied: python-dateutil>=2.7.3 in /usr/local/lib/python3.7/dist-packages (from pandas->shap) (2.8.1)\n",
            "Requirement already satisfied: llvmlite<0.35,>=0.34.0.dev0 in /usr/local/lib/python3.7/dist-packages (from numba->shap) (0.34.0)\n",
            "Requirement already satisfied: setuptools in /usr/local/lib/python3.7/dist-packages (from numba->shap) (57.0.0)\n",
            "Requirement already satisfied: six>=1.5 in /usr/local/lib/python3.7/dist-packages (from python-dateutil>=2.7.3->pandas->shap) (1.15.0)\n"
          ],
          "name": "stdout"
        }
      ]
    },
    {
      "cell_type": "code",
      "metadata": {
        "id": "0eP9SP__GP3U"
      },
      "source": [
        ""
      ],
      "execution_count": null,
      "outputs": []
    },
    {
      "cell_type": "code",
      "metadata": {
        "id": "9DkQvexsmoH3"
      },
      "source": [
        ""
      ],
      "execution_count": null,
      "outputs": []
    },
    {
      "cell_type": "code",
      "metadata": {
        "id": "Pd3PPiXoo56N",
        "colab": {
          "base_uri": "https://localhost:8080/"
        },
        "outputId": "c2f5485d-c100-4734-986d-7eb434eebd76"
      },
      "source": [
        "# IMPORTO TUTTE LE LIBRERIE\n",
        "\n",
        "import tempfile\n",
        "import os\n",
        "import pandas as pd\n",
        "from pathlib import Path\n",
        "import numpy as np\n",
        "import matplotlib.pyplot as plt\n",
        "from tqdm import tqdm\n",
        "import nibabel as nib\n",
        "import cv2\n",
        "\n",
        "# librerie pytorch\n",
        "import torch\n",
        "import torch.nn as nn\n",
        "import torch.nn.functional as F\n",
        "import torch.optim\n",
        "from torch.optim import Adam\n",
        "from torch.utils import data\n",
        "import torch.utils.data as utils\n",
        "from torch.utils.data import Dataset\n",
        "from torchvision import transforms\n",
        "\n",
        "from scipy import stats\n",
        "import torchvision.models as models\n",
        "import time\n",
        "import torch.nn.init as init\n",
        "import torchio\n",
        "from torchio import AFFINE, DATA, PATH, TYPE, STEM\n",
        "import SimpleITK as sitk\n",
        "import copy"
      ],
      "execution_count": 3,
      "outputs": [
        {
          "output_type": "stream",
          "text": [
            "If you use TorchIO for your research, please cite the following paper:\n",
            "Pérez-García et al., TorchIO: a Python library for efficient loading,\n",
            "preprocessing, augmentation and patch-based sampling of medical images\n",
            "in deep learning. Credits instructions: https://torchio.readthedocs.io/#credits\n",
            "\n"
          ],
          "name": "stdout"
        }
      ]
    },
    {
      "cell_type": "code",
      "metadata": {
        "id": "o-esD2UUlsCI",
        "colab": {
          "base_uri": "https://localhost:8080/"
        },
        "outputId": "0b73948e-19fa-47a7-d9e4-985c8d5aa8f9"
      },
      "source": [
        "torch.cuda.is_available()"
      ],
      "execution_count": 4,
      "outputs": [
        {
          "output_type": "execute_result",
          "data": {
            "text/plain": [
              "True"
            ]
          },
          "metadata": {
            "tags": []
          },
          "execution_count": 4
        }
      ]
    },
    {
      "cell_type": "code",
      "metadata": {
        "id": "dSgnp9gIDmY4",
        "colab": {
          "base_uri": "https://localhost:8080/"
        },
        "outputId": "71a95590-e8f2-4a38-fc3f-b73944df978c"
      },
      "source": [
        "# retieve model from gdrive\n",
        "from google.colab import drive\n",
        "drive.mount('/content/drive')"
      ],
      "execution_count": 6,
      "outputs": [
        {
          "output_type": "stream",
          "text": [
            "Drive already mounted at /content/drive; to attempt to forcibly remount, call drive.mount(\"/content/drive\", force_remount=True).\n"
          ],
          "name": "stdout"
        }
      ]
    },
    {
      "cell_type": "code",
      "metadata": {
        "id": "y-OQNliGAtTt"
      },
      "source": [
        ""
      ],
      "execution_count": 6,
      "outputs": []
    },
    {
      "cell_type": "code",
      "metadata": {
        "id": "F5kBN7sYocr3"
      },
      "source": [
        "import os\n",
        "try:\n",
        "  os.makedirs('CT_Onco')\n",
        "  os.chdir('CT_Onco')\n",
        "  \n",
        "except Exception as e:\n",
        "  print(e)\n",
        "\n"
      ],
      "execution_count": 7,
      "outputs": []
    },
    {
      "cell_type": "code",
      "metadata": {
        "id": "ECy6RUmpoflo"
      },
      "source": [
        "!tar -xvzf XXX/XXX/Medie.tar.gz"
      ],
      "execution_count": null,
      "outputs": []
    },
    {
      "cell_type": "code",
      "metadata": {
        "id": "askHOG_jAmxX",
        "colab": {
          "base_uri": "https://localhost:8080/"
        },
        "outputId": "d942098d-5db2-412e-d901-7272116fd1db"
      },
      "source": [
        "os.chdir('/content')\n",
        "os.listdir('CT_Onco')"
      ],
      "execution_count": 9,
      "outputs": [
        {
          "output_type": "execute_result",
          "data": {
            "text/plain": [
              "['Medie']"
            ]
          },
          "metadata": {
            "tags": []
          },
          "execution_count": 9
        }
      ]
    },
    {
      "cell_type": "code",
      "metadata": {
        "id": "WphZDq_Zb-KX",
        "colab": {
          "base_uri": "https://localhost:8080/"
        },
        "outputId": "3d9263ba-7f88-4681-b113-056eb4870cc6"
      },
      "source": [
        "os.listdir('CT_Onco')"
      ],
      "execution_count": 10,
      "outputs": [
        {
          "output_type": "execute_result",
          "data": {
            "text/plain": [
              "['Medie']"
            ]
          },
          "metadata": {
            "tags": []
          },
          "execution_count": 10
        }
      ]
    },
    {
      "cell_type": "code",
      "metadata": {
        "id": "msHeZ5fJcB66"
      },
      "source": [
        "images_dir = 'CT_Onco/Medie/'"
      ],
      "execution_count": 11,
      "outputs": []
    },
    {
      "cell_type": "markdown",
      "metadata": {
        "id": "bm4N5OV_Amxv"
      },
      "source": [
        "Import dataset with tabular data"
      ]
    },
    {
      "cell_type": "code",
      "metadata": {
        "id": "JazBd7uAcaaG",
        "scrolled": true
      },
      "source": [
        "df_completo = pd.read_csv('drive/My Drive/CT_FINE/pz_covid_MATTEO_non_norm_2.csv')\n",
        "df_completo = df_completo.replace({'ESITO': {'good': 0, 'bad': 1}})"
      ],
      "execution_count": 12,
      "outputs": []
    },
    {
      "cell_type": "code",
      "metadata": {
        "id": "TpeKMgMocbzs"
      },
      "source": [
        "df_LDH = df_completo"
      ],
      "execution_count": 13,
      "outputs": []
    },
    {
      "cell_type": "code",
      "metadata": {
        "id": "weyHrAVAcgW_"
      },
      "source": [
        "# Delete data without CT and LDH\n",
        "df_LDH_CT = df_completo.dropna(subset=['LDH'])"
      ],
      "execution_count": 18,
      "outputs": []
    },
    {
      "cell_type": "code",
      "metadata": {
        "id": "dllDixABcids"
      },
      "source": [
        "df_test_finale = df_LDH_CT.sample(frac = 0.2, random_state=109364524) "
      ],
      "execution_count": 19,
      "outputs": []
    },
    {
      "cell_type": "code",
      "metadata": {
        "id": "G4cstwOTVvg1"
      },
      "source": [
        "df_train = df_LDH.drop(df_test_finale.index)"
      ],
      "execution_count": 20,
      "outputs": []
    },
    {
      "cell_type": "code",
      "metadata": {
        "id": "oS1fUIk18ZbP",
        "colab": {
          "base_uri": "https://localhost:8080/",
          "height": 224
        },
        "outputId": "85e604e7-b090-4152-c749-af0345f8cfa2"
      },
      "source": [
        "df_test_finale.head(5)"
      ],
      "execution_count": 21,
      "outputs": [
        {
          "output_type": "execute_result",
          "data": {
            "text/html": [
              "<div>\n",
              "<style scoped>\n",
              "    .dataframe tbody tr th:only-of-type {\n",
              "        vertical-align: middle;\n",
              "    }\n",
              "\n",
              "    .dataframe tbody tr th {\n",
              "        vertical-align: top;\n",
              "    }\n",
              "\n",
              "    .dataframe thead th {\n",
              "        text-align: right;\n",
              "    }\n",
              "</style>\n",
              "<table border=\"1\" class=\"dataframe\">\n",
              "  <thead>\n",
              "    <tr style=\"text-align: right;\">\n",
              "      <th></th>\n",
              "      <th>id_paziente</th>\n",
              "      <th>ESITO</th>\n",
              "      <th>sesso</th>\n",
              "      <th>eta</th>\n",
              "      <th>bmi</th>\n",
              "      <th>Diabete</th>\n",
              "      <th>Ipertensione</th>\n",
              "      <th>Cardiopatia</th>\n",
              "      <th>Coronaropatia</th>\n",
              "      <th>Oncologico</th>\n",
              "      <th>RDW</th>\n",
              "      <th>HCT</th>\n",
              "      <th>Hb</th>\n",
              "      <th>RBC</th>\n",
              "      <th>GranulocitiBasofiliPerc</th>\n",
              "      <th>GranulocitiEosinofiliPerc</th>\n",
              "      <th>GranulocitiNeutrofiliPerc</th>\n",
              "      <th>WBC</th>\n",
              "      <th>LinfocitiPerc</th>\n",
              "      <th>MonocitiPerc</th>\n",
              "      <th>PLT</th>\n",
              "      <th>VES</th>\n",
              "      <th>Albumina</th>\n",
              "      <th>AST</th>\n",
              "      <th>ALT</th>\n",
              "      <th>BilirubinaTot</th>\n",
              "      <th>CK</th>\n",
              "      <th>Creatinina</th>\n",
              "      <th>LDH</th>\n",
              "      <th>PCR</th>\n",
              "      <th>Urea</th>\n",
              "      <th>Potassio</th>\n",
              "      <th>Sodio</th>\n",
              "      <th>HCO3</th>\n",
              "      <th>Lac</th>\n",
              "      <th>pCO2</th>\n",
              "      <th>pO2FiO2</th>\n",
              "      <th>sO2</th>\n",
              "      <th>FCing</th>\n",
              "      <th>PASing</th>\n",
              "      <th>PADing</th>\n",
              "      <th>TCing</th>\n",
              "      <th>PT_INR</th>\n",
              "    </tr>\n",
              "  </thead>\n",
              "  <tbody>\n",
              "    <tr>\n",
              "      <th>596</th>\n",
              "      <td>3013040062</td>\n",
              "      <td>1</td>\n",
              "      <td>1</td>\n",
              "      <td>51</td>\n",
              "      <td>29.4</td>\n",
              "      <td>0</td>\n",
              "      <td>1</td>\n",
              "      <td>1</td>\n",
              "      <td>0</td>\n",
              "      <td>0</td>\n",
              "      <td>12.9</td>\n",
              "      <td>38.5</td>\n",
              "      <td>13.4</td>\n",
              "      <td>4.49</td>\n",
              "      <td>0.00</td>\n",
              "      <td>0.13</td>\n",
              "      <td>91.5</td>\n",
              "      <td>11.80</td>\n",
              "      <td>5.15</td>\n",
              "      <td>3.21</td>\n",
              "      <td>184</td>\n",
              "      <td>NaN</td>\n",
              "      <td>3.4</td>\n",
              "      <td>60.0</td>\n",
              "      <td>44.0</td>\n",
              "      <td>0.7</td>\n",
              "      <td>460.0</td>\n",
              "      <td>0.96</td>\n",
              "      <td>416</td>\n",
              "      <td>71.8</td>\n",
              "      <td>NaN</td>\n",
              "      <td>3.8</td>\n",
              "      <td>137</td>\n",
              "      <td>27.8</td>\n",
              "      <td>0.7</td>\n",
              "      <td>49</td>\n",
              "      <td>86</td>\n",
              "      <td>91.6</td>\n",
              "      <td>127.0</td>\n",
              "      <td>163.0</td>\n",
              "      <td>102.0</td>\n",
              "      <td>39.6</td>\n",
              "      <td>0.96</td>\n",
              "    </tr>\n",
              "    <tr>\n",
              "      <th>493</th>\n",
              "      <td>3002499556</td>\n",
              "      <td>0</td>\n",
              "      <td>1</td>\n",
              "      <td>56</td>\n",
              "      <td>27.7</td>\n",
              "      <td>0</td>\n",
              "      <td>1</td>\n",
              "      <td>1</td>\n",
              "      <td>1</td>\n",
              "      <td>0</td>\n",
              "      <td>12.3</td>\n",
              "      <td>40.4</td>\n",
              "      <td>13.8</td>\n",
              "      <td>4.47</td>\n",
              "      <td>1.43</td>\n",
              "      <td>0.28</td>\n",
              "      <td>79.5</td>\n",
              "      <td>9.11</td>\n",
              "      <td>12.60</td>\n",
              "      <td>6.17</td>\n",
              "      <td>361</td>\n",
              "      <td>54.0</td>\n",
              "      <td>3.0</td>\n",
              "      <td>67.0</td>\n",
              "      <td>81.0</td>\n",
              "      <td>1.3</td>\n",
              "      <td>68.0</td>\n",
              "      <td>0.68</td>\n",
              "      <td>593</td>\n",
              "      <td>153.1</td>\n",
              "      <td>34.0</td>\n",
              "      <td>4.9</td>\n",
              "      <td>139</td>\n",
              "      <td>24.7</td>\n",
              "      <td>1.0</td>\n",
              "      <td>37</td>\n",
              "      <td>224</td>\n",
              "      <td>98.5</td>\n",
              "      <td>127.0</td>\n",
              "      <td>130.0</td>\n",
              "      <td>85.0</td>\n",
              "      <td>37.0</td>\n",
              "      <td>1.07</td>\n",
              "    </tr>\n",
              "    <tr>\n",
              "      <th>624</th>\n",
              "      <td>3013042387</td>\n",
              "      <td>0</td>\n",
              "      <td>1</td>\n",
              "      <td>54</td>\n",
              "      <td>29.4</td>\n",
              "      <td>0</td>\n",
              "      <td>1</td>\n",
              "      <td>0</td>\n",
              "      <td>0</td>\n",
              "      <td>0</td>\n",
              "      <td>11.0</td>\n",
              "      <td>34.0</td>\n",
              "      <td>11.7</td>\n",
              "      <td>3.56</td>\n",
              "      <td>0.00</td>\n",
              "      <td>0.85</td>\n",
              "      <td>66.7</td>\n",
              "      <td>5.47</td>\n",
              "      <td>23.90</td>\n",
              "      <td>8.55</td>\n",
              "      <td>227</td>\n",
              "      <td>83.0</td>\n",
              "      <td>3.2</td>\n",
              "      <td>105.0</td>\n",
              "      <td>155.0</td>\n",
              "      <td>0.7</td>\n",
              "      <td>65.0</td>\n",
              "      <td>0.72</td>\n",
              "      <td>259</td>\n",
              "      <td>85.2</td>\n",
              "      <td>26.0</td>\n",
              "      <td>4.2</td>\n",
              "      <td>139</td>\n",
              "      <td>25.6</td>\n",
              "      <td>0.6</td>\n",
              "      <td>36</td>\n",
              "      <td>331</td>\n",
              "      <td>95.1</td>\n",
              "      <td>90.0</td>\n",
              "      <td>116.0</td>\n",
              "      <td>77.0</td>\n",
              "      <td>38.5</td>\n",
              "      <td>0.98</td>\n",
              "    </tr>\n",
              "    <tr>\n",
              "      <th>656</th>\n",
              "      <td>3013045956</td>\n",
              "      <td>0</td>\n",
              "      <td>1</td>\n",
              "      <td>60</td>\n",
              "      <td>38.1</td>\n",
              "      <td>0</td>\n",
              "      <td>1</td>\n",
              "      <td>0</td>\n",
              "      <td>0</td>\n",
              "      <td>0</td>\n",
              "      <td>13.4</td>\n",
              "      <td>41.9</td>\n",
              "      <td>13.6</td>\n",
              "      <td>4.57</td>\n",
              "      <td>0.22</td>\n",
              "      <td>2.50</td>\n",
              "      <td>72.6</td>\n",
              "      <td>8.37</td>\n",
              "      <td>13.60</td>\n",
              "      <td>11.00</td>\n",
              "      <td>288</td>\n",
              "      <td>59.0</td>\n",
              "      <td>3.0</td>\n",
              "      <td>46.0</td>\n",
              "      <td>38.0</td>\n",
              "      <td>0.7</td>\n",
              "      <td>122.0</td>\n",
              "      <td>0.78</td>\n",
              "      <td>460</td>\n",
              "      <td>81.9</td>\n",
              "      <td>53.0</td>\n",
              "      <td>3.8</td>\n",
              "      <td>142</td>\n",
              "      <td>31.4</td>\n",
              "      <td>1.7</td>\n",
              "      <td>46</td>\n",
              "      <td>58</td>\n",
              "      <td>70.2</td>\n",
              "      <td>107.0</td>\n",
              "      <td>151.0</td>\n",
              "      <td>84.0</td>\n",
              "      <td>38.5</td>\n",
              "      <td>1.03</td>\n",
              "    </tr>\n",
              "    <tr>\n",
              "      <th>66</th>\n",
              "      <td>2000048412</td>\n",
              "      <td>1</td>\n",
              "      <td>0</td>\n",
              "      <td>89</td>\n",
              "      <td>24.4</td>\n",
              "      <td>1</td>\n",
              "      <td>1</td>\n",
              "      <td>1</td>\n",
              "      <td>0</td>\n",
              "      <td>0</td>\n",
              "      <td>13.3</td>\n",
              "      <td>49.4</td>\n",
              "      <td>15.8</td>\n",
              "      <td>4.13</td>\n",
              "      <td>0.00</td>\n",
              "      <td>0.00</td>\n",
              "      <td>77.0</td>\n",
              "      <td>5.86</td>\n",
              "      <td>16.00</td>\n",
              "      <td>7.00</td>\n",
              "      <td>241</td>\n",
              "      <td>31.0</td>\n",
              "      <td>3.5</td>\n",
              "      <td>68.0</td>\n",
              "      <td>13.0</td>\n",
              "      <td>0.4</td>\n",
              "      <td>243.0</td>\n",
              "      <td>3.02</td>\n",
              "      <td>574</td>\n",
              "      <td>139.0</td>\n",
              "      <td>225.0</td>\n",
              "      <td>5.8</td>\n",
              "      <td>153</td>\n",
              "      <td>19.7</td>\n",
              "      <td>3.7</td>\n",
              "      <td>38</td>\n",
              "      <td>38</td>\n",
              "      <td>28.9</td>\n",
              "      <td>108.0</td>\n",
              "      <td>130.0</td>\n",
              "      <td>81.0</td>\n",
              "      <td>37.6</td>\n",
              "      <td>1.12</td>\n",
              "    </tr>\n",
              "  </tbody>\n",
              "</table>\n",
              "</div>"
            ],
            "text/plain": [
              "     id_paziente  ESITO  sesso  eta   bmi  ...  FCing  PASing  PADing  TCing  PT_INR\n",
              "596   3013040062      1      1   51  29.4  ...  127.0   163.0   102.0   39.6    0.96\n",
              "493   3002499556      0      1   56  27.7  ...  127.0   130.0    85.0   37.0    1.07\n",
              "624   3013042387      0      1   54  29.4  ...   90.0   116.0    77.0   38.5    0.98\n",
              "656   3013045956      0      1   60  38.1  ...  107.0   151.0    84.0   38.5    1.03\n",
              "66    2000048412      1      0   89  24.4  ...  108.0   130.0    81.0   37.6    1.12\n",
              "\n",
              "[5 rows x 43 columns]"
            ]
          },
          "metadata": {
            "tags": []
          },
          "execution_count": 21
        }
      ]
    },
    {
      "cell_type": "code",
      "metadata": {
        "id": "3YoZCcli8ZzO"
      },
      "source": [
        "df_train = pd.concat([df_test_finale, df_LDH]).drop_duplicates(keep = False)"
      ],
      "execution_count": 22,
      "outputs": []
    },
    {
      "cell_type": "code",
      "metadata": {
        "id": "2Dmcnj-M8ZlF"
      },
      "source": [
        "df_validation = df_train.sample(frac = 0.1, random_state=806090) "
      ],
      "execution_count": 23,
      "outputs": []
    },
    {
      "cell_type": "code",
      "metadata": {
        "id": "G_XTGHqd8ZJ8"
      },
      "source": [
        "df_train = pd.concat([df_train, df_validation]).drop_duplicates(keep = False)"
      ],
      "execution_count": 24,
      "outputs": []
    },
    {
      "cell_type": "code",
      "metadata": {
        "id": "fySYmO0hVyVU"
      },
      "source": [
        "df_test = df_test_finale"
      ],
      "execution_count": 25,
      "outputs": []
    },
    {
      "cell_type": "code",
      "metadata": {
        "id": "yYA7GrGfclX0"
      },
      "source": [
        "data_totale = os.listdir(images_dir)\n",
        "\n",
        "data_totale_no_doppi = []\n",
        "dati_no_doppi = []\n",
        "\n",
        "for i, path in enumerate(os.listdir(images_dir)):\n",
        "    dati = path.split('_')[0].split('.')[0]\n",
        "    if dati not in dati_no_doppi:\n",
        "        dati_no_doppi.append(dati)\n",
        "        data_totale_no_doppi.append(data_totale[i])"
      ],
      "execution_count": 26,
      "outputs": []
    },
    {
      "cell_type": "code",
      "metadata": {
        "id": "Z4uQ8quvcm6u"
      },
      "source": [
        "label_train = df_train.loc[df_train['id_paziente'].isin(dati_no_doppi)]\n",
        "label_validation = df_validation.loc[df_validation['id_paziente'].isin(dati_no_doppi)]\n",
        "label_test = df_test_finale.loc[df_test_finale['id_paziente'].isin(dati_no_doppi)]"
      ],
      "execution_count": 27,
      "outputs": []
    },
    {
      "cell_type": "code",
      "metadata": {
        "id": "djENVzcBAmzm"
      },
      "source": [
        "df_train.to_csv('df_train_xxx.csv')"
      ],
      "execution_count": 28,
      "outputs": []
    },
    {
      "cell_type": "code",
      "metadata": {
        "id": "pfC-pOixAmzq"
      },
      "source": [
        "df_validation.to_csv('df_valid_xxx.csv')"
      ],
      "execution_count": 29,
      "outputs": []
    },
    {
      "cell_type": "code",
      "metadata": {
        "id": "HyEu8KTpcqo_"
      },
      "source": [
        "gravità_train = []\n",
        "id_tutti_train = []\n",
        "for dati in data_totale:\n",
        "  id_tutti_train.append(df_train.loc[df_train['id_paziente'] == int(dati.split('_')[0].split('.')[0])]['id_paziente'].values)\n",
        "  gravità_train.append(df_train.loc[df_train['id_paziente'] == int(dati.split('_')[0].split('.')[0])]['ESITO'].values)"
      ],
      "execution_count": 30,
      "outputs": []
    },
    {
      "cell_type": "code",
      "metadata": {
        "id": "_ZvmQ8zFAmzw"
      },
      "source": [
        "gravità_validation = []\n",
        "id_tutti_validation = []\n",
        "for dati in data_totale:\n",
        "  id_tutti_validation.append(df_validation.loc[df_validation['id_paziente'] == int(dati.split('_')[0].split('.')[0])]['id_paziente'].values)\n",
        "  gravità_validation.append(df_validation.loc[df_validation['id_paziente'] == int(dati.split('_')[0].split('.')[0])]['ESITO'].values)"
      ],
      "execution_count": 31,
      "outputs": []
    },
    {
      "cell_type": "code",
      "metadata": {
        "id": "YsK7LTW4SNXh",
        "colab": {
          "base_uri": "https://localhost:8080/",
          "height": 224
        },
        "outputId": "8b789a22-822d-490e-fe25-701eaf9e45db"
      },
      "source": [
        "df_test_finale.head()"
      ],
      "execution_count": 33,
      "outputs": [
        {
          "output_type": "execute_result",
          "data": {
            "text/html": [
              "<div>\n",
              "<style scoped>\n",
              "    .dataframe tbody tr th:only-of-type {\n",
              "        vertical-align: middle;\n",
              "    }\n",
              "\n",
              "    .dataframe tbody tr th {\n",
              "        vertical-align: top;\n",
              "    }\n",
              "\n",
              "    .dataframe thead th {\n",
              "        text-align: right;\n",
              "    }\n",
              "</style>\n",
              "<table border=\"1\" class=\"dataframe\">\n",
              "  <thead>\n",
              "    <tr style=\"text-align: right;\">\n",
              "      <th></th>\n",
              "      <th>id_paziente</th>\n",
              "      <th>ESITO</th>\n",
              "      <th>sesso</th>\n",
              "      <th>eta</th>\n",
              "      <th>bmi</th>\n",
              "      <th>Diabete</th>\n",
              "      <th>Ipertensione</th>\n",
              "      <th>Cardiopatia</th>\n",
              "      <th>Coronaropatia</th>\n",
              "      <th>Oncologico</th>\n",
              "      <th>RDW</th>\n",
              "      <th>HCT</th>\n",
              "      <th>Hb</th>\n",
              "      <th>RBC</th>\n",
              "      <th>GranulocitiBasofiliPerc</th>\n",
              "      <th>GranulocitiEosinofiliPerc</th>\n",
              "      <th>GranulocitiNeutrofiliPerc</th>\n",
              "      <th>WBC</th>\n",
              "      <th>LinfocitiPerc</th>\n",
              "      <th>MonocitiPerc</th>\n",
              "      <th>PLT</th>\n",
              "      <th>VES</th>\n",
              "      <th>Albumina</th>\n",
              "      <th>AST</th>\n",
              "      <th>ALT</th>\n",
              "      <th>BilirubinaTot</th>\n",
              "      <th>CK</th>\n",
              "      <th>Creatinina</th>\n",
              "      <th>LDH</th>\n",
              "      <th>PCR</th>\n",
              "      <th>Urea</th>\n",
              "      <th>Potassio</th>\n",
              "      <th>Sodio</th>\n",
              "      <th>HCO3</th>\n",
              "      <th>Lac</th>\n",
              "      <th>pCO2</th>\n",
              "      <th>pO2FiO2</th>\n",
              "      <th>sO2</th>\n",
              "      <th>FCing</th>\n",
              "      <th>PASing</th>\n",
              "      <th>PADing</th>\n",
              "      <th>TCing</th>\n",
              "      <th>PT_INR</th>\n",
              "    </tr>\n",
              "  </thead>\n",
              "  <tbody>\n",
              "    <tr>\n",
              "      <th>596</th>\n",
              "      <td>3013040062</td>\n",
              "      <td>1</td>\n",
              "      <td>1</td>\n",
              "      <td>51</td>\n",
              "      <td>29.4</td>\n",
              "      <td>0</td>\n",
              "      <td>1</td>\n",
              "      <td>1</td>\n",
              "      <td>0</td>\n",
              "      <td>0</td>\n",
              "      <td>12.9</td>\n",
              "      <td>38.5</td>\n",
              "      <td>13.4</td>\n",
              "      <td>4.49</td>\n",
              "      <td>0.00</td>\n",
              "      <td>0.13</td>\n",
              "      <td>91.5</td>\n",
              "      <td>11.80</td>\n",
              "      <td>5.15</td>\n",
              "      <td>3.21</td>\n",
              "      <td>184</td>\n",
              "      <td>NaN</td>\n",
              "      <td>3.4</td>\n",
              "      <td>60.0</td>\n",
              "      <td>44.0</td>\n",
              "      <td>0.7</td>\n",
              "      <td>460.0</td>\n",
              "      <td>0.96</td>\n",
              "      <td>416</td>\n",
              "      <td>71.8</td>\n",
              "      <td>NaN</td>\n",
              "      <td>3.8</td>\n",
              "      <td>137</td>\n",
              "      <td>27.8</td>\n",
              "      <td>0.7</td>\n",
              "      <td>49</td>\n",
              "      <td>86</td>\n",
              "      <td>91.6</td>\n",
              "      <td>127.0</td>\n",
              "      <td>163.0</td>\n",
              "      <td>102.0</td>\n",
              "      <td>39.6</td>\n",
              "      <td>0.96</td>\n",
              "    </tr>\n",
              "    <tr>\n",
              "      <th>493</th>\n",
              "      <td>3002499556</td>\n",
              "      <td>0</td>\n",
              "      <td>1</td>\n",
              "      <td>56</td>\n",
              "      <td>27.7</td>\n",
              "      <td>0</td>\n",
              "      <td>1</td>\n",
              "      <td>1</td>\n",
              "      <td>1</td>\n",
              "      <td>0</td>\n",
              "      <td>12.3</td>\n",
              "      <td>40.4</td>\n",
              "      <td>13.8</td>\n",
              "      <td>4.47</td>\n",
              "      <td>1.43</td>\n",
              "      <td>0.28</td>\n",
              "      <td>79.5</td>\n",
              "      <td>9.11</td>\n",
              "      <td>12.60</td>\n",
              "      <td>6.17</td>\n",
              "      <td>361</td>\n",
              "      <td>54.0</td>\n",
              "      <td>3.0</td>\n",
              "      <td>67.0</td>\n",
              "      <td>81.0</td>\n",
              "      <td>1.3</td>\n",
              "      <td>68.0</td>\n",
              "      <td>0.68</td>\n",
              "      <td>593</td>\n",
              "      <td>153.1</td>\n",
              "      <td>34.0</td>\n",
              "      <td>4.9</td>\n",
              "      <td>139</td>\n",
              "      <td>24.7</td>\n",
              "      <td>1.0</td>\n",
              "      <td>37</td>\n",
              "      <td>224</td>\n",
              "      <td>98.5</td>\n",
              "      <td>127.0</td>\n",
              "      <td>130.0</td>\n",
              "      <td>85.0</td>\n",
              "      <td>37.0</td>\n",
              "      <td>1.07</td>\n",
              "    </tr>\n",
              "    <tr>\n",
              "      <th>624</th>\n",
              "      <td>3013042387</td>\n",
              "      <td>0</td>\n",
              "      <td>1</td>\n",
              "      <td>54</td>\n",
              "      <td>29.4</td>\n",
              "      <td>0</td>\n",
              "      <td>1</td>\n",
              "      <td>0</td>\n",
              "      <td>0</td>\n",
              "      <td>0</td>\n",
              "      <td>11.0</td>\n",
              "      <td>34.0</td>\n",
              "      <td>11.7</td>\n",
              "      <td>3.56</td>\n",
              "      <td>0.00</td>\n",
              "      <td>0.85</td>\n",
              "      <td>66.7</td>\n",
              "      <td>5.47</td>\n",
              "      <td>23.90</td>\n",
              "      <td>8.55</td>\n",
              "      <td>227</td>\n",
              "      <td>83.0</td>\n",
              "      <td>3.2</td>\n",
              "      <td>105.0</td>\n",
              "      <td>155.0</td>\n",
              "      <td>0.7</td>\n",
              "      <td>65.0</td>\n",
              "      <td>0.72</td>\n",
              "      <td>259</td>\n",
              "      <td>85.2</td>\n",
              "      <td>26.0</td>\n",
              "      <td>4.2</td>\n",
              "      <td>139</td>\n",
              "      <td>25.6</td>\n",
              "      <td>0.6</td>\n",
              "      <td>36</td>\n",
              "      <td>331</td>\n",
              "      <td>95.1</td>\n",
              "      <td>90.0</td>\n",
              "      <td>116.0</td>\n",
              "      <td>77.0</td>\n",
              "      <td>38.5</td>\n",
              "      <td>0.98</td>\n",
              "    </tr>\n",
              "    <tr>\n",
              "      <th>656</th>\n",
              "      <td>3013045956</td>\n",
              "      <td>0</td>\n",
              "      <td>1</td>\n",
              "      <td>60</td>\n",
              "      <td>38.1</td>\n",
              "      <td>0</td>\n",
              "      <td>1</td>\n",
              "      <td>0</td>\n",
              "      <td>0</td>\n",
              "      <td>0</td>\n",
              "      <td>13.4</td>\n",
              "      <td>41.9</td>\n",
              "      <td>13.6</td>\n",
              "      <td>4.57</td>\n",
              "      <td>0.22</td>\n",
              "      <td>2.50</td>\n",
              "      <td>72.6</td>\n",
              "      <td>8.37</td>\n",
              "      <td>13.60</td>\n",
              "      <td>11.00</td>\n",
              "      <td>288</td>\n",
              "      <td>59.0</td>\n",
              "      <td>3.0</td>\n",
              "      <td>46.0</td>\n",
              "      <td>38.0</td>\n",
              "      <td>0.7</td>\n",
              "      <td>122.0</td>\n",
              "      <td>0.78</td>\n",
              "      <td>460</td>\n",
              "      <td>81.9</td>\n",
              "      <td>53.0</td>\n",
              "      <td>3.8</td>\n",
              "      <td>142</td>\n",
              "      <td>31.4</td>\n",
              "      <td>1.7</td>\n",
              "      <td>46</td>\n",
              "      <td>58</td>\n",
              "      <td>70.2</td>\n",
              "      <td>107.0</td>\n",
              "      <td>151.0</td>\n",
              "      <td>84.0</td>\n",
              "      <td>38.5</td>\n",
              "      <td>1.03</td>\n",
              "    </tr>\n",
              "    <tr>\n",
              "      <th>66</th>\n",
              "      <td>2000048412</td>\n",
              "      <td>1</td>\n",
              "      <td>0</td>\n",
              "      <td>89</td>\n",
              "      <td>24.4</td>\n",
              "      <td>1</td>\n",
              "      <td>1</td>\n",
              "      <td>1</td>\n",
              "      <td>0</td>\n",
              "      <td>0</td>\n",
              "      <td>13.3</td>\n",
              "      <td>49.4</td>\n",
              "      <td>15.8</td>\n",
              "      <td>4.13</td>\n",
              "      <td>0.00</td>\n",
              "      <td>0.00</td>\n",
              "      <td>77.0</td>\n",
              "      <td>5.86</td>\n",
              "      <td>16.00</td>\n",
              "      <td>7.00</td>\n",
              "      <td>241</td>\n",
              "      <td>31.0</td>\n",
              "      <td>3.5</td>\n",
              "      <td>68.0</td>\n",
              "      <td>13.0</td>\n",
              "      <td>0.4</td>\n",
              "      <td>243.0</td>\n",
              "      <td>3.02</td>\n",
              "      <td>574</td>\n",
              "      <td>139.0</td>\n",
              "      <td>225.0</td>\n",
              "      <td>5.8</td>\n",
              "      <td>153</td>\n",
              "      <td>19.7</td>\n",
              "      <td>3.7</td>\n",
              "      <td>38</td>\n",
              "      <td>38</td>\n",
              "      <td>28.9</td>\n",
              "      <td>108.0</td>\n",
              "      <td>130.0</td>\n",
              "      <td>81.0</td>\n",
              "      <td>37.6</td>\n",
              "      <td>1.12</td>\n",
              "    </tr>\n",
              "  </tbody>\n",
              "</table>\n",
              "</div>"
            ],
            "text/plain": [
              "     id_paziente  ESITO  sesso  eta   bmi  ...  FCing  PASing  PADing  TCing  PT_INR\n",
              "596   3013040062      1      1   51  29.4  ...  127.0   163.0   102.0   39.6    0.96\n",
              "493   3002499556      0      1   56  27.7  ...  127.0   130.0    85.0   37.0    1.07\n",
              "624   3013042387      0      1   54  29.4  ...   90.0   116.0    77.0   38.5    0.98\n",
              "656   3013045956      0      1   60  38.1  ...  107.0   151.0    84.0   38.5    1.03\n",
              "66    2000048412      1      0   89  24.4  ...  108.0   130.0    81.0   37.6    1.12\n",
              "\n",
              "[5 rows x 43 columns]"
            ]
          },
          "metadata": {
            "tags": []
          },
          "execution_count": 33
        }
      ]
    },
    {
      "cell_type": "code",
      "metadata": {
        "id": "BOVeFWhkAmzz"
      },
      "source": [
        "gravità_test = []\n",
        "id_tutti_test = []\n",
        "for dati in data_totale:\n",
        "    id_tutti_test.append(df_test_finale.loc[df_test_finale['id_paziente'] == int(dati.split('_')[0].split('.')[0])]['id_paziente'].values)\n",
        "    gravità_test.append(df_test_finale.loc[df_test_finale['id_paziente'] == int(dati.split('_')[0].split('.')[0])]['ESITO'].values)"
      ],
      "execution_count": 34,
      "outputs": []
    },
    {
      "cell_type": "code",
      "metadata": {
        "id": "55lkpp5YAm0I"
      },
      "source": [
        "MRI = 'Lung'\n",
        "LABEL = 'label'\n",
        "subjects_train = []\n",
        "for idx, image_path in enumerate(os.listdir(images_dir)):\n",
        "    try: \n",
        "        print((image_path.split('.')[0]))\n",
        "        indexx = id_tutti_train.index(int(image_path.split('.')[0]))\n",
        "        if (np.isnan(gravità_train[indexx])) == False:\n",
        "            subject_dict = {\n",
        "\n",
        "                MRI: torchio.Image(images_dir + image_path, torchio.INTENSITY),\n",
        "                'label': gravità_train[indexx],\n",
        "                'id': image_path.split('.')[0],\n",
        "                \n",
        "            }\n",
        "            \n",
        "            subject = torchio.Subject(subject_dict)\n",
        "            subjects_train.append(subject)\n",
        "    except Exception as e:\n",
        "        print(e)\n",
        "dataset_train = torchio.ImagesDataset(subjects_train)\n",
        "print('Dataset size:', len(dataset_train), 'subjects')"
      ],
      "execution_count": null,
      "outputs": []
    },
    {
      "cell_type": "code",
      "metadata": {
        "id": "Y5BLsV4iAm0L"
      },
      "source": [
        "MRI = 'Lung'\n",
        "LABEL = 'label'\n",
        "subjects_valid = []\n",
        "for idx, image_path in enumerate(os.listdir(images_dir)):\n",
        "    try: \n",
        "        indexx = id_tutti_validation.index(int(image_path.split('_')[0].split('.')[0]))\n",
        "        if (np.isnan(gravità_validation[indexx])) == False:\n",
        "            subject_dict = {\n",
        "\n",
        "                MRI: torchio.Image(images_dir + image_path, torchio.INTENSITY),\n",
        "                'label': gravità_validation[indexx],\n",
        "                'id': image_path.split('_')[0].split('.')[0],\n",
        "                \n",
        "            }\n",
        "            \n",
        "            subject = torchio.Subject(subject_dict)\n",
        "            subjects_valid.append(subject)\n",
        "    except Exception as e:\n",
        "        print(e)\n",
        "dataset_valid = torchio.ImagesDataset(subjects_valid)\n",
        "print('Dataset size:', len(dataset_valid), 'subjects')"
      ],
      "execution_count": null,
      "outputs": []
    },
    {
      "cell_type": "code",
      "metadata": {
        "id": "uVrEjIf6Am0P"
      },
      "source": [
        "MRI = 'Lung'\n",
        "LABEL = 'label'\n",
        "subjects_test = []\n",
        "for idx, image_path in enumerate(os.listdir(images_dir)):\n",
        "    try: \n",
        "        indexx = id_tutti_test.index(int(image_path.split('_')[0].split('.')[0]))\n",
        "        if (np.isnan(gravità_test[indexx])) == False:\n",
        "            subject_dict = {\n",
        "\n",
        "                MRI: torchio.Image(images_dir + image_path, torchio.INTENSITY),\n",
        "                'label': gravità_test[indexx],\n",
        "                'id': image_path.split('_')[0].split('.')[0],\n",
        "                \n",
        "            }\n",
        "            \n",
        "            subject = torchio.Subject(subject_dict)\n",
        "            subjects_test.append(subject)\n",
        "    except Exception as e:\n",
        "        print(e)\n",
        "dataset_test = torchio.ImagesDataset(subjects_test)\n",
        "print('Dataset size:', len(dataset_test), 'subjects')"
      ],
      "execution_count": null,
      "outputs": []
    },
    {
      "cell_type": "code",
      "metadata": {
        "id": "7aCua6zTSrP7"
      },
      "source": [
        ""
      ],
      "execution_count": null,
      "outputs": []
    },
    {
      "cell_type": "code",
      "metadata": {
        "id": "anr6a1KacuWZ"
      },
      "source": [
        "count = 0\n",
        "for id in df_test_finale['id_paziente']:\n",
        "  for data in os.listdir(images_dir):\n",
        "    if (data.split('_')[0]) == str(id):\n",
        "      count += 1"
      ],
      "execution_count": 38,
      "outputs": []
    },
    {
      "cell_type": "code",
      "metadata": {
        "id": "fFEoaGaqc4PW",
        "colab": {
          "base_uri": "https://localhost:8080/"
        },
        "outputId": "db695988-a4ca-49d0-a25c-b074e8dd7c76"
      },
      "source": [
        "count"
      ],
      "execution_count": 39,
      "outputs": [
        {
          "output_type": "execute_result",
          "data": {
            "text/plain": [
              "0"
            ]
          },
          "metadata": {
            "tags": []
          },
          "execution_count": 39
        }
      ]
    },
    {
      "cell_type": "code",
      "metadata": {
        "id": "BqiJGcxNdBoT",
        "colab": {
          "base_uri": "https://localhost:8080/"
        },
        "outputId": "0d372435-0f51-4153-b169-b18929ad9584"
      },
      "source": [
        "from torchio.transforms import (\n",
        "    RescaleIntensity,\n",
        "    ZNormalization,\n",
        "    Compose,\n",
        ")\n",
        "training_transform = Compose([\n",
        "    RescaleIntensity((0, 1)),    \n",
        "    ZNormalization(masking_method=ZNormalization.mean),\n",
        "])\n",
        "\n",
        "training_subjects = subjects_train\n",
        "validation_subjects = subjects_valid\n",
        "test_subjects = subjects_test\n",
        "\n",
        "training_set = torchio.ImagesDataset(\n",
        "    training_subjects, transform=training_transform)\n",
        "\n",
        "validation_set = torchio.ImagesDataset(validation_subjects, transform = training_transform)\n",
        "\n",
        "test_set = torchio.ImagesDataset(test_subjects, transform = training_transform)\n",
        "\n",
        "print('Training set:', len(training_set), 'subjects')\n",
        "print('Validation set:', len(validation_set), 'subjects')\n",
        "print('Test set:', len(test_set), 'subjects')"
      ],
      "execution_count": 40,
      "outputs": [
        {
          "output_type": "stream",
          "text": [
            "Training set: 411 subjects\n",
            "Validation set: 42 subjects\n",
            "Test set: 107 subjects\n"
          ],
          "name": "stdout"
        },
        {
          "output_type": "stream",
          "text": [
            "/usr/local/lib/python3.7/dist-packages/ipykernel_launcher.py:16: DeprecationWarning: Call to deprecated class ImagesDataset (ImagesDataset is deprecated in v0.18.0. Use SubjectsDataset instead.).\n",
            "  app.launch_new_instance()\n",
            "/usr/local/lib/python3.7/dist-packages/ipykernel_launcher.py:18: DeprecationWarning: Call to deprecated class ImagesDataset (ImagesDataset is deprecated in v0.18.0. Use SubjectsDataset instead.).\n",
            "/usr/local/lib/python3.7/dist-packages/ipykernel_launcher.py:20: DeprecationWarning: Call to deprecated class ImagesDataset (ImagesDataset is deprecated in v0.18.0. Use SubjectsDataset instead.).\n"
          ],
          "name": "stderr"
        }
      ]
    },
    {
      "cell_type": "code",
      "metadata": {
        "id": "b0uIASgHdEK-"
      },
      "source": [
        "count_train = [0] * 2\n",
        "for idx, batch in enumerate(training_subjects):\n",
        "    if (int(batch['label']) == 1):\n",
        "        item = 1\n",
        "    elif (int(batch['label']) == 0):\n",
        "        item = 0\n",
        "    count_train[item] += 1"
      ],
      "execution_count": 41,
      "outputs": []
    },
    {
      "cell_type": "code",
      "metadata": {
        "id": "vdmeTkBDdHxV"
      },
      "source": [
        "weight_per_class_train = [0.] * 2  \n",
        "N_train = float(sum(count_train))                                    "
      ],
      "execution_count": 42,
      "outputs": []
    },
    {
      "cell_type": "code",
      "metadata": {
        "id": "wVqBd6C2dJcb",
        "colab": {
          "base_uri": "https://localhost:8080/"
        },
        "outputId": "a13f2588-44fd-4176-b06d-d650c047fad1"
      },
      "source": [
        "for i in range(2):                                                   \n",
        "    weight_per_class_train[i] = N_train/float(count_train[i]) \n",
        "print(int(N_train))\n",
        "weight_train = [0] * int(N_train)"
      ],
      "execution_count": 43,
      "outputs": [
        {
          "output_type": "stream",
          "text": [
            "411\n"
          ],
          "name": "stdout"
        }
      ]
    },
    {
      "cell_type": "code",
      "metadata": {
        "id": "TzugfTLQdKvr"
      },
      "source": [
        "for idx, batch in enumerate(training_subjects):\n",
        "    if (batch['label'] == 1):\n",
        "        item = 1\n",
        "    elif (batch['label'] == 0):\n",
        "        item = 0\n",
        "    weight_train[idx] = weight_per_class_train[item]"
      ],
      "execution_count": 44,
      "outputs": []
    },
    {
      "cell_type": "code",
      "metadata": {
        "id": "r-2oFx7SdMCQ"
      },
      "source": [
        "sampler_train = torch.utils.data.sampler.WeightedRandomSampler(weight_train, int(N_train)) "
      ],
      "execution_count": 45,
      "outputs": []
    },
    {
      "cell_type": "markdown",
      "metadata": {
        "id": "C1yDq_8XAm0v"
      },
      "source": [
        "Definisco i due dataloader per il training e per il validation"
      ]
    },
    {
      "cell_type": "code",
      "metadata": {
        "id": "5JJ3dZs1dNet"
      },
      "source": [
        "train_loader = torch.utils.data.DataLoader(training_set, batch_size=1, shuffle=True)      \n",
        "validation_loader = torch.utils.data.DataLoader(validation_set, batch_size=1)  \n",
        "test_loader = torch.utils.data.DataLoader(test_set, batch_size=1)  "
      ],
      "execution_count": 46,
      "outputs": []
    },
    {
      "cell_type": "code",
      "metadata": {
        "id": "bUbaJM8IdO4v"
      },
      "source": [
        "class Encoder(nn.Module):\n",
        "    def __init__(self):\n",
        "        super(Encoder, self).__init__()\n",
        "\n",
        "        self.gradients = None\n",
        "\n",
        "        self.conv1 = nn.Sequential(\n",
        "        \n",
        "          nn.Conv3d(1, 20, (3,3,3), bias=False),\n",
        "          nn.ReLU(),\n",
        "          nn.MaxPool3d((2, 2, 2)),\n",
        "          \n",
        "            )\n",
        "        \n",
        "        self.conv2 = nn.Sequential(\n",
        "        \n",
        "\n",
        "          nn.Conv3d(20, 40, (4,4,4), bias=False),\n",
        "          # pw-linear\n",
        "          nn.GroupNorm(5, 40),\n",
        "          nn.ReLU(),\n",
        "          nn.MaxPool3d((2, 2, 2)),\n",
        "          \n",
        "          \n",
        "            )\n",
        "        \n",
        "        self.conv3 = nn.Sequential(\n",
        "        \n",
        "          nn.Conv3d(40, 80, (3,3,3), bias=False),\n",
        "          nn.GroupNorm(10, 80),\n",
        "          nn.ReLU(),\n",
        "          nn.MaxPool3d((2, 2, 2)),\n",
        "          \n",
        "            )\n",
        "        \n",
        "        self.conv4 = nn.Sequential(\n",
        "        \n",
        "          nn.Conv3d(80, 160, (3,3,3), bias=False),\n",
        "          nn.GroupNorm(20, 160),\n",
        "          nn.ReLU(),\n",
        "          \n",
        "          \n",
        "          nn.MaxPool3d((2, 2, 2)),\n",
        "          \n",
        "          \n",
        "            )\n",
        "        self.conv5 = nn.Sequential(\n",
        "        \n",
        "          nn.Conv3d(160, 320,  (4,3,3), bias=False),\n",
        "          nn.GroupNorm(40, 320),\n",
        "          nn.ReLU(),\n",
        "          nn.MaxPool3d((2, 2, 2)),\n",
        "          \n",
        "          \n",
        "            )\n",
        "        \n",
        "\n",
        "    def forward(self, x):\n",
        "        x = self.conv1(x)\n",
        "        x = self.conv2(x)\n",
        "        \n",
        "        x = self.conv3(x)\n",
        "\n",
        "        \n",
        "        x = self.conv4(x)\n",
        "        \n",
        "        \n",
        "        x = self.conv5(x)\n",
        "\n",
        "        \n",
        "        return x\n",
        "\n",
        "\n",
        "    \n"
      ],
      "execution_count": 47,
      "outputs": []
    },
    {
      "cell_type": "code",
      "metadata": {
        "id": "-iOLjrG1dvgm"
      },
      "source": [
        "class Net(nn.Module):\n",
        "    def __init__(self):\n",
        "        super(Net, self).__init__()\n",
        "\n",
        "        self.encoder = Encoder()\n",
        "        self.dropout = nn.Dropout(p = 0.25)\n",
        "        self.convf = nn.Conv3d(320, 640, (2,2,2), bias=False, )\n",
        "        self.relu = nn.ReLU()  \n",
        "        self.fc1 = nn.Linear(640 * 4 * 2 * 2, 120)\n",
        "        self.fc2 = nn.Linear(120, 84)\n",
        "        self.fc3 = nn.Linear(84, 40)\n",
        "        self.fc4 = nn.Linear(40, 2)\n",
        "        self.bn1 = nn.BatchNorm1d(120)\n",
        "        self.bn2 = nn.BatchNorm1d(num_features=84)\n",
        "        self.bn3 = nn.BatchNorm1d(num_features=40)\n",
        "\n",
        "    def forward(self, x):\n",
        "        x = self.encoder(x)\n",
        "        x = self.relu((self.convf(x)))\n",
        "        x = x.view(-1, 640 * 4 * 2 * 2)\n",
        "        x = F.tanh(self.bn1((self.fc1(x))))\n",
        "        x = self.dropout(x)\n",
        "        x = F.tanh(self.bn2((self.fc2(x))))\n",
        "        x = self.dropout(x)\n",
        "        x = F.tanh(self.bn3((self.fc3(x))))\n",
        "        return x\n"
      ],
      "execution_count": 48,
      "outputs": []
    },
    {
      "cell_type": "code",
      "metadata": {
        "id": "z636NzGmAWgn"
      },
      "source": [
        "if torch.cuda.is_available():  \n",
        "    dev = \"cuda:0\" \n",
        "else:  \n",
        "    dev = \"cpu\"  "
      ],
      "execution_count": 49,
      "outputs": []
    },
    {
      "cell_type": "code",
      "metadata": {
        "id": "9aeigAgnliAO",
        "colab": {
          "base_uri": "https://localhost:8080/"
        },
        "outputId": "c01826fd-e8aa-4542-aa6f-0bd91ae15520"
      },
      "source": [
        "torch.cuda.is_available()"
      ],
      "execution_count": 50,
      "outputs": [
        {
          "output_type": "execute_result",
          "data": {
            "text/plain": [
              "True"
            ]
          },
          "metadata": {
            "tags": []
          },
          "execution_count": 50
        }
      ]
    },
    {
      "cell_type": "code",
      "metadata": {
        "id": "G6f5diIRd1Jr"
      },
      "source": [
        "model = torch.load('/content/drive/My Drive/ADNI/model_medie_34_quattordicesima_presa.pth')"
      ],
      "execution_count": 51,
      "outputs": []
    },
    {
      "cell_type": "code",
      "metadata": {
        "id": "MM7CMMuJd4Yq",
        "colab": {
          "base_uri": "https://localhost:8080/"
        },
        "outputId": "472649e5-343e-4e6b-b740-825931522248"
      },
      "source": [
        "from torchsummary import summary\n",
        "\n",
        "model_pre = Net()\n",
        "model_pre = model_pre.cuda()\n",
        "\n",
        "summary(model, (1, 240, 160, 160))"
      ],
      "execution_count": 52,
      "outputs": [
        {
          "output_type": "stream",
          "text": [
            "----------------------------------------------------------------\n",
            "        Layer (type)               Output Shape         Param #\n",
            "================================================================\n",
            "            Conv3d-1    [-1, 20, 238, 158, 158]             540\n",
            "              ReLU-2    [-1, 20, 238, 158, 158]               0\n",
            "         MaxPool3d-3      [-1, 20, 119, 79, 79]               0\n",
            "            Conv3d-4      [-1, 40, 116, 76, 76]          51,200\n",
            "         GroupNorm-5      [-1, 40, 116, 76, 76]              80\n",
            "              ReLU-6      [-1, 40, 116, 76, 76]               0\n",
            "         MaxPool3d-7       [-1, 40, 58, 38, 38]               0\n",
            "            Conv3d-8       [-1, 80, 56, 36, 36]          86,400\n",
            "         GroupNorm-9       [-1, 80, 56, 36, 36]             160\n",
            "             ReLU-10       [-1, 80, 56, 36, 36]               0\n",
            "        MaxPool3d-11       [-1, 80, 28, 18, 18]               0\n",
            "           Conv3d-12      [-1, 160, 26, 16, 16]         345,600\n",
            "        GroupNorm-13      [-1, 160, 26, 16, 16]             320\n",
            "             ReLU-14      [-1, 160, 26, 16, 16]               0\n",
            "        MaxPool3d-15        [-1, 160, 13, 8, 8]               0\n",
            "           Conv3d-16        [-1, 320, 10, 6, 6]       1,843,200\n",
            "        GroupNorm-17        [-1, 320, 10, 6, 6]             640\n",
            "             ReLU-18        [-1, 320, 10, 6, 6]               0\n",
            "        MaxPool3d-19         [-1, 320, 5, 3, 3]               0\n",
            "          Encoder-20         [-1, 320, 5, 3, 3]               0\n",
            "           Conv3d-21         [-1, 640, 4, 2, 2]       1,638,400\n",
            "             ReLU-22         [-1, 640, 4, 2, 2]               0\n",
            "           Linear-23                  [-1, 120]       1,228,920\n",
            "      BatchNorm1d-24                  [-1, 120]             240\n",
            "          Dropout-25                  [-1, 120]               0\n",
            "           Linear-26                   [-1, 84]          10,164\n",
            "      BatchNorm1d-27                   [-1, 84]             168\n",
            "          Dropout-28                   [-1, 84]               0\n",
            "           Linear-29                   [-1, 40]           3,400\n",
            "      BatchNorm1d-30                   [-1, 40]              80\n",
            "================================================================\n",
            "Total params: 5,209,512\n",
            "Trainable params: 5,209,512\n",
            "Non-trainable params: 0\n",
            "----------------------------------------------------------------\n",
            "Input size (MB): 23.44\n",
            "Forward/backward pass size (MB): 2732.32\n",
            "Params size (MB): 19.87\n",
            "Estimated Total Size (MB): 2775.63\n",
            "----------------------------------------------------------------\n"
          ],
          "name": "stdout"
        },
        {
          "output_type": "stream",
          "text": [
            "/usr/local/lib/python3.7/dist-packages/torch/nn/functional.py:1698: UserWarning: nn.functional.tanh is deprecated. Use torch.tanh instead.\n",
            "  warnings.warn(\"nn.functional.tanh is deprecated. Use torch.tanh instead.\")\n"
          ],
          "name": "stderr"
        }
      ]
    },
    {
      "cell_type": "code",
      "metadata": {
        "id": "xlljqiDIeilK",
        "colab": {
          "base_uri": "https://localhost:8080/"
        },
        "outputId": "35bbc173-5282-4490-f5c6-4aea0697e776"
      },
      "source": [
        "# load weight of pretrained model\n",
        "model_dict = model_pre.state_dict()\n",
        "\n",
        "# 1. filter out unnecessary keys\n",
        "pretrained_dict = {k: v for k, v in model.state_dict().items() if k in model_dict}\n",
        "# 2. overwrite entries in the existing state dict\n",
        "model_dict.update(pretrained_dict) \n",
        "# 3. load the new state dict\n",
        "model_pre.load_state_dict(pretrained_dict)"
      ],
      "execution_count": 57,
      "outputs": [
        {
          "output_type": "execute_result",
          "data": {
            "text/plain": [
              "<All keys matched successfully>"
            ]
          },
          "metadata": {
            "tags": []
          },
          "execution_count": 57
        }
      ]
    },
    {
      "cell_type": "code",
      "metadata": {
        "id": "h_CV0LLufzBP",
        "colab": {
          "base_uri": "https://localhost:8080/"
        },
        "outputId": "be7158a4-f98b-49d2-ee92-d6136867a178"
      },
      "source": [
        "model_pre"
      ],
      "execution_count": 58,
      "outputs": [
        {
          "output_type": "execute_result",
          "data": {
            "text/plain": [
              "Net(\n",
              "  (encoder): Encoder(\n",
              "    (conv1): Sequential(\n",
              "      (0): Conv3d(1, 20, kernel_size=(3, 3, 3), stride=(1, 1, 1), bias=False)\n",
              "      (1): ReLU()\n",
              "      (2): MaxPool3d(kernel_size=(2, 2, 2), stride=(2, 2, 2), padding=0, dilation=1, ceil_mode=False)\n",
              "    )\n",
              "    (conv2): Sequential(\n",
              "      (0): Conv3d(20, 40, kernel_size=(4, 4, 4), stride=(1, 1, 1), bias=False)\n",
              "      (1): GroupNorm(5, 40, eps=1e-05, affine=True)\n",
              "      (2): ReLU()\n",
              "      (3): MaxPool3d(kernel_size=(2, 2, 2), stride=(2, 2, 2), padding=0, dilation=1, ceil_mode=False)\n",
              "    )\n",
              "    (conv3): Sequential(\n",
              "      (0): Conv3d(40, 80, kernel_size=(3, 3, 3), stride=(1, 1, 1), bias=False)\n",
              "      (1): GroupNorm(10, 80, eps=1e-05, affine=True)\n",
              "      (2): ReLU()\n",
              "      (3): MaxPool3d(kernel_size=(2, 2, 2), stride=(2, 2, 2), padding=0, dilation=1, ceil_mode=False)\n",
              "    )\n",
              "    (conv4): Sequential(\n",
              "      (0): Conv3d(80, 160, kernel_size=(3, 3, 3), stride=(1, 1, 1), bias=False)\n",
              "      (1): GroupNorm(20, 160, eps=1e-05, affine=True)\n",
              "      (2): ReLU()\n",
              "      (3): MaxPool3d(kernel_size=(2, 2, 2), stride=(2, 2, 2), padding=0, dilation=1, ceil_mode=False)\n",
              "    )\n",
              "    (conv5): Sequential(\n",
              "      (0): Conv3d(160, 320, kernel_size=(4, 3, 3), stride=(1, 1, 1), bias=False)\n",
              "      (1): GroupNorm(40, 320, eps=1e-05, affine=True)\n",
              "      (2): ReLU()\n",
              "      (3): MaxPool3d(kernel_size=(2, 2, 2), stride=(2, 2, 2), padding=0, dilation=1, ceil_mode=False)\n",
              "    )\n",
              "  )\n",
              "  (dropout): Dropout(p=0.25, inplace=False)\n",
              "  (convf): Conv3d(320, 640, kernel_size=(2, 2, 2), stride=(1, 1, 1), bias=False)\n",
              "  (relu): ReLU()\n",
              "  (fc1): Linear(in_features=10240, out_features=120, bias=True)\n",
              "  (fc2): Linear(in_features=120, out_features=84, bias=True)\n",
              "  (fc3): Linear(in_features=84, out_features=40, bias=True)\n",
              "  (fc4): Linear(in_features=40, out_features=2, bias=True)\n",
              "  (bn1): BatchNorm1d(120, eps=1e-05, momentum=0.1, affine=True, track_running_stats=True)\n",
              "  (bn2): BatchNorm1d(84, eps=1e-05, momentum=0.1, affine=True, track_running_stats=True)\n",
              "  (bn3): BatchNorm1d(40, eps=1e-05, momentum=0.1, affine=True, track_running_stats=True)\n",
              ")"
            ]
          },
          "metadata": {
            "tags": []
          },
          "execution_count": 58
        }
      ]
    },
    {
      "cell_type": "code",
      "metadata": {
        "id": "XTG2PhBliF0K"
      },
      "source": [
        "def estrai_feature(dataloader):\n",
        "  with torch.no_grad():\n",
        "    df = pd.DataFrame()\n",
        "    if dataloader == 0:\n",
        "        loader = train_loader\n",
        "    elif dataloader == 1:\n",
        "        loader = validation_loader\n",
        "    else:\n",
        "        loader = test_loader\n",
        "    outputs = []\n",
        "    labels = []\n",
        "    recs = []\n",
        "    \n",
        "    for i in range(0, 1):\n",
        "\n",
        "        print(\"Training del modello\")\n",
        "        model_pre.eval()  # Set model to training mode\n",
        "\n",
        "        for batch_idx, batch in enumerate(tqdm(loader)):\n",
        "\n",
        "            if batch_idx < len(loader):\n",
        "\n",
        "\n",
        "                inputs = batch['Lung'][DATA].to(dev)\n",
        "                label = batch['label'].to(dev)\n",
        "                id_paziente = batch['id']\n",
        "                print(int(id_paziente[0]))\n",
        "                print(label.detach().cpu().numpy())\n",
        "\n",
        "                output = model_pre(inputs)\n",
        "                output_cpu = np.append(output.detach().cpu().numpy()[0], label.detach().cpu().numpy()[0])\n",
        "                output_cpu = np.append(id_paziente[0], output_cpu)\n",
        "                df = df.append([output_cpu])\n",
        "\n",
        "    df = df.reset_index()\n",
        "    df = df.drop(columns=['index']) \n",
        "    if dataloader == 0:\n",
        "        split = 'train'\n",
        "    elif dataloader == 1:\n",
        "        split = 'validation'\n",
        "    else:\n",
        "        split = 'test'\n",
        "        \n",
        "    df.to_csv('/content/drive/My Drive/ADNI/feature_estratte_{}.csv'.format(split))\n",
        "    return df"
      ],
      "execution_count": 59,
      "outputs": []
    },
    {
      "cell_type": "code",
      "metadata": {
        "id": "tcEZKnRxAm1J"
      },
      "source": [
        "# extract features for training dataset\n",
        "df_train = estrai_feature(0)"
      ],
      "execution_count": null,
      "outputs": []
    },
    {
      "cell_type": "code",
      "metadata": {
        "id": "kivbVVt1Am1T"
      },
      "source": [
        "# extract features for validation dataset\n",
        "df_validation = estrai_feature(1)"
      ],
      "execution_count": null,
      "outputs": []
    },
    {
      "cell_type": "code",
      "metadata": {
        "id": "pIkosxqJAm1Y"
      },
      "source": [
        "# extract features for test dataset\n",
        "df_test = estrai_feature(2)"
      ],
      "execution_count": null,
      "outputs": []
    },
    {
      "cell_type": "code",
      "metadata": {
        "id": "bLtOfNTzAm1c"
      },
      "source": [
        "df_train = pd.read_csv('/content/drive/My Drive/ADNI/feature_estratte_train.csv')"
      ],
      "execution_count": 62,
      "outputs": []
    },
    {
      "cell_type": "code",
      "metadata": {
        "id": "DwB8D2xiAm1f"
      },
      "source": [
        "df_validation = pd.read_csv('/content/drive/My Drive/ADNI/feature_estratte_validation.csv')"
      ],
      "execution_count": 63,
      "outputs": []
    },
    {
      "cell_type": "code",
      "metadata": {
        "id": "HC3LKJ1kAm1h"
      },
      "source": [
        "df_test = pd.read_csv('/content/drive/My Drive/ADNI/feature_estratte_test.csv')"
      ],
      "execution_count": 64,
      "outputs": []
    },
    {
      "cell_type": "code",
      "metadata": {
        "id": "WOQJY4qjAm1j",
        "colab": {
          "base_uri": "https://localhost:8080/",
          "height": 241
        },
        "outputId": "85ade74d-9011-4264-fc9a-46d9582fbc17"
      },
      "source": [
        "df_train.head(5)"
      ],
      "execution_count": 65,
      "outputs": [
        {
          "output_type": "execute_result",
          "data": {
            "text/html": [
              "<div>\n",
              "<style scoped>\n",
              "    .dataframe tbody tr th:only-of-type {\n",
              "        vertical-align: middle;\n",
              "    }\n",
              "\n",
              "    .dataframe tbody tr th {\n",
              "        vertical-align: top;\n",
              "    }\n",
              "\n",
              "    .dataframe thead th {\n",
              "        text-align: right;\n",
              "    }\n",
              "</style>\n",
              "<table border=\"1\" class=\"dataframe\">\n",
              "  <thead>\n",
              "    <tr style=\"text-align: right;\">\n",
              "      <th></th>\n",
              "      <th>Unnamed: 0</th>\n",
              "      <th>0</th>\n",
              "      <th>1</th>\n",
              "      <th>2</th>\n",
              "      <th>3</th>\n",
              "      <th>4</th>\n",
              "      <th>5</th>\n",
              "      <th>6</th>\n",
              "      <th>7</th>\n",
              "      <th>8</th>\n",
              "      <th>9</th>\n",
              "      <th>10</th>\n",
              "      <th>11</th>\n",
              "      <th>12</th>\n",
              "      <th>13</th>\n",
              "      <th>14</th>\n",
              "      <th>15</th>\n",
              "      <th>16</th>\n",
              "      <th>17</th>\n",
              "      <th>18</th>\n",
              "      <th>19</th>\n",
              "      <th>20</th>\n",
              "      <th>21</th>\n",
              "      <th>22</th>\n",
              "      <th>23</th>\n",
              "      <th>24</th>\n",
              "      <th>25</th>\n",
              "      <th>26</th>\n",
              "      <th>27</th>\n",
              "      <th>28</th>\n",
              "      <th>29</th>\n",
              "      <th>30</th>\n",
              "      <th>31</th>\n",
              "      <th>32</th>\n",
              "      <th>33</th>\n",
              "      <th>34</th>\n",
              "      <th>35</th>\n",
              "      <th>36</th>\n",
              "      <th>37</th>\n",
              "      <th>38</th>\n",
              "      <th>39</th>\n",
              "      <th>40</th>\n",
              "      <th>41</th>\n",
              "    </tr>\n",
              "  </thead>\n",
              "  <tbody>\n",
              "    <tr>\n",
              "      <th>0</th>\n",
              "      <td>0</td>\n",
              "      <td>3013048256</td>\n",
              "      <td>0.381485</td>\n",
              "      <td>-0.321817</td>\n",
              "      <td>0.713342</td>\n",
              "      <td>-0.016505</td>\n",
              "      <td>0.074139</td>\n",
              "      <td>-0.281794</td>\n",
              "      <td>0.372167</td>\n",
              "      <td>0.735778</td>\n",
              "      <td>-0.266859</td>\n",
              "      <td>-0.323444</td>\n",
              "      <td>0.236006</td>\n",
              "      <td>-0.278052</td>\n",
              "      <td>0.079564</td>\n",
              "      <td>-0.369657</td>\n",
              "      <td>0.305742</td>\n",
              "      <td>-0.152292</td>\n",
              "      <td>0.068270</td>\n",
              "      <td>-0.658991</td>\n",
              "      <td>0.151263</td>\n",
              "      <td>-0.042299</td>\n",
              "      <td>-0.679344</td>\n",
              "      <td>0.124319</td>\n",
              "      <td>0.400390</td>\n",
              "      <td>0.655838</td>\n",
              "      <td>0.522683</td>\n",
              "      <td>-0.342859</td>\n",
              "      <td>0.513634</td>\n",
              "      <td>-0.115870</td>\n",
              "      <td>0.285317</td>\n",
              "      <td>-0.368789</td>\n",
              "      <td>0.302659</td>\n",
              "      <td>0.492751</td>\n",
              "      <td>-0.402648</td>\n",
              "      <td>0.607559</td>\n",
              "      <td>0.446059</td>\n",
              "      <td>0.067317</td>\n",
              "      <td>0.391168</td>\n",
              "      <td>0.299461</td>\n",
              "      <td>-0.845303</td>\n",
              "      <td>-0.559366</td>\n",
              "      <td>0.0</td>\n",
              "    </tr>\n",
              "    <tr>\n",
              "      <th>1</th>\n",
              "      <td>1</td>\n",
              "      <td>3007673056</td>\n",
              "      <td>0.489107</td>\n",
              "      <td>0.152016</td>\n",
              "      <td>0.649463</td>\n",
              "      <td>-0.469573</td>\n",
              "      <td>-0.192297</td>\n",
              "      <td>-0.440108</td>\n",
              "      <td>-0.383318</td>\n",
              "      <td>0.919952</td>\n",
              "      <td>-0.321979</td>\n",
              "      <td>-0.779850</td>\n",
              "      <td>-0.638365</td>\n",
              "      <td>-0.198393</td>\n",
              "      <td>-0.278650</td>\n",
              "      <td>-0.501482</td>\n",
              "      <td>0.406906</td>\n",
              "      <td>-0.774091</td>\n",
              "      <td>-0.488798</td>\n",
              "      <td>-0.859393</td>\n",
              "      <td>-0.292457</td>\n",
              "      <td>0.095409</td>\n",
              "      <td>-0.513359</td>\n",
              "      <td>0.055680</td>\n",
              "      <td>0.499309</td>\n",
              "      <td>-0.046021</td>\n",
              "      <td>0.162494</td>\n",
              "      <td>-0.915717</td>\n",
              "      <td>0.642009</td>\n",
              "      <td>-0.773921</td>\n",
              "      <td>0.129741</td>\n",
              "      <td>-0.131316</td>\n",
              "      <td>0.498558</td>\n",
              "      <td>0.578054</td>\n",
              "      <td>0.643248</td>\n",
              "      <td>0.682067</td>\n",
              "      <td>0.785408</td>\n",
              "      <td>-0.436989</td>\n",
              "      <td>0.811221</td>\n",
              "      <td>-0.238115</td>\n",
              "      <td>-0.645566</td>\n",
              "      <td>0.056132</td>\n",
              "      <td>0.0</td>\n",
              "    </tr>\n",
              "    <tr>\n",
              "      <th>2</th>\n",
              "      <td>2</td>\n",
              "      <td>3013048570</td>\n",
              "      <td>-0.401382</td>\n",
              "      <td>0.268380</td>\n",
              "      <td>0.889356</td>\n",
              "      <td>-0.575074</td>\n",
              "      <td>0.211980</td>\n",
              "      <td>-0.243104</td>\n",
              "      <td>-0.420811</td>\n",
              "      <td>0.901197</td>\n",
              "      <td>-0.251457</td>\n",
              "      <td>-0.852426</td>\n",
              "      <td>-0.733695</td>\n",
              "      <td>0.273452</td>\n",
              "      <td>-0.214399</td>\n",
              "      <td>-0.763216</td>\n",
              "      <td>0.609081</td>\n",
              "      <td>0.020882</td>\n",
              "      <td>-0.761531</td>\n",
              "      <td>-0.901652</td>\n",
              "      <td>-0.597410</td>\n",
              "      <td>-0.422803</td>\n",
              "      <td>-0.332608</td>\n",
              "      <td>-0.044996</td>\n",
              "      <td>0.855431</td>\n",
              "      <td>-0.432196</td>\n",
              "      <td>0.090630</td>\n",
              "      <td>-0.909705</td>\n",
              "      <td>0.579002</td>\n",
              "      <td>-0.821952</td>\n",
              "      <td>-0.231190</td>\n",
              "      <td>-0.339202</td>\n",
              "      <td>0.580408</td>\n",
              "      <td>0.890039</td>\n",
              "      <td>0.694885</td>\n",
              "      <td>0.753881</td>\n",
              "      <td>0.783264</td>\n",
              "      <td>-0.141979</td>\n",
              "      <td>0.784935</td>\n",
              "      <td>-0.432261</td>\n",
              "      <td>-0.929534</td>\n",
              "      <td>-0.530110</td>\n",
              "      <td>0.0</td>\n",
              "    </tr>\n",
              "    <tr>\n",
              "      <th>3</th>\n",
              "      <td>3</td>\n",
              "      <td>3008825560</td>\n",
              "      <td>0.547704</td>\n",
              "      <td>0.317500</td>\n",
              "      <td>0.653333</td>\n",
              "      <td>-0.573078</td>\n",
              "      <td>0.845870</td>\n",
              "      <td>-0.615641</td>\n",
              "      <td>-0.089754</td>\n",
              "      <td>0.076220</td>\n",
              "      <td>0.208629</td>\n",
              "      <td>-0.741348</td>\n",
              "      <td>-0.219622</td>\n",
              "      <td>-0.435629</td>\n",
              "      <td>-0.340831</td>\n",
              "      <td>-0.727775</td>\n",
              "      <td>0.638362</td>\n",
              "      <td>-0.554253</td>\n",
              "      <td>0.503828</td>\n",
              "      <td>-0.805674</td>\n",
              "      <td>-0.194046</td>\n",
              "      <td>-0.337755</td>\n",
              "      <td>0.383296</td>\n",
              "      <td>0.002742</td>\n",
              "      <td>0.695246</td>\n",
              "      <td>-0.126762</td>\n",
              "      <td>-0.376861</td>\n",
              "      <td>-0.464164</td>\n",
              "      <td>0.887999</td>\n",
              "      <td>-0.213041</td>\n",
              "      <td>-0.325831</td>\n",
              "      <td>-0.078575</td>\n",
              "      <td>0.592235</td>\n",
              "      <td>0.833094</td>\n",
              "      <td>-0.272307</td>\n",
              "      <td>0.288345</td>\n",
              "      <td>0.774784</td>\n",
              "      <td>0.297169</td>\n",
              "      <td>0.935147</td>\n",
              "      <td>-0.456492</td>\n",
              "      <td>-0.956146</td>\n",
              "      <td>-0.847588</td>\n",
              "      <td>0.0</td>\n",
              "    </tr>\n",
              "    <tr>\n",
              "      <th>4</th>\n",
              "      <td>4</td>\n",
              "      <td>3013062456</td>\n",
              "      <td>0.103039</td>\n",
              "      <td>0.691308</td>\n",
              "      <td>0.548803</td>\n",
              "      <td>-0.791642</td>\n",
              "      <td>0.129505</td>\n",
              "      <td>-0.750935</td>\n",
              "      <td>0.184538</td>\n",
              "      <td>0.616592</td>\n",
              "      <td>-0.146177</td>\n",
              "      <td>-0.195973</td>\n",
              "      <td>-0.084603</td>\n",
              "      <td>0.017934</td>\n",
              "      <td>0.677344</td>\n",
              "      <td>0.049952</td>\n",
              "      <td>0.585913</td>\n",
              "      <td>-0.817310</td>\n",
              "      <td>0.121915</td>\n",
              "      <td>-0.318729</td>\n",
              "      <td>0.097066</td>\n",
              "      <td>-0.130801</td>\n",
              "      <td>-0.291629</td>\n",
              "      <td>-0.553434</td>\n",
              "      <td>-0.629239</td>\n",
              "      <td>-0.481583</td>\n",
              "      <td>-0.544564</td>\n",
              "      <td>-0.116790</td>\n",
              "      <td>0.402155</td>\n",
              "      <td>-0.810366</td>\n",
              "      <td>0.175578</td>\n",
              "      <td>0.701701</td>\n",
              "      <td>0.381481</td>\n",
              "      <td>-0.157680</td>\n",
              "      <td>-0.729371</td>\n",
              "      <td>0.170225</td>\n",
              "      <td>0.525115</td>\n",
              "      <td>0.239252</td>\n",
              "      <td>0.442770</td>\n",
              "      <td>-0.457833</td>\n",
              "      <td>-0.162658</td>\n",
              "      <td>-0.217692</td>\n",
              "      <td>0.0</td>\n",
              "    </tr>\n",
              "  </tbody>\n",
              "</table>\n",
              "</div>"
            ],
            "text/plain": [
              "   Unnamed: 0           0         1  ...        39        40   41\n",
              "0           0  3013048256  0.381485  ... -0.845303 -0.559366  0.0\n",
              "1           1  3007673056  0.489107  ... -0.645566  0.056132  0.0\n",
              "2           2  3013048570 -0.401382  ... -0.929534 -0.530110  0.0\n",
              "3           3  3008825560  0.547704  ... -0.956146 -0.847588  0.0\n",
              "4           4  3013062456  0.103039  ... -0.162658 -0.217692  0.0\n",
              "\n",
              "[5 rows x 43 columns]"
            ]
          },
          "metadata": {
            "tags": []
          },
          "execution_count": 65
        }
      ]
    },
    {
      "cell_type": "code",
      "metadata": {
        "id": "Vs6pzd4XAm1n",
        "colab": {
          "base_uri": "https://localhost:8080/",
          "height": 241
        },
        "outputId": "bcb86192-e890-4273-b00b-b2fe558fc636"
      },
      "source": [
        "df_validation.head(5)"
      ],
      "execution_count": 66,
      "outputs": [
        {
          "output_type": "execute_result",
          "data": {
            "text/html": [
              "<div>\n",
              "<style scoped>\n",
              "    .dataframe tbody tr th:only-of-type {\n",
              "        vertical-align: middle;\n",
              "    }\n",
              "\n",
              "    .dataframe tbody tr th {\n",
              "        vertical-align: top;\n",
              "    }\n",
              "\n",
              "    .dataframe thead th {\n",
              "        text-align: right;\n",
              "    }\n",
              "</style>\n",
              "<table border=\"1\" class=\"dataframe\">\n",
              "  <thead>\n",
              "    <tr style=\"text-align: right;\">\n",
              "      <th></th>\n",
              "      <th>Unnamed: 0</th>\n",
              "      <th>0</th>\n",
              "      <th>1</th>\n",
              "      <th>2</th>\n",
              "      <th>3</th>\n",
              "      <th>4</th>\n",
              "      <th>5</th>\n",
              "      <th>6</th>\n",
              "      <th>7</th>\n",
              "      <th>8</th>\n",
              "      <th>9</th>\n",
              "      <th>10</th>\n",
              "      <th>11</th>\n",
              "      <th>12</th>\n",
              "      <th>13</th>\n",
              "      <th>14</th>\n",
              "      <th>15</th>\n",
              "      <th>16</th>\n",
              "      <th>17</th>\n",
              "      <th>18</th>\n",
              "      <th>19</th>\n",
              "      <th>20</th>\n",
              "      <th>21</th>\n",
              "      <th>22</th>\n",
              "      <th>23</th>\n",
              "      <th>24</th>\n",
              "      <th>25</th>\n",
              "      <th>26</th>\n",
              "      <th>27</th>\n",
              "      <th>28</th>\n",
              "      <th>29</th>\n",
              "      <th>30</th>\n",
              "      <th>31</th>\n",
              "      <th>32</th>\n",
              "      <th>33</th>\n",
              "      <th>34</th>\n",
              "      <th>35</th>\n",
              "      <th>36</th>\n",
              "      <th>37</th>\n",
              "      <th>38</th>\n",
              "      <th>39</th>\n",
              "      <th>40</th>\n",
              "      <th>41</th>\n",
              "    </tr>\n",
              "  </thead>\n",
              "  <tbody>\n",
              "    <tr>\n",
              "      <th>0</th>\n",
              "      <td>0</td>\n",
              "      <td>2000016520</td>\n",
              "      <td>0.154398</td>\n",
              "      <td>0.380937</td>\n",
              "      <td>0.119034</td>\n",
              "      <td>-0.721049</td>\n",
              "      <td>0.248126</td>\n",
              "      <td>-0.244545</td>\n",
              "      <td>0.034845</td>\n",
              "      <td>0.521951</td>\n",
              "      <td>0.342451</td>\n",
              "      <td>-0.648721</td>\n",
              "      <td>-0.124166</td>\n",
              "      <td>0.283286</td>\n",
              "      <td>-0.426097</td>\n",
              "      <td>-0.498481</td>\n",
              "      <td>0.732019</td>\n",
              "      <td>-0.593878</td>\n",
              "      <td>-0.033322</td>\n",
              "      <td>-0.610252</td>\n",
              "      <td>-0.545843</td>\n",
              "      <td>0.415485</td>\n",
              "      <td>-0.607640</td>\n",
              "      <td>0.200003</td>\n",
              "      <td>-0.247353</td>\n",
              "      <td>-0.319968</td>\n",
              "      <td>0.789710</td>\n",
              "      <td>-0.342210</td>\n",
              "      <td>-0.041920</td>\n",
              "      <td>-0.615580</td>\n",
              "      <td>0.193955</td>\n",
              "      <td>0.608260</td>\n",
              "      <td>-0.474394</td>\n",
              "      <td>-0.020131</td>\n",
              "      <td>0.100459</td>\n",
              "      <td>0.611420</td>\n",
              "      <td>0.060544</td>\n",
              "      <td>0.092378</td>\n",
              "      <td>0.550512</td>\n",
              "      <td>-0.090984</td>\n",
              "      <td>-0.175590</td>\n",
              "      <td>0.732476</td>\n",
              "      <td>0.0</td>\n",
              "    </tr>\n",
              "    <tr>\n",
              "      <th>1</th>\n",
              "      <td>1</td>\n",
              "      <td>2006035178</td>\n",
              "      <td>0.473191</td>\n",
              "      <td>0.564125</td>\n",
              "      <td>0.706265</td>\n",
              "      <td>-0.798799</td>\n",
              "      <td>0.903982</td>\n",
              "      <td>-0.781526</td>\n",
              "      <td>0.347173</td>\n",
              "      <td>0.731362</td>\n",
              "      <td>-0.472696</td>\n",
              "      <td>-0.810874</td>\n",
              "      <td>0.050058</td>\n",
              "      <td>-0.161477</td>\n",
              "      <td>-0.501463</td>\n",
              "      <td>-0.791870</td>\n",
              "      <td>0.223876</td>\n",
              "      <td>-0.809458</td>\n",
              "      <td>-0.444555</td>\n",
              "      <td>-0.843670</td>\n",
              "      <td>0.171886</td>\n",
              "      <td>-0.440670</td>\n",
              "      <td>0.153486</td>\n",
              "      <td>0.411037</td>\n",
              "      <td>0.550562</td>\n",
              "      <td>-0.080058</td>\n",
              "      <td>-0.605005</td>\n",
              "      <td>-0.372679</td>\n",
              "      <td>0.129625</td>\n",
              "      <td>-0.842768</td>\n",
              "      <td>-0.646096</td>\n",
              "      <td>-0.531643</td>\n",
              "      <td>0.334676</td>\n",
              "      <td>0.854600</td>\n",
              "      <td>0.424347</td>\n",
              "      <td>0.702415</td>\n",
              "      <td>-0.344372</td>\n",
              "      <td>-0.361541</td>\n",
              "      <td>0.690208</td>\n",
              "      <td>-0.617812</td>\n",
              "      <td>-0.551982</td>\n",
              "      <td>-0.602260</td>\n",
              "      <td>0.0</td>\n",
              "    </tr>\n",
              "    <tr>\n",
              "      <th>2</th>\n",
              "      <td>2</td>\n",
              "      <td>3013046856</td>\n",
              "      <td>0.279474</td>\n",
              "      <td>0.468986</td>\n",
              "      <td>-0.512673</td>\n",
              "      <td>0.471725</td>\n",
              "      <td>0.582067</td>\n",
              "      <td>0.191709</td>\n",
              "      <td>-0.109794</td>\n",
              "      <td>-0.221665</td>\n",
              "      <td>-0.756661</td>\n",
              "      <td>0.424834</td>\n",
              "      <td>0.500356</td>\n",
              "      <td>-0.414490</td>\n",
              "      <td>-0.070676</td>\n",
              "      <td>0.523747</td>\n",
              "      <td>-0.506726</td>\n",
              "      <td>-0.002317</td>\n",
              "      <td>0.464904</td>\n",
              "      <td>0.808769</td>\n",
              "      <td>0.186925</td>\n",
              "      <td>-0.626450</td>\n",
              "      <td>-0.042241</td>\n",
              "      <td>-0.492747</td>\n",
              "      <td>-0.860464</td>\n",
              "      <td>0.074756</td>\n",
              "      <td>0.712681</td>\n",
              "      <td>0.683265</td>\n",
              "      <td>-0.553777</td>\n",
              "      <td>0.719539</td>\n",
              "      <td>0.684709</td>\n",
              "      <td>0.480139</td>\n",
              "      <td>0.416839</td>\n",
              "      <td>-0.487519</td>\n",
              "      <td>-0.790941</td>\n",
              "      <td>0.398432</td>\n",
              "      <td>-0.025420</td>\n",
              "      <td>0.603107</td>\n",
              "      <td>-0.519400</td>\n",
              "      <td>0.336311</td>\n",
              "      <td>0.446530</td>\n",
              "      <td>0.745018</td>\n",
              "      <td>0.0</td>\n",
              "    </tr>\n",
              "    <tr>\n",
              "      <th>3</th>\n",
              "      <td>3</td>\n",
              "      <td>2011012765</td>\n",
              "      <td>-0.023385</td>\n",
              "      <td>-0.359691</td>\n",
              "      <td>0.476650</td>\n",
              "      <td>-0.755687</td>\n",
              "      <td>0.498072</td>\n",
              "      <td>-0.517663</td>\n",
              "      <td>-0.747783</td>\n",
              "      <td>0.837905</td>\n",
              "      <td>-0.479929</td>\n",
              "      <td>-0.870250</td>\n",
              "      <td>-0.605284</td>\n",
              "      <td>0.371817</td>\n",
              "      <td>-0.358239</td>\n",
              "      <td>-0.532221</td>\n",
              "      <td>0.038013</td>\n",
              "      <td>-0.829895</td>\n",
              "      <td>0.136710</td>\n",
              "      <td>-0.615503</td>\n",
              "      <td>-0.101274</td>\n",
              "      <td>-0.554632</td>\n",
              "      <td>0.132893</td>\n",
              "      <td>0.429331</td>\n",
              "      <td>0.687903</td>\n",
              "      <td>-0.492193</td>\n",
              "      <td>-0.306562</td>\n",
              "      <td>-0.225226</td>\n",
              "      <td>0.916935</td>\n",
              "      <td>-0.482983</td>\n",
              "      <td>0.683113</td>\n",
              "      <td>0.027519</td>\n",
              "      <td>0.328513</td>\n",
              "      <td>0.398362</td>\n",
              "      <td>-0.203941</td>\n",
              "      <td>-0.019619</td>\n",
              "      <td>0.525499</td>\n",
              "      <td>-0.347766</td>\n",
              "      <td>0.725344</td>\n",
              "      <td>-0.301946</td>\n",
              "      <td>-0.719950</td>\n",
              "      <td>-0.379680</td>\n",
              "      <td>0.0</td>\n",
              "    </tr>\n",
              "    <tr>\n",
              "      <th>4</th>\n",
              "      <td>4</td>\n",
              "      <td>3002739856</td>\n",
              "      <td>0.007352</td>\n",
              "      <td>0.415356</td>\n",
              "      <td>0.197631</td>\n",
              "      <td>-0.466370</td>\n",
              "      <td>0.454263</td>\n",
              "      <td>-0.063832</td>\n",
              "      <td>-0.385062</td>\n",
              "      <td>0.153345</td>\n",
              "      <td>-0.052233</td>\n",
              "      <td>-0.508862</td>\n",
              "      <td>-0.380898</td>\n",
              "      <td>0.403949</td>\n",
              "      <td>-0.396676</td>\n",
              "      <td>-0.843773</td>\n",
              "      <td>0.587338</td>\n",
              "      <td>-0.872974</td>\n",
              "      <td>-0.180807</td>\n",
              "      <td>-0.737200</td>\n",
              "      <td>-0.191791</td>\n",
              "      <td>-0.794580</td>\n",
              "      <td>0.230110</td>\n",
              "      <td>0.043856</td>\n",
              "      <td>-0.522582</td>\n",
              "      <td>-0.247160</td>\n",
              "      <td>0.580368</td>\n",
              "      <td>-0.387570</td>\n",
              "      <td>0.923870</td>\n",
              "      <td>-0.479408</td>\n",
              "      <td>0.098287</td>\n",
              "      <td>-0.158411</td>\n",
              "      <td>0.419096</td>\n",
              "      <td>0.589699</td>\n",
              "      <td>-0.004367</td>\n",
              "      <td>0.747297</td>\n",
              "      <td>0.626933</td>\n",
              "      <td>-0.198042</td>\n",
              "      <td>0.823397</td>\n",
              "      <td>-0.412149</td>\n",
              "      <td>-0.623604</td>\n",
              "      <td>-0.148935</td>\n",
              "      <td>1.0</td>\n",
              "    </tr>\n",
              "  </tbody>\n",
              "</table>\n",
              "</div>"
            ],
            "text/plain": [
              "   Unnamed: 0           0         1  ...        39        40   41\n",
              "0           0  2000016520  0.154398  ... -0.175590  0.732476  0.0\n",
              "1           1  2006035178  0.473191  ... -0.551982 -0.602260  0.0\n",
              "2           2  3013046856  0.279474  ...  0.446530  0.745018  0.0\n",
              "3           3  2011012765 -0.023385  ... -0.719950 -0.379680  0.0\n",
              "4           4  3002739856  0.007352  ... -0.623604 -0.148935  1.0\n",
              "\n",
              "[5 rows x 43 columns]"
            ]
          },
          "metadata": {
            "tags": []
          },
          "execution_count": 66
        }
      ]
    },
    {
      "cell_type": "code",
      "metadata": {
        "id": "RdSoQMpbAm1p"
      },
      "source": [
        "df_train = df_train.drop(columns='Unnamed: 0')"
      ],
      "execution_count": 67,
      "outputs": []
    },
    {
      "cell_type": "code",
      "metadata": {
        "id": "4uh4BXCEi14t"
      },
      "source": [
        "df_validation = df_validation.drop(columns='Unnamed: 0')"
      ],
      "execution_count": 68,
      "outputs": []
    },
    {
      "cell_type": "code",
      "metadata": {
        "id": "wAFIWJezAm1v"
      },
      "source": [
        "df_test = df_test.drop(columns='Unnamed: 0')"
      ],
      "execution_count": 69,
      "outputs": []
    },
    {
      "cell_type": "code",
      "metadata": {
        "id": "8kLT2mGgAm1y"
      },
      "source": [
        "df_train = df_train.replace({'Rec': {'Torace':'TORACE', 'BONEa': 'BONE', 'OSSO':'BONE', 'PARENCHIMAb':'PARENCHIMA', 'osso':'BONE',\n",
        "                        'PARENCHIMAa': 'PARENCHIMA', 'TORACEa': 'TORACE', 'torace': 'TORACE', 'Embolia': 'EMBOLIA',\n",
        "                        'bone': 'BONE', '50ML':'ULTRAVIST', '60ml': 'ULTRAVIST', '60ML':'ULTRAVIST', '70ml': 'ULTRAVIST',\n",
        "                        '70': 'ULTRAVIST', '80ML': 'ULTRAVIST', '70ML': 'ULTRAVIST', '100ml': 'ULTRAVIST', '7OML': 'ULTRAVIST',\n",
        "                        'ULTRA': 'ULTRAVIST', 'std': 'STD', 'ax':'AX', '50ml': 'ULTRAVIST', 'mop':'LUNG', 'STND': 'STD',\n",
        "                        'TC': 'TORACE', 'AX': 'BONE', 'RETRO':'BONE', '00': '06', '0': '06', '1': 'LUNG', '2': 'LUNG',\n",
        "                        'BASALE': 'TORACE', 'TORACE':'STD', 'SENZA': 'STD'}})"
      ],
      "execution_count": 70,
      "outputs": []
    },
    {
      "cell_type": "code",
      "metadata": {
        "id": "miX7SOYrAm10"
      },
      "source": [
        "def retrieve_rec(df, rec):\n",
        "    df = df.loc[df.Rec == rec.upper()]\n",
        "    return df"
      ],
      "execution_count": 71,
      "outputs": []
    },
    {
      "cell_type": "code",
      "metadata": {
        "id": "MGaxL2TsAm2A"
      },
      "source": [
        "from sklearn.model_selection import train_test_split"
      ],
      "execution_count": 72,
      "outputs": []
    },
    {
      "cell_type": "code",
      "metadata": {
        "id": "fxY0Q5raAm2C"
      },
      "source": [
        "import seaborn as sns"
      ],
      "execution_count": 73,
      "outputs": []
    },
    {
      "cell_type": "code",
      "metadata": {
        "id": "uJZPabR885R6"
      },
      "source": [
        "# plot first extracted feature"
      ],
      "execution_count": 74,
      "outputs": []
    },
    {
      "cell_type": "code",
      "metadata": {
        "id": "nGEtCh2yAm2E",
        "colab": {
          "base_uri": "https://localhost:8080/",
          "height": 847
        },
        "outputId": "13ff7377-0c6c-4e9d-93b0-bbba221ae1eb"
      },
      "source": [
        "plt.figure(figsize=(20,10))\n",
        "plt.grid()\n",
        "for i,j in df_train.groupby(['41']):\n",
        "    sns.distplot(j['1'], bins=20, label=str(i)+ ' train')\n",
        "for i,j in df_validation.groupby(['41']):\n",
        "    sns.distplot(j['1'], bins=20, label=str(i)+ ' validation')    \n",
        "for i,j in df_test.groupby(['41']):\n",
        "    sns.distplot(j['1'], bins=20, label=str(i)+ ' test') \n",
        "plt.legend()"
      ],
      "execution_count": 75,
      "outputs": [
        {
          "output_type": "stream",
          "text": [
            "/usr/local/lib/python3.7/dist-packages/seaborn/distributions.py:2557: FutureWarning: `distplot` is a deprecated function and will be removed in a future version. Please adapt your code to use either `displot` (a figure-level function with similar flexibility) or `histplot` (an axes-level function for histograms).\n",
            "  warnings.warn(msg, FutureWarning)\n",
            "/usr/local/lib/python3.7/dist-packages/seaborn/distributions.py:2557: FutureWarning: `distplot` is a deprecated function and will be removed in a future version. Please adapt your code to use either `displot` (a figure-level function with similar flexibility) or `histplot` (an axes-level function for histograms).\n",
            "  warnings.warn(msg, FutureWarning)\n",
            "/usr/local/lib/python3.7/dist-packages/seaborn/distributions.py:2557: FutureWarning: `distplot` is a deprecated function and will be removed in a future version. Please adapt your code to use either `displot` (a figure-level function with similar flexibility) or `histplot` (an axes-level function for histograms).\n",
            "  warnings.warn(msg, FutureWarning)\n",
            "/usr/local/lib/python3.7/dist-packages/seaborn/distributions.py:2557: FutureWarning: `distplot` is a deprecated function and will be removed in a future version. Please adapt your code to use either `displot` (a figure-level function with similar flexibility) or `histplot` (an axes-level function for histograms).\n",
            "  warnings.warn(msg, FutureWarning)\n",
            "/usr/local/lib/python3.7/dist-packages/seaborn/distributions.py:2557: FutureWarning: `distplot` is a deprecated function and will be removed in a future version. Please adapt your code to use either `displot` (a figure-level function with similar flexibility) or `histplot` (an axes-level function for histograms).\n",
            "  warnings.warn(msg, FutureWarning)\n",
            "/usr/local/lib/python3.7/dist-packages/seaborn/distributions.py:2557: FutureWarning: `distplot` is a deprecated function and will be removed in a future version. Please adapt your code to use either `displot` (a figure-level function with similar flexibility) or `histplot` (an axes-level function for histograms).\n",
            "  warnings.warn(msg, FutureWarning)\n"
          ],
          "name": "stderr"
        },
        {
          "output_type": "execute_result",
          "data": {
            "text/plain": [
              "<matplotlib.legend.Legend at 0x7f7c255a5810>"
            ]
          },
          "metadata": {
            "tags": []
          },
          "execution_count": 75
        },
        {
          "output_type": "display_data",
          "data": {
            "image/png": "[encoded data removed]",
            "text/plain": [
              "<Figure size 1440x720 with 1 Axes>"
            ]
          },
          "metadata": {
            "tags": [],
            "needs_background": "light"
          }
        }
      ]
    },
    {
      "cell_type": "code",
      "metadata": {
        "id": "WcXhltnmAm2H",
        "colab": {
          "base_uri": "https://localhost:8080/",
          "height": 847
        },
        "outputId": "dd359545-5e30-4b57-84bd-699bf69cd1cb"
      },
      "source": [
        "plt.figure(figsize=(20,10))\n",
        "plt.grid()\n",
        "for i,j in df_train.groupby(['41']):\n",
        "    sns.distplot(j['2'], bins=20, label=str(i)+ ' train')\n",
        "for i,j in df_validation.groupby(['41']):\n",
        "    sns.distplot(j['2'], bins=20, label=str(i)+ ' validation')     \n",
        "for i,j in df_test.groupby(['41']):\n",
        "    sns.distplot(j['2'], bins=20, label=str(i)+ ' test')     \n",
        "plt.legend()"
      ],
      "execution_count": 76,
      "outputs": [
        {
          "output_type": "stream",
          "text": [
            "/usr/local/lib/python3.7/dist-packages/seaborn/distributions.py:2557: FutureWarning: `distplot` is a deprecated function and will be removed in a future version. Please adapt your code to use either `displot` (a figure-level function with similar flexibility) or `histplot` (an axes-level function for histograms).\n",
            "  warnings.warn(msg, FutureWarning)\n",
            "/usr/local/lib/python3.7/dist-packages/seaborn/distributions.py:2557: FutureWarning: `distplot` is a deprecated function and will be removed in a future version. Please adapt your code to use either `displot` (a figure-level function with similar flexibility) or `histplot` (an axes-level function for histograms).\n",
            "  warnings.warn(msg, FutureWarning)\n",
            "/usr/local/lib/python3.7/dist-packages/seaborn/distributions.py:2557: FutureWarning: `distplot` is a deprecated function and will be removed in a future version. Please adapt your code to use either `displot` (a figure-level function with similar flexibility) or `histplot` (an axes-level function for histograms).\n",
            "  warnings.warn(msg, FutureWarning)\n",
            "/usr/local/lib/python3.7/dist-packages/seaborn/distributions.py:2557: FutureWarning: `distplot` is a deprecated function and will be removed in a future version. Please adapt your code to use either `displot` (a figure-level function with similar flexibility) or `histplot` (an axes-level function for histograms).\n",
            "  warnings.warn(msg, FutureWarning)\n",
            "/usr/local/lib/python3.7/dist-packages/seaborn/distributions.py:2557: FutureWarning: `distplot` is a deprecated function and will be removed in a future version. Please adapt your code to use either `displot` (a figure-level function with similar flexibility) or `histplot` (an axes-level function for histograms).\n",
            "  warnings.warn(msg, FutureWarning)\n",
            "/usr/local/lib/python3.7/dist-packages/seaborn/distributions.py:2557: FutureWarning: `distplot` is a deprecated function and will be removed in a future version. Please adapt your code to use either `displot` (a figure-level function with similar flexibility) or `histplot` (an axes-level function for histograms).\n",
            "  warnings.warn(msg, FutureWarning)\n"
          ],
          "name": "stderr"
        },
        {
          "output_type": "execute_result",
          "data": {
            "text/plain": [
              "<matplotlib.legend.Legend at 0x7f7afb4c0390>"
            ]
          },
          "metadata": {
            "tags": []
          },
          "execution_count": 76
        },
        {
          "output_type": "display_data",
          "data": {
            "image/png": "[encoded data removed]",
            "text/plain": [
              "<Figure size 1440x720 with 1 Axes>"
            ]
          },
          "metadata": {
            "tags": [],
            "needs_background": "light"
          }
        }
      ]
    },
    {
      "cell_type": "code",
      "metadata": {
        "id": "IkBG0IPEAm2J",
        "colab": {
          "base_uri": "https://localhost:8080/",
          "height": 847
        },
        "outputId": "23dc1a31-dbd6-4d99-df7d-3be5ef729ad6"
      },
      "source": [
        "plt.figure(figsize=(20,10))\n",
        "plt.grid()\n",
        "for i,j in df_train.groupby(['41']):\n",
        "    sns.distplot(j['14'], bins=30, label=str(i)+ ' train')\n",
        "for i,j in df_validation.groupby(['41']):\n",
        "    sns.distplot(j['14'], bins=30, label=str(i)+ ' validation')  \n",
        "for i,j in df_test.groupby(['41']):\n",
        "    sns.distplot(j['14'], bins=30, label=str(i)+ ' test')  \n",
        "plt.legend()"
      ],
      "execution_count": 77,
      "outputs": [
        {
          "output_type": "stream",
          "text": [
            "/usr/local/lib/python3.7/dist-packages/seaborn/distributions.py:2557: FutureWarning: `distplot` is a deprecated function and will be removed in a future version. Please adapt your code to use either `displot` (a figure-level function with similar flexibility) or `histplot` (an axes-level function for histograms).\n",
            "  warnings.warn(msg, FutureWarning)\n",
            "/usr/local/lib/python3.7/dist-packages/seaborn/distributions.py:2557: FutureWarning: `distplot` is a deprecated function and will be removed in a future version. Please adapt your code to use either `displot` (a figure-level function with similar flexibility) or `histplot` (an axes-level function for histograms).\n",
            "  warnings.warn(msg, FutureWarning)\n",
            "/usr/local/lib/python3.7/dist-packages/seaborn/distributions.py:2557: FutureWarning: `distplot` is a deprecated function and will be removed in a future version. Please adapt your code to use either `displot` (a figure-level function with similar flexibility) or `histplot` (an axes-level function for histograms).\n",
            "  warnings.warn(msg, FutureWarning)\n",
            "/usr/local/lib/python3.7/dist-packages/seaborn/distributions.py:2557: FutureWarning: `distplot` is a deprecated function and will be removed in a future version. Please adapt your code to use either `displot` (a figure-level function with similar flexibility) or `histplot` (an axes-level function for histograms).\n",
            "  warnings.warn(msg, FutureWarning)\n",
            "/usr/local/lib/python3.7/dist-packages/seaborn/distributions.py:2557: FutureWarning: `distplot` is a deprecated function and will be removed in a future version. Please adapt your code to use either `displot` (a figure-level function with similar flexibility) or `histplot` (an axes-level function for histograms).\n",
            "  warnings.warn(msg, FutureWarning)\n",
            "/usr/local/lib/python3.7/dist-packages/seaborn/distributions.py:2557: FutureWarning: `distplot` is a deprecated function and will be removed in a future version. Please adapt your code to use either `displot` (a figure-level function with similar flexibility) or `histplot` (an axes-level function for histograms).\n",
            "  warnings.warn(msg, FutureWarning)\n"
          ],
          "name": "stderr"
        },
        {
          "output_type": "execute_result",
          "data": {
            "text/plain": [
              "<matplotlib.legend.Legend at 0x7f7af9a58f90>"
            ]
          },
          "metadata": {
            "tags": []
          },
          "execution_count": 77
        },
        {
          "output_type": "display_data",
          "data": {
            "image/png": "[encoded data removed]",
            "text/plain": [
              "<Figure size 1440x720 with 1 Axes>"
            ]
          },
          "metadata": {
            "tags": [],
            "needs_background": "light"
          }
        }
      ]
    },
    {
      "cell_type": "code",
      "metadata": {
        "id": "v2H86-nQAm2d"
      },
      "source": [
        "# Use PCA for dimensionality reduction\n",
        "from sklearn.decomposition import PCA"
      ],
      "execution_count": 78,
      "outputs": []
    },
    {
      "cell_type": "code",
      "metadata": {
        "id": "7r9m6gBRjCh_"
      },
      "source": [
        "pca = PCA(n_components=5)"
      ],
      "execution_count": 79,
      "outputs": []
    },
    {
      "cell_type": "code",
      "metadata": {
        "id": "pPCB00XwxezE"
      },
      "source": [
        "df_pca_train = df_train.drop(columns=['41'])"
      ],
      "execution_count": 80,
      "outputs": []
    },
    {
      "cell_type": "code",
      "metadata": {
        "id": "Zih-12cZA1NF"
      },
      "source": [
        "df_pca_train = df_pca_train.drop(columns=['0'])"
      ],
      "execution_count": 81,
      "outputs": []
    },
    {
      "cell_type": "code",
      "metadata": {
        "id": "wyFMoP0RBR7e"
      },
      "source": [
        "from sklearn.preprocessing import MinMaxScaler\n",
        "scaler = MinMaxScaler()\n",
        "\n",
        "df_2_train = scaler.fit_transform(df_pca_train)"
      ],
      "execution_count": 82,
      "outputs": []
    },
    {
      "cell_type": "code",
      "metadata": {
        "id": "JSp9pDHoBegA"
      },
      "source": [
        "projected_train = pca.fit_transform(df_2_train)"
      ],
      "execution_count": 83,
      "outputs": []
    },
    {
      "cell_type": "code",
      "metadata": {
        "id": "7-a1lqYUSLf2"
      },
      "source": [
        "projected_df_train = pd.DataFrame(projected_train, columns=[\"x_1\", \"x_2\", \"x_3\", \"x_4\", \"x_5\"])"
      ],
      "execution_count": 84,
      "outputs": []
    },
    {
      "cell_type": "code",
      "metadata": {
        "id": "I75HEJ4qAm2o",
        "colab": {
          "base_uri": "https://localhost:8080/",
          "height": 204
        },
        "outputId": "0d7484f7-6bbf-4d63-f008-67d80be415d2"
      },
      "source": [
        "projected_df_train.head()"
      ],
      "execution_count": 85,
      "outputs": [
        {
          "output_type": "execute_result",
          "data": {
            "text/html": [
              "<div>\n",
              "<style scoped>\n",
              "    .dataframe tbody tr th:only-of-type {\n",
              "        vertical-align: middle;\n",
              "    }\n",
              "\n",
              "    .dataframe tbody tr th {\n",
              "        vertical-align: top;\n",
              "    }\n",
              "\n",
              "    .dataframe thead th {\n",
              "        text-align: right;\n",
              "    }\n",
              "</style>\n",
              "<table border=\"1\" class=\"dataframe\">\n",
              "  <thead>\n",
              "    <tr style=\"text-align: right;\">\n",
              "      <th></th>\n",
              "      <th>x_1</th>\n",
              "      <th>x_2</th>\n",
              "      <th>x_3</th>\n",
              "      <th>x_4</th>\n",
              "      <th>x_5</th>\n",
              "    </tr>\n",
              "  </thead>\n",
              "  <tbody>\n",
              "    <tr>\n",
              "      <th>0</th>\n",
              "      <td>-0.352287</td>\n",
              "      <td>0.021740</td>\n",
              "      <td>0.076840</td>\n",
              "      <td>-0.421505</td>\n",
              "      <td>-0.264456</td>\n",
              "    </tr>\n",
              "    <tr>\n",
              "      <th>1</th>\n",
              "      <td>-1.123089</td>\n",
              "      <td>-0.215859</td>\n",
              "      <td>0.028103</td>\n",
              "      <td>0.064751</td>\n",
              "      <td>-0.109103</td>\n",
              "    </tr>\n",
              "    <tr>\n",
              "      <th>2</th>\n",
              "      <td>-1.519729</td>\n",
              "      <td>-0.125908</td>\n",
              "      <td>0.043151</td>\n",
              "      <td>0.056560</td>\n",
              "      <td>0.383059</td>\n",
              "    </tr>\n",
              "    <tr>\n",
              "      <th>3</th>\n",
              "      <td>-1.042389</td>\n",
              "      <td>0.330535</td>\n",
              "      <td>0.335413</td>\n",
              "      <td>-0.635527</td>\n",
              "      <td>-0.196290</td>\n",
              "    </tr>\n",
              "    <tr>\n",
              "      <th>4</th>\n",
              "      <td>-0.103531</td>\n",
              "      <td>0.566742</td>\n",
              "      <td>0.416965</td>\n",
              "      <td>-0.091835</td>\n",
              "      <td>0.066042</td>\n",
              "    </tr>\n",
              "  </tbody>\n",
              "</table>\n",
              "</div>"
            ],
            "text/plain": [
              "        x_1       x_2       x_3       x_4       x_5\n",
              "0 -0.352287  0.021740  0.076840 -0.421505 -0.264456\n",
              "1 -1.123089 -0.215859  0.028103  0.064751 -0.109103\n",
              "2 -1.519729 -0.125908  0.043151  0.056560  0.383059\n",
              "3 -1.042389  0.330535  0.335413 -0.635527 -0.196290\n",
              "4 -0.103531  0.566742  0.416965 -0.091835  0.066042"
            ]
          },
          "metadata": {
            "tags": []
          },
          "execution_count": 85
        }
      ]
    },
    {
      "cell_type": "code",
      "metadata": {
        "id": "IPrA4OewSNaE"
      },
      "source": [
        "projected_df_train.insert(5, \"Esito\", df_train['41'].values, True) "
      ],
      "execution_count": 86,
      "outputs": []
    },
    {
      "cell_type": "code",
      "metadata": {
        "id": "-aMgsfaOSP29"
      },
      "source": [
        ""
      ],
      "execution_count": 86,
      "outputs": []
    },
    {
      "cell_type": "code",
      "metadata": {
        "id": "6WyrTst8Am2u",
        "colab": {
          "base_uri": "https://localhost:8080/",
          "height": 297
        },
        "outputId": "f425b418-40b6-49be-b22b-ab4f54af8047"
      },
      "source": [
        "sns.scatterplot( x=\"x_1\", y=\"x_2\",\n",
        "  data=projected_df_train,  \n",
        "  hue='Esito',\n",
        "  legend='full',\n",
        "  alpha=0.4)"
      ],
      "execution_count": 87,
      "outputs": [
        {
          "output_type": "execute_result",
          "data": {
            "text/plain": [
              "<matplotlib.axes._subplots.AxesSubplot at 0x7f7af53f7d10>"
            ]
          },
          "metadata": {
            "tags": []
          },
          "execution_count": 87
        },
        {
          "output_type": "display_data",
          "data": {
            "image/png": "[encoded data removed]",
            "text/plain": [
              "<Figure size 432x288 with 1 Axes>"
            ]
          },
          "metadata": {
            "tags": [],
            "needs_background": "light"
          }
        }
      ]
    },
    {
      "cell_type": "code",
      "metadata": {
        "id": "aTPWOUSjAm2w"
      },
      "source": [
        "df_pca_validation = df_validation.drop(columns=['41'])\n",
        "df_pca_test = df_test.drop(columns=['41'])"
      ],
      "execution_count": 88,
      "outputs": []
    },
    {
      "cell_type": "code",
      "metadata": {
        "id": "tXb8max6Am2z"
      },
      "source": [
        "df_pca_validation = df_pca_validation.drop(columns=['0'])\n",
        "df_pca_test = df_pca_test.drop(columns=['0'])"
      ],
      "execution_count": 89,
      "outputs": []
    },
    {
      "cell_type": "code",
      "metadata": {
        "id": "sLeOciGoAm21"
      },
      "source": [
        "df_2_validation = scaler.transform(df_pca_validation)\n",
        "projected_validation = pca.transform(df_2_validation)\n",
        "\n",
        "df_2_test = scaler.transform(df_pca_test)\n",
        "projected_test = pca.transform(df_2_test)"
      ],
      "execution_count": 90,
      "outputs": []
    },
    {
      "cell_type": "code",
      "metadata": {
        "id": "_3RSj1xUAm23"
      },
      "source": [
        "projected_df_validation = pd.DataFrame(projected_validation, columns=[\"x_1\", \"x_2\", \"x_3\", \"x_4\", \"x_5\"])\n",
        "projected_df_test = pd.DataFrame(projected_test, columns=[\"x_1\", \"x_2\", \"x_3\", \"x_4\", \"x_5\"])"
      ],
      "execution_count": 91,
      "outputs": []
    },
    {
      "cell_type": "code",
      "metadata": {
        "id": "aTnBVsgaAm24"
      },
      "source": [
        "projected_df_validation.insert(5, \"Esito\", df_validation['41'].values, True) \n",
        "projected_df_test.insert(5, \"Esito\", df_test['41'].values, True) "
      ],
      "execution_count": 92,
      "outputs": []
    },
    {
      "cell_type": "code",
      "metadata": {
        "id": "szY6qQtaSRwl",
        "colab": {
          "base_uri": "https://localhost:8080/",
          "height": 297
        },
        "outputId": "ff2ac2d9-0f11-4fe1-8cd8-110e2bf2e935"
      },
      "source": [
        "sns.scatterplot( x=\"x_1\", y=\"x_2\",\n",
        "  data=projected_df_validation,  \n",
        "  hue='Esito',\n",
        "  legend='full',\n",
        "  alpha=0.4)"
      ],
      "execution_count": 93,
      "outputs": [
        {
          "output_type": "execute_result",
          "data": {
            "text/plain": [
              "<matplotlib.axes._subplots.AxesSubplot at 0x7f7af53f2c50>"
            ]
          },
          "metadata": {
            "tags": []
          },
          "execution_count": 93
        },
        {
          "output_type": "display_data",
          "data": {
            "image/png": "[encoded data removed]",
            "text/plain": [
              "<Figure size 432x288 with 1 Axes>"
            ]
          },
          "metadata": {
            "tags": [],
            "needs_background": "light"
          }
        }
      ]
    },
    {
      "cell_type": "code",
      "metadata": {
        "id": "ORIHwyDExVaC",
        "colab": {
          "base_uri": "https://localhost:8080/",
          "height": 204
        },
        "outputId": "c7fc2f70-356f-42d5-a0ad-4eda99d45068"
      },
      "source": [
        "projected_df_test.head()"
      ],
      "execution_count": 94,
      "outputs": [
        {
          "output_type": "execute_result",
          "data": {
            "text/html": [
              "<div>\n",
              "<style scoped>\n",
              "    .dataframe tbody tr th:only-of-type {\n",
              "        vertical-align: middle;\n",
              "    }\n",
              "\n",
              "    .dataframe tbody tr th {\n",
              "        vertical-align: top;\n",
              "    }\n",
              "\n",
              "    .dataframe thead th {\n",
              "        text-align: right;\n",
              "    }\n",
              "</style>\n",
              "<table border=\"1\" class=\"dataframe\">\n",
              "  <thead>\n",
              "    <tr style=\"text-align: right;\">\n",
              "      <th></th>\n",
              "      <th>x_1</th>\n",
              "      <th>x_2</th>\n",
              "      <th>x_3</th>\n",
              "      <th>x_4</th>\n",
              "      <th>x_5</th>\n",
              "      <th>Esito</th>\n",
              "    </tr>\n",
              "  </thead>\n",
              "  <tbody>\n",
              "    <tr>\n",
              "      <th>0</th>\n",
              "      <td>0.905638</td>\n",
              "      <td>0.108435</td>\n",
              "      <td>0.276765</td>\n",
              "      <td>0.026647</td>\n",
              "      <td>0.377432</td>\n",
              "      <td>1.0</td>\n",
              "    </tr>\n",
              "    <tr>\n",
              "      <th>1</th>\n",
              "      <td>0.669177</td>\n",
              "      <td>0.179852</td>\n",
              "      <td>-1.013334</td>\n",
              "      <td>0.581169</td>\n",
              "      <td>-0.251145</td>\n",
              "      <td>0.0</td>\n",
              "    </tr>\n",
              "    <tr>\n",
              "      <th>2</th>\n",
              "      <td>0.553495</td>\n",
              "      <td>-0.279194</td>\n",
              "      <td>0.470302</td>\n",
              "      <td>-0.408934</td>\n",
              "      <td>0.705828</td>\n",
              "      <td>1.0</td>\n",
              "    </tr>\n",
              "    <tr>\n",
              "      <th>3</th>\n",
              "      <td>-0.129090</td>\n",
              "      <td>0.352573</td>\n",
              "      <td>0.137532</td>\n",
              "      <td>0.490040</td>\n",
              "      <td>-0.073411</td>\n",
              "      <td>1.0</td>\n",
              "    </tr>\n",
              "    <tr>\n",
              "      <th>4</th>\n",
              "      <td>-0.345050</td>\n",
              "      <td>0.645391</td>\n",
              "      <td>-0.350537</td>\n",
              "      <td>0.051127</td>\n",
              "      <td>-0.085951</td>\n",
              "      <td>0.0</td>\n",
              "    </tr>\n",
              "  </tbody>\n",
              "</table>\n",
              "</div>"
            ],
            "text/plain": [
              "        x_1       x_2       x_3       x_4       x_5  Esito\n",
              "0  0.905638  0.108435  0.276765  0.026647  0.377432    1.0\n",
              "1  0.669177  0.179852 -1.013334  0.581169 -0.251145    0.0\n",
              "2  0.553495 -0.279194  0.470302 -0.408934  0.705828    1.0\n",
              "3 -0.129090  0.352573  0.137532  0.490040 -0.073411    1.0\n",
              "4 -0.345050  0.645391 -0.350537  0.051127 -0.085951    0.0"
            ]
          },
          "metadata": {
            "tags": []
          },
          "execution_count": 94
        }
      ]
    },
    {
      "cell_type": "code",
      "metadata": {
        "id": "pkxEPKpo1u8i",
        "colab": {
          "base_uri": "https://localhost:8080/",
          "height": 297
        },
        "outputId": "e99e6d26-c686-4459-b7f8-6b50ae2948ed"
      },
      "source": [
        "sns.scatterplot( x=\"x_1\", y=\"x_2\",\n",
        "  data=projected_df_test,  \n",
        "  hue='Esito',\n",
        "  legend='full',\n",
        "  alpha=0.4)"
      ],
      "execution_count": 95,
      "outputs": [
        {
          "output_type": "execute_result",
          "data": {
            "text/plain": [
              "<matplotlib.axes._subplots.AxesSubplot at 0x7f7af53f2350>"
            ]
          },
          "metadata": {
            "tags": []
          },
          "execution_count": 95
        },
        {
          "output_type": "display_data",
          "data": {
            "image/png": "[encoded data removed]",
            "text/plain": [
              "<Figure size 432x288 with 1 Axes>"
            ]
          },
          "metadata": {
            "tags": [],
            "needs_background": "light"
          }
        }
      ]
    },
    {
      "cell_type": "code",
      "metadata": {
        "id": "B0vmARZd98jt"
      },
      "source": [
        "import matplotlib.pyplot as plt\n",
        "plt.rcParams.update({'font.size': 24})"
      ],
      "execution_count": 96,
      "outputs": []
    },
    {
      "cell_type": "code",
      "metadata": {
        "id": "deC2KBcpxQyF",
        "colab": {
          "base_uri": "https://localhost:8080/",
          "height": 824
        },
        "outputId": "4f428e79-6869-4456-f708-bfb088692c5a"
      },
      "source": [
        "plt.figure(figsize=(20,10))\n",
        "plt.grid()\n",
        "for i,j in projected_df_train.groupby(['Esito']):\n",
        "    print(i)\n",
        "    if i == 0:\n",
        "      labels = 'non-ICU'\n",
        "    else:\n",
        "      labels = 'ICU'\n",
        "    sns.distplot(j['x_1'], bins=15, label=labels + ' Train')\n",
        "\n",
        "for i,j in projected_df_validation.groupby(['Esito']):\n",
        "      if i == 0:\n",
        "        labels = 'non-ICU'\n",
        "      else:\n",
        "        labels = 'ICU'\n",
        "      sns.distplot(j['x_1'], bins=15, label=labels + ' Validation')\n",
        "plt.xlabel(\"First PCA Component\")\n",
        "plt.legend()\n",
        "plt.savefig('First_PCA.pdf')"
      ],
      "execution_count": 97,
      "outputs": [
        {
          "output_type": "stream",
          "text": [
            "0.0\n",
            "1.0\n"
          ],
          "name": "stdout"
        },
        {
          "output_type": "stream",
          "text": [
            "/usr/local/lib/python3.7/dist-packages/seaborn/distributions.py:2557: FutureWarning: `distplot` is a deprecated function and will be removed in a future version. Please adapt your code to use either `displot` (a figure-level function with similar flexibility) or `histplot` (an axes-level function for histograms).\n",
            "  warnings.warn(msg, FutureWarning)\n",
            "/usr/local/lib/python3.7/dist-packages/seaborn/distributions.py:2557: FutureWarning: `distplot` is a deprecated function and will be removed in a future version. Please adapt your code to use either `displot` (a figure-level function with similar flexibility) or `histplot` (an axes-level function for histograms).\n",
            "  warnings.warn(msg, FutureWarning)\n",
            "/usr/local/lib/python3.7/dist-packages/seaborn/distributions.py:2557: FutureWarning: `distplot` is a deprecated function and will be removed in a future version. Please adapt your code to use either `displot` (a figure-level function with similar flexibility) or `histplot` (an axes-level function for histograms).\n",
            "  warnings.warn(msg, FutureWarning)\n",
            "/usr/local/lib/python3.7/dist-packages/seaborn/distributions.py:2557: FutureWarning: `distplot` is a deprecated function and will be removed in a future version. Please adapt your code to use either `displot` (a figure-level function with similar flexibility) or `histplot` (an axes-level function for histograms).\n",
            "  warnings.warn(msg, FutureWarning)\n"
          ],
          "name": "stderr"
        },
        {
          "output_type": "display_data",
          "data": {
            "image/png": "[encoded data removed]",
            "text/plain": [
              "<Figure size 1440x720 with 1 Axes>"
            ]
          },
          "metadata": {
            "tags": [],
            "needs_background": "light"
          }
        }
      ]
    },
    {
      "cell_type": "code",
      "metadata": {
        "id": "P6b0poEsAm27"
      },
      "source": [
        "cmap = sns.cubehelix_palette(dark=.3, light=.8, as_cmap=True)"
      ],
      "execution_count": 98,
      "outputs": []
    },
    {
      "cell_type": "code",
      "metadata": {
        "id": "IOl1L0QnAm28",
        "colab": {
          "base_uri": "https://localhost:8080/",
          "height": 651
        },
        "outputId": "33b2713d-0a20-4be2-c398-c9f8aa23e23b"
      },
      "source": [
        "plt.figure(figsize=(20,10))\n",
        "plt.grid()\n",
        "sns.scatterplot( x=\"x_1\", y=\"x_2\",\n",
        "  data=projected_df_train,  \n",
        "  hue='Esito',\n",
        "  legend='full',\n",
        "  alpha=0.2,\n",
        "  palette='hls',\n",
        "  s=150)\n",
        "sns.scatterplot( x=\"x_1\", y=\"x_2\",\n",
        "  data=projected_df_test,  \n",
        "  hue='Esito',\n",
        "  legend='full',\n",
        "  alpha=0.5,\n",
        "  s = 80)"
      ],
      "execution_count": 99,
      "outputs": [
        {
          "output_type": "execute_result",
          "data": {
            "text/plain": [
              "<matplotlib.axes._subplots.AxesSubplot at 0x7f7af52f6290>"
            ]
          },
          "metadata": {
            "tags": []
          },
          "execution_count": 99
        },
        {
          "output_type": "display_data",
          "data": {
            "image/png": "[encoded data removed]",
            "text/plain": [
              "<Figure size 1440x720 with 1 Axes>"
            ]
          },
          "metadata": {
            "tags": [],
            "needs_background": "light"
          }
        }
      ]
    },
    {
      "cell_type": "code",
      "metadata": {
        "id": "pmLZ5VC4Am2_"
      },
      "source": [
        "X_train_pca, X_test_pca, y_train_pca, y_test_pca = projected_df_train[[\"x_1\", \"x_2\"]], projected_df_validation[[\"x_1\", \"x_2\"]], projected_df_train['Esito'], projected_df_validation['Esito']"
      ],
      "execution_count": 100,
      "outputs": []
    },
    {
      "cell_type": "code",
      "metadata": {
        "id": "ihZvh-QFAm3A",
        "colab": {
          "base_uri": "https://localhost:8080/",
          "height": 204
        },
        "outputId": "5c4652d2-efed-4f53-c74c-00618857d2c2"
      },
      "source": [
        "X_train_pca.head()"
      ],
      "execution_count": 101,
      "outputs": [
        {
          "output_type": "execute_result",
          "data": {
            "text/html": [
              "<div>\n",
              "<style scoped>\n",
              "    .dataframe tbody tr th:only-of-type {\n",
              "        vertical-align: middle;\n",
              "    }\n",
              "\n",
              "    .dataframe tbody tr th {\n",
              "        vertical-align: top;\n",
              "    }\n",
              "\n",
              "    .dataframe thead th {\n",
              "        text-align: right;\n",
              "    }\n",
              "</style>\n",
              "<table border=\"1\" class=\"dataframe\">\n",
              "  <thead>\n",
              "    <tr style=\"text-align: right;\">\n",
              "      <th></th>\n",
              "      <th>x_1</th>\n",
              "      <th>x_2</th>\n",
              "    </tr>\n",
              "  </thead>\n",
              "  <tbody>\n",
              "    <tr>\n",
              "      <th>0</th>\n",
              "      <td>-0.352287</td>\n",
              "      <td>0.021740</td>\n",
              "    </tr>\n",
              "    <tr>\n",
              "      <th>1</th>\n",
              "      <td>-1.123089</td>\n",
              "      <td>-0.215859</td>\n",
              "    </tr>\n",
              "    <tr>\n",
              "      <th>2</th>\n",
              "      <td>-1.519729</td>\n",
              "      <td>-0.125908</td>\n",
              "    </tr>\n",
              "    <tr>\n",
              "      <th>3</th>\n",
              "      <td>-1.042389</td>\n",
              "      <td>0.330535</td>\n",
              "    </tr>\n",
              "    <tr>\n",
              "      <th>4</th>\n",
              "      <td>-0.103531</td>\n",
              "      <td>0.566742</td>\n",
              "    </tr>\n",
              "  </tbody>\n",
              "</table>\n",
              "</div>"
            ],
            "text/plain": [
              "        x_1       x_2\n",
              "0 -0.352287  0.021740\n",
              "1 -1.123089 -0.215859\n",
              "2 -1.519729 -0.125908\n",
              "3 -1.042389  0.330535\n",
              "4 -0.103531  0.566742"
            ]
          },
          "metadata": {
            "tags": []
          },
          "execution_count": 101
        }
      ]
    },
    {
      "cell_type": "code",
      "metadata": {
        "id": "Tr9pN97CAm4G"
      },
      "source": [
        ""
      ],
      "execution_count": null,
      "outputs": []
    },
    {
      "cell_type": "code",
      "metadata": {
        "id": "qoES_MqTAm4H"
      },
      "source": [
        ""
      ],
      "execution_count": null,
      "outputs": []
    },
    {
      "cell_type": "code",
      "metadata": {
        "id": "o2jcG9t1Am4J"
      },
      "source": [
        ""
      ],
      "execution_count": null,
      "outputs": []
    },
    {
      "cell_type": "code",
      "metadata": {
        "id": "Tf5nPy1uAm4M"
      },
      "source": [
        ""
      ],
      "execution_count": null,
      "outputs": []
    },
    {
      "cell_type": "code",
      "metadata": {
        "id": "ISH6Oy9cAm4O"
      },
      "source": [
        ""
      ],
      "execution_count": null,
      "outputs": []
    }
  ]
}